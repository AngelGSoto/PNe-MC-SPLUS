{
 "cells": [
  {
   "cell_type": "code",
   "execution_count": 2,
   "id": "9a79666e-ad93-42ce-bcd8-e40f39323bc0",
   "metadata": {},
   "outputs": [
    {
     "name": "stderr",
     "output_type": "stream",
     "text": [
      "WARNING: AstropyDeprecationWarning: The update_default_config function is deprecated and may be removed in a future version. [astroquery._astropy_init]\n"
     ]
    }
   ],
   "source": [
    "import splusdata\n",
    "import getpass\n",
    "import pandas as pd\n",
    "from astropy.table import Table, vstack\n",
    "import numpy as np\n",
    "from pathlib import Path"
   ]
  },
  {
   "cell_type": "code",
   "execution_count": 4,
   "id": "39b96d67-7296-4a8d-9e0c-96fe08c63039",
   "metadata": {},
   "outputs": [
    {
     "name": "stdin",
     "output_type": "stream",
     "text": [
      "Login:  Luis\n",
      "Password:  ···········\n"
     ]
    },
    {
     "name": "stdout",
     "output_type": "stream",
     "text": [
      "You have access to internal data\n"
     ]
    }
   ],
   "source": [
    "# Connecting with SPLUS database\n",
    "username = input(prompt=\"Login: \")\n",
    "password = getpass.getpass(\"Password: \")\n",
    "conn = splusdata.connect(username, password)"
   ]
  },
  {
   "cell_type": "code",
   "execution_count": null,
   "id": "eb72b366-2c96-4fd2-ada4-86b7bb041ec0",
   "metadata": {},
   "outputs": [],
   "source": []
  },
  {
   "cell_type": "code",
   "execution_count": 5,
   "id": "8bc83f3d-63b6-4cbc-a5f6-eec80494ec9d",
   "metadata": {},
   "outputs": [],
   "source": [
    "for k, t in zip(riii, rfff):\n",
    "    Query = f\"\"\"SELECT r.Field, r.ID, r.RA_r, r.DEC_r, r.X_r, r.Y_r, r.s2n_r_psf, j660.s2n_J0660_psf,\n",
    "            i.s2n_i_psf, r.CLASS_STAR_r, i.CLASS_STAR_i, \n",
    "            r.r_psf, j660.J0660_psf, i.i_psf, r.e_r_psf, j660.e_J0660_psf, i.e_i_psf\n",
    "            FROM \"idr4_psf\".\"idr4_psf_r\" as r  \n",
    "            JOIN \"idr4_psf\".\"idr4_psf_j0660\" as j660 ON r.ID=j660.ID \n",
    "            JOIN \"idr4_psf\".\"idr4_psf_i\" as i ON r.ID=i.ID \n",
    "            WHERE r.Field LIKE 'MC%' AND CLASS_STAR_r >= 0.5 ND r_psf >= \"\"\" + str(k) + \"\"\" AND r_psf < \"\"\"  + str(t)  +  \"\"\"\n",
    "            AND e_r_psf <= 0.2 AND e_J0660_psf <= 0.2 AND e_i_psf <= 0.2 AND s2n_r_psf >= 3 AND s2n_J0660_psf >= 3 AND s2n_i_psf >= 3\"\"\""
   ]
  },
  {
   "cell_type": "code",
   "execution_count": 6,
   "id": "69dac824-9933-4212-bc1a-47ae284471ab",
   "metadata": {},
   "outputs": [
    {
     "name": "stdout",
     "output_type": "stream",
     "text": [
      "finished\n"
     ]
    }
   ],
   "source": [
    "results = conn.query(Query)"
   ]
  },
  {
   "cell_type": "code",
   "execution_count": 7,
   "id": "38aca9d4-4a50-4c15-b5a5-8c0875859d71",
   "metadata": {},
   "outputs": [
    {
     "data": {
      "text/html": [
       "<div><i>Table length=800000</i>\n",
       "<table id=\"table140609279095232\" class=\"table-striped table-bordered table-condensed\">\n",
       "<thead><tr><th>Field</th><th>ID</th><th>RA_r</th><th>DEC_r</th><th>X_r</th><th>Y_r</th><th>s2n_r_psf</th><th>s2n_J0660_psf</th><th>s2n_i_psf</th><th>CLASS_STAR_r</th><th>CLASS_STAR_i</th><th>r_psf</th><th>J0660_psf</th><th>i_psf</th><th>e_r_psf</th><th>e_J0660_psf</th><th>e_i_psf</th></tr></thead>\n",
       "<thead><tr><th>bytes6</th><th>bytes21</th><th>float32</th><th>float32</th><th>float32</th><th>float32</th><th>float32</th><th>float32</th><th>float32</th><th>int32</th><th>int32</th><th>float32</th><th>float32</th><th>float32</th><th>float32</th><th>float32</th><th>float32</th></tr></thead>\n",
       "<tr><td>MC0026</td><td>iDR4_3_MC0026_0045376</td><td>86.13471</td><td>-66.05277</td><td>9065.54</td><td>4222.08</td><td>90.25</td><td>72.2</td><td>77.35714</td><td>1</td><td>1</td><td>17.549356</td><td>17.450357</td><td>17.185623</td><td>0.012</td><td>0.015</td><td>0.014</td></tr>\n",
       "<tr><td>MC0026</td><td>iDR4_3_MC0026_0047312</td><td>88.30197</td><td>-65.9625</td><td>3300.04</td><td>4836.64</td><td>45.125</td><td>36.1</td><td>40.11111</td><td>1</td><td>1</td><td>18.465647</td><td>18.361647</td><td>18.211887</td><td>0.024</td><td>0.03</td><td>0.027</td></tr>\n",
       "<tr><td>MC0026</td><td>iDR4_3_MC0026_0047658</td><td>88.30255</td><td>-65.94724</td><td>3297.18</td><td>4936.46</td><td>90.25</td><td>67.6875</td><td>98.454544</td><td>1</td><td>1</td><td>17.595646</td><td>17.484646</td><td>17.242887</td><td>0.012</td><td>0.016</td><td>0.011</td></tr>\n",
       "<tr><td>MC0026</td><td>iDR4_3_MC0026_0047803</td><td>87.776146</td><td>-65.94243</td><td>4701.32</td><td>4980.59</td><td>43.32</td><td>30.942858</td><td>40.11111</td><td>1</td><td>1</td><td>18.809021</td><td>18.73802</td><td>18.597755</td><td>0.025</td><td>0.035</td><td>0.027</td></tr>\n",
       "<tr><td>MC0026</td><td>iDR4_3_MC0026_0051022</td><td>87.872635</td><td>-65.78903</td><td>4437.53</td><td>5983.2</td><td>45.125</td><td>38.67857</td><td>49.227272</td><td>1</td><td>1</td><td>18.629103</td><td>18.608103</td><td>18.37707</td><td>0.024</td><td>0.028</td><td>0.022</td></tr>\n",
       "<tr><td>MC0026</td><td>iDR4_3_MC0026_0052189</td><td>85.73166</td><td>-65.73788</td><td>10193.44</td><td>6256.2</td><td>54.15</td><td>51.57143</td><td>54.15</td><td>1</td><td>1</td><td>18.195509</td><td>18.12051</td><td>17.893118</td><td>0.02</td><td>0.021</td><td>0.02</td></tr>\n",
       "<tr><td>MC0026</td><td>iDR4_3_MC0026_0054365</td><td>87.08546</td><td>-65.678986</td><td>6555.02</td><td>6703.56</td><td>51.57143</td><td>34.935482</td><td>45.125</td><td>1</td><td>1</td><td>18.608227</td><td>18.518227</td><td>18.292347</td><td>0.021</td><td>0.031</td><td>0.024</td></tr>\n",
       "<tr><td>MC0026</td><td>iDR4_3_MC0026_0054850</td><td>87.84016</td><td>-65.65776</td><td>4519.73</td><td>6842.92</td><td>67.6875</td><td>67.6875</td><td>77.35714</td><td>1</td><td>1</td><td>17.982164</td><td>17.877165</td><td>17.686144</td><td>0.016</td><td>0.016</td><td>0.014</td></tr>\n",
       "<tr><td>...</td><td>...</td><td>...</td><td>...</td><td>...</td><td>...</td><td>...</td><td>...</td><td>...</td><td>...</td><td>...</td><td>...</td><td>...</td><td>...</td><td>...</td><td>...</td><td>...</td></tr>\n",
       "<tr><td>MC0039</td><td>iDR4_3_MC0039_0081154</td><td>79.60468</td><td>-68.220924</td><td>1453.54</td><td>6828.79</td><td>31.852942</td><td>27.76923</td><td>28.5</td><td>1</td><td>1</td><td>18.267231</td><td>18.439232</td><td>18.45996</td><td>0.034</td><td>0.039</td><td>0.038</td></tr>\n",
       "<tr><td>MC0039</td><td>iDR4_3_MC0039_0081561</td><td>79.39829</td><td>-68.21128</td><td>1953.16</td><td>6904.62</td><td>72.2</td><td>67.6875</td><td>54.15</td><td>1</td><td>1</td><td>15.389134</td><td>15.344134</td><td>15.233215</td><td>0.015</td><td>0.016</td><td>0.02</td></tr>\n",
       "<tr><td>MC0039</td><td>iDR4_3_MC0039_0082029</td><td>76.80865</td><td>-68.19922</td><td>8246.06</td><td>7000.39</td><td>67.6875</td><td>49.227272</td><td>49.227272</td><td>1</td><td>1</td><td>16.375687</td><td>16.498686</td><td>16.666069</td><td>0.016</td><td>0.022</td><td>0.022</td></tr>\n",
       "<tr><td>MC0039</td><td>iDR4_3_MC0039_0082712</td><td>77.573204</td><td>-68.18014</td><td>6388.36</td><td>7147.81</td><td>28.5</td><td>29.27027</td><td>22.5625</td><td>1</td><td>1</td><td>17.916044</td><td>18.083433</td><td>18.151436</td><td>0.038</td><td>0.037</td><td>0.048</td></tr>\n",
       "<tr><td>MC0039</td><td>iDR4_3_MC0039_0083684</td><td>77.81516</td><td>-68.14953</td><td>5800.11</td><td>7350.49</td><td>72.2</td><td>63.705883</td><td>63.705883</td><td>1</td><td>1</td><td>15.329563</td><td>15.296563</td><td>15.16183</td><td>0.015</td><td>0.017</td><td>0.017</td></tr>\n",
       "<tr><td>MC0039</td><td>iDR4_3_MC0039_0084178</td><td>77.09471</td><td>-68.13225</td><td>7556.74</td><td>7449.83</td><td>31.852942</td><td>23.042553</td><td>20.826923</td><td>1</td><td>1</td><td>18.657475</td><td>18.842474</td><td>18.830465</td><td>0.034</td><td>0.047</td><td>0.052</td></tr>\n",
       "<tr><td>MC0039</td><td>iDR4_3_MC0039_0085813</td><td>77.34245</td><td>-68.08389</td><td>6955.83</td><td>7773.37</td><td>63.705883</td><td>47.086956</td><td>36.1</td><td>1</td><td>1</td><td>17.047682</td><td>17.202682</td><td>17.313051</td><td>0.017</td><td>0.023</td><td>0.03</td></tr>\n",
       "<tr><td>MC0039</td><td>iDR4_3_MC0039_0087295</td><td>76.39434</td><td>-68.02769</td><td>9281.16</td><td>8101.09</td><td>22.5625</td><td>18.672413</td><td>16.921875</td><td>1</td><td>1</td><td>17.965397</td><td>18.100395</td><td>18.220402</td><td>0.048</td><td>0.058</td><td>0.064</td></tr>\n",
       "</table></div>"
      ],
      "text/plain": [
       "<Table length=800000>\n",
       "Field            ID             RA_r     DEC_r      X_r      Y_r   s2n_r_psf s2n_J0660_psf s2n_i_psf CLASS_STAR_r CLASS_STAR_i   r_psf   J0660_psf   i_psf   e_r_psf e_J0660_psf e_i_psf\n",
       "bytes6        bytes21         float32   float32   float32  float32  float32     float32     float32     int32        int32      float32   float32   float32  float32   float32   float32\n",
       "------ --------------------- --------- ---------- -------- ------- --------- ------------- --------- ------------ ------------ --------- --------- --------- ------- ----------- -------\n",
       "MC0026 iDR4_3_MC0026_0045376  86.13471  -66.05277  9065.54 4222.08     90.25          72.2  77.35714            1            1 17.549356 17.450357 17.185623   0.012       0.015   0.014\n",
       "MC0026 iDR4_3_MC0026_0047312  88.30197   -65.9625  3300.04 4836.64    45.125          36.1  40.11111            1            1 18.465647 18.361647 18.211887   0.024        0.03   0.027\n",
       "MC0026 iDR4_3_MC0026_0047658  88.30255  -65.94724  3297.18 4936.46     90.25       67.6875 98.454544            1            1 17.595646 17.484646 17.242887   0.012       0.016   0.011\n",
       "MC0026 iDR4_3_MC0026_0047803 87.776146  -65.94243  4701.32 4980.59     43.32     30.942858  40.11111            1            1 18.809021  18.73802 18.597755   0.025       0.035   0.027\n",
       "MC0026 iDR4_3_MC0026_0051022 87.872635  -65.78903  4437.53  5983.2    45.125      38.67857 49.227272            1            1 18.629103 18.608103  18.37707   0.024       0.028   0.022\n",
       "MC0026 iDR4_3_MC0026_0052189  85.73166  -65.73788 10193.44  6256.2     54.15      51.57143     54.15            1            1 18.195509  18.12051 17.893118    0.02       0.021    0.02\n",
       "MC0026 iDR4_3_MC0026_0054365  87.08546 -65.678986  6555.02 6703.56  51.57143     34.935482    45.125            1            1 18.608227 18.518227 18.292347   0.021       0.031   0.024\n",
       "MC0026 iDR4_3_MC0026_0054850  87.84016  -65.65776  4519.73 6842.92   67.6875       67.6875  77.35714            1            1 17.982164 17.877165 17.686144   0.016       0.016   0.014\n",
       "   ...                   ...       ...        ...      ...     ...       ...           ...       ...          ...          ...       ...       ...       ...     ...         ...     ...\n",
       "MC0039 iDR4_3_MC0039_0081154  79.60468 -68.220924  1453.54 6828.79 31.852942      27.76923      28.5            1            1 18.267231 18.439232  18.45996   0.034       0.039   0.038\n",
       "MC0039 iDR4_3_MC0039_0081561  79.39829  -68.21128  1953.16 6904.62      72.2       67.6875     54.15            1            1 15.389134 15.344134 15.233215   0.015       0.016    0.02\n",
       "MC0039 iDR4_3_MC0039_0082029  76.80865  -68.19922  8246.06 7000.39   67.6875     49.227272 49.227272            1            1 16.375687 16.498686 16.666069   0.016       0.022   0.022\n",
       "MC0039 iDR4_3_MC0039_0082712 77.573204  -68.18014  6388.36 7147.81      28.5      29.27027   22.5625            1            1 17.916044 18.083433 18.151436   0.038       0.037   0.048\n",
       "MC0039 iDR4_3_MC0039_0083684  77.81516  -68.14953  5800.11 7350.49      72.2     63.705883 63.705883            1            1 15.329563 15.296563  15.16183   0.015       0.017   0.017\n",
       "MC0039 iDR4_3_MC0039_0084178  77.09471  -68.13225  7556.74 7449.83 31.852942     23.042553 20.826923            1            1 18.657475 18.842474 18.830465   0.034       0.047   0.052\n",
       "MC0039 iDR4_3_MC0039_0085813  77.34245  -68.08389  6955.83 7773.37 63.705883     47.086956      36.1            1            1 17.047682 17.202682 17.313051   0.017       0.023    0.03\n",
       "MC0039 iDR4_3_MC0039_0087295  76.39434  -68.02769  9281.16 8101.09   22.5625     18.672413 16.921875            1            1 17.965397 18.100395 18.220402   0.048       0.058   0.064"
      ]
     },
     "execution_count": 7,
     "metadata": {},
     "output_type": "execute_result"
    }
   ],
   "source": [
    "results"
   ]
  },
  {
   "cell_type": "code",
   "execution_count": null,
   "id": "0eadc5ff-0715-4d88-9208-a0780404e7d7",
   "metadata": {},
   "outputs": [],
   "source": []
  }
 ],
 "metadata": {
  "kernelspec": {
   "display_name": "Python 3 (ipykernel)",
   "language": "python",
   "name": "python3"
  },
  "language_info": {
   "codemirror_mode": {
    "name": "ipython",
    "version": 3
   },
   "file_extension": ".py",
   "mimetype": "text/x-python",
   "name": "python",
   "nbconvert_exporter": "python",
   "pygments_lexer": "ipython3",
   "version": "3.8.5"
  }
 },
 "nbformat": 4,
 "nbformat_minor": 5
}

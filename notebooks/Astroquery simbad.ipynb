{
 "cells": [
  {
   "cell_type": "markdown",
   "metadata": {},
   "source": [
    "# Code to implement astroquery on simbad"
   ]
  },
  {
   "cell_type": "code",
   "execution_count": 3,
   "metadata": {},
   "outputs": [],
   "source": [
    "from astroquery.simbad import Simbad\n",
    "import astropy.coordinates as coord\n",
    "import astropy.units as u\n",
    "from astropy.io import ascii\n",
    "from astropy.table import Table\n",
    "from astropy.coordinates import SkyCoord \n",
    "import numpy as np"
   ]
  },
  {
   "cell_type": "code",
   "execution_count": 4,
   "metadata": {},
   "outputs": [
    {
     "name": "stderr",
     "output_type": "stream",
     "text": [
      "/home/luis/anaconda3/lib/python3.8/site-packages/astroquery/simbad/core.py:135: UserWarning: Warning: The script line number 53 raised an error (recorded in the `errors` attribute of the result table): '5:35:20.402 -5:23:30.01': No astronomical object found :  \n",
      "  warnings.warn(\"Warning: The script line number %i raised \"\n"
     ]
    },
    {
     "ename": "TableParseError",
     "evalue": "Failed to parse SIMBAD result! The raw response can be found in self.last_response, and the error in self.last_table_parse_error. The attempted parsed result is in self.last_parsed_result.\n Exception: 114:386: unclosed token",
     "output_type": "error",
     "traceback": [
      "\u001b[0;31m---------------------------------------------------------------------------\u001b[0m",
      "\u001b[0;31mValueError\u001b[0m                                Traceback (most recent call last)",
      "\u001b[0;32m~/anaconda3/lib/python3.8/site-packages/astroquery/simbad/core.py\u001b[0m in \u001b[0;36m_parse_result\u001b[0;34m(self, result, resultclass, verbose)\u001b[0m\n\u001b[1;32m   1052\u001b[0m                 \u001b[0;32mreturn\u001b[0m \u001b[0;32mNone\u001b[0m\u001b[0;34m\u001b[0m\u001b[0;34m\u001b[0m\u001b[0m\n\u001b[0;32m-> 1053\u001b[0;31m             \u001b[0mresulttable\u001b[0m \u001b[0;34m=\u001b[0m \u001b[0mself\u001b[0m\u001b[0;34m.\u001b[0m\u001b[0mlast_parsed_result\u001b[0m\u001b[0;34m.\u001b[0m\u001b[0mtable\u001b[0m\u001b[0;34m\u001b[0m\u001b[0;34m\u001b[0m\u001b[0m\n\u001b[0m\u001b[1;32m   1054\u001b[0m             \u001b[0;32mif\u001b[0m \u001b[0mlen\u001b[0m\u001b[0;34m(\u001b[0m\u001b[0mresulttable\u001b[0m\u001b[0;34m)\u001b[0m \u001b[0;34m==\u001b[0m \u001b[0;36m0\u001b[0m\u001b[0;34m:\u001b[0m\u001b[0;34m\u001b[0m\u001b[0;34m\u001b[0m\u001b[0m\n",
      "\u001b[0;32m~/anaconda3/lib/python3.8/site-packages/astroquery/simbad/core.py\u001b[0m in \u001b[0;36mtable\u001b[0;34m(self)\u001b[0m\n\u001b[1;32m    191\u001b[0m             \u001b[0mself\u001b[0m\u001b[0;34m.\u001b[0m\u001b[0mbytes\u001b[0m \u001b[0;34m=\u001b[0m \u001b[0mBytesIO\u001b[0m\u001b[0;34m(\u001b[0m\u001b[0mself\u001b[0m\u001b[0;34m.\u001b[0m\u001b[0mdata\u001b[0m\u001b[0;34m.\u001b[0m\u001b[0mencode\u001b[0m\u001b[0;34m(\u001b[0m\u001b[0;34m'utf8'\u001b[0m\u001b[0;34m)\u001b[0m\u001b[0;34m)\u001b[0m\u001b[0;34m\u001b[0m\u001b[0;34m\u001b[0m\u001b[0m\n\u001b[0;32m--> 192\u001b[0;31m             \u001b[0mtbl\u001b[0m \u001b[0;34m=\u001b[0m \u001b[0mvotable\u001b[0m\u001b[0;34m.\u001b[0m\u001b[0mparse_single_table\u001b[0m\u001b[0;34m(\u001b[0m\u001b[0mself\u001b[0m\u001b[0;34m.\u001b[0m\u001b[0mbytes\u001b[0m\u001b[0;34m,\u001b[0m \u001b[0mpedantic\u001b[0m\u001b[0;34m=\u001b[0m\u001b[0;32mFalse\u001b[0m\u001b[0;34m)\u001b[0m\u001b[0;34m\u001b[0m\u001b[0;34m\u001b[0m\u001b[0m\n\u001b[0m\u001b[1;32m    193\u001b[0m             \u001b[0mself\u001b[0m\u001b[0;34m.\u001b[0m\u001b[0m__table\u001b[0m \u001b[0;34m=\u001b[0m \u001b[0mtbl\u001b[0m\u001b[0;34m.\u001b[0m\u001b[0mto_table\u001b[0m\u001b[0;34m(\u001b[0m\u001b[0;34m)\u001b[0m\u001b[0;34m\u001b[0m\u001b[0;34m\u001b[0m\u001b[0m\n",
      "\u001b[0;32m~/anaconda3/lib/python3.8/site-packages/astropy/io/votable/table.py\u001b[0m in \u001b[0;36mparse_single_table\u001b[0;34m(source, **kwargs)\u001b[0m\n\u001b[1;32m    184\u001b[0m \u001b[0;34m\u001b[0m\u001b[0m\n\u001b[0;32m--> 185\u001b[0;31m     \u001b[0mvotable\u001b[0m \u001b[0;34m=\u001b[0m \u001b[0mparse\u001b[0m\u001b[0;34m(\u001b[0m\u001b[0msource\u001b[0m\u001b[0;34m,\u001b[0m \u001b[0;34m**\u001b[0m\u001b[0mkwargs\u001b[0m\u001b[0;34m)\u001b[0m\u001b[0;34m\u001b[0m\u001b[0;34m\u001b[0m\u001b[0m\n\u001b[0m\u001b[1;32m    186\u001b[0m \u001b[0;34m\u001b[0m\u001b[0m\n",
      "\u001b[0;32m~/anaconda3/lib/python3.8/site-packages/astropy/utils/decorators.py\u001b[0m in \u001b[0;36mwrapper\u001b[0;34m(*args, **kwargs)\u001b[0m\n\u001b[1;32m    535\u001b[0m \u001b[0;34m\u001b[0m\u001b[0m\n\u001b[0;32m--> 536\u001b[0;31m             \u001b[0;32mreturn\u001b[0m \u001b[0mfunction\u001b[0m\u001b[0;34m(\u001b[0m\u001b[0;34m*\u001b[0m\u001b[0margs\u001b[0m\u001b[0;34m,\u001b[0m \u001b[0;34m**\u001b[0m\u001b[0mkwargs\u001b[0m\u001b[0;34m)\u001b[0m\u001b[0;34m\u001b[0m\u001b[0;34m\u001b[0m\u001b[0m\n\u001b[0m\u001b[1;32m    537\u001b[0m \u001b[0;34m\u001b[0m\u001b[0m\n",
      "\u001b[0;32m~/anaconda3/lib/python3.8/site-packages/astropy/io/votable/table.py\u001b[0m in \u001b[0;36mparse\u001b[0;34m(source, columns, invalid, verify, chunk_size, table_number, table_id, filename, unit_format, datatype_mapping, _debug_python_based_parser)\u001b[0m\n\u001b[1;32m    165\u001b[0m             _debug_python_based_parser=_debug_python_based_parser) as iterator:\n\u001b[0;32m--> 166\u001b[0;31m         return tree.VOTableFile(\n\u001b[0m\u001b[1;32m    167\u001b[0m             config=config, pos=(1, 1)).parse(iterator, config)\n",
      "\u001b[0;32m~/anaconda3/lib/python3.8/site-packages/astropy/io/votable/tree.py\u001b[0m in \u001b[0;36mparse\u001b[0;34m(self, iterator, config)\u001b[0m\n\u001b[1;32m   3615\u001b[0m             \u001b[0;32mif\u001b[0m \u001b[0mstart\u001b[0m\u001b[0;34m:\u001b[0m\u001b[0;34m\u001b[0m\u001b[0;34m\u001b[0m\u001b[0m\n\u001b[0;32m-> 3616\u001b[0;31m                 tag_mapping.get(tag, self._add_unknown_tag)(\n\u001b[0m\u001b[1;32m   3617\u001b[0m                     iterator, tag, data, config, pos)\n",
      "\u001b[0;32m~/anaconda3/lib/python3.8/site-packages/astropy/io/votable/tree.py\u001b[0m in \u001b[0;36m_add_resource\u001b[0;34m(self, iterator, tag, data, config, pos)\u001b[0m\n\u001b[1;32m   3494\u001b[0m         \u001b[0mself\u001b[0m\u001b[0;34m.\u001b[0m\u001b[0mresources\u001b[0m\u001b[0;34m.\u001b[0m\u001b[0mappend\u001b[0m\u001b[0;34m(\u001b[0m\u001b[0mresource\u001b[0m\u001b[0;34m)\u001b[0m\u001b[0;34m\u001b[0m\u001b[0;34m\u001b[0m\u001b[0m\n\u001b[0;32m-> 3495\u001b[0;31m         \u001b[0mresource\u001b[0m\u001b[0;34m.\u001b[0m\u001b[0mparse\u001b[0m\u001b[0;34m(\u001b[0m\u001b[0mself\u001b[0m\u001b[0;34m,\u001b[0m \u001b[0miterator\u001b[0m\u001b[0;34m,\u001b[0m \u001b[0mconfig\u001b[0m\u001b[0;34m)\u001b[0m\u001b[0;34m\u001b[0m\u001b[0;34m\u001b[0m\u001b[0m\n\u001b[0m\u001b[1;32m   3496\u001b[0m \u001b[0;34m\u001b[0m\u001b[0m\n",
      "\u001b[0;32m~/anaconda3/lib/python3.8/site-packages/astropy/io/votable/tree.py\u001b[0m in \u001b[0;36mparse\u001b[0;34m(self, votable, iterator, config)\u001b[0m\n\u001b[1;32m   3292\u001b[0m             \u001b[0;32mif\u001b[0m \u001b[0mstart\u001b[0m\u001b[0;34m:\u001b[0m\u001b[0;34m\u001b[0m\u001b[0;34m\u001b[0m\u001b[0m\n\u001b[0;32m-> 3293\u001b[0;31m                 tag_mapping.get(tag, self._add_unknown_tag)(\n\u001b[0m\u001b[1;32m   3294\u001b[0m                     iterator, tag, data, config, pos)\n",
      "\u001b[0;32m~/anaconda3/lib/python3.8/site-packages/astropy/io/votable/tree.py\u001b[0m in \u001b[0;36m_add_table\u001b[0;34m(self, iterator, tag, data, config, pos)\u001b[0m\n\u001b[1;32m   3238\u001b[0m         \u001b[0mself\u001b[0m\u001b[0;34m.\u001b[0m\u001b[0mtables\u001b[0m\u001b[0;34m.\u001b[0m\u001b[0mappend\u001b[0m\u001b[0;34m(\u001b[0m\u001b[0mtable\u001b[0m\u001b[0;34m)\u001b[0m\u001b[0;34m\u001b[0m\u001b[0;34m\u001b[0m\u001b[0m\n\u001b[0;32m-> 3239\u001b[0;31m         \u001b[0mtable\u001b[0m\u001b[0;34m.\u001b[0m\u001b[0mparse\u001b[0m\u001b[0;34m(\u001b[0m\u001b[0miterator\u001b[0m\u001b[0;34m,\u001b[0m \u001b[0mconfig\u001b[0m\u001b[0;34m)\u001b[0m\u001b[0;34m\u001b[0m\u001b[0;34m\u001b[0m\u001b[0m\n\u001b[0m\u001b[1;32m   3240\u001b[0m \u001b[0;34m\u001b[0m\u001b[0m\n",
      "\u001b[0;32m~/anaconda3/lib/python3.8/site-packages/astropy/io/votable/tree.py\u001b[0m in \u001b[0;36mparse\u001b[0;34m(self, iterator, config)\u001b[0m\n\u001b[1;32m   2513\u001b[0m                             'TABLEDATA', data.keys(), config, pos)\n\u001b[0;32m-> 2514\u001b[0;31m                         self.array = self._parse_tabledata(\n\u001b[0m\u001b[1;32m   2515\u001b[0m                             iterator, colnumbers, fields, config)\n",
      "\u001b[0;32m~/anaconda3/lib/python3.8/site-packages/astropy/io/votable/tree.py\u001b[0m in \u001b[0;36m_parse_tabledata\u001b[0;34m(self, iterator, colnumbers, fields, config)\u001b[0m\n\u001b[1;32m   2591\u001b[0m                 \u001b[0mi\u001b[0m \u001b[0;34m=\u001b[0m \u001b[0;36m0\u001b[0m\u001b[0;34m\u001b[0m\u001b[0;34m\u001b[0m\u001b[0m\n\u001b[0;32m-> 2592\u001b[0;31m                 \u001b[0;32mfor\u001b[0m \u001b[0mstart\u001b[0m\u001b[0;34m,\u001b[0m \u001b[0mtag\u001b[0m\u001b[0;34m,\u001b[0m \u001b[0mdata\u001b[0m\u001b[0;34m,\u001b[0m \u001b[0mpos\u001b[0m \u001b[0;32min\u001b[0m \u001b[0miterator\u001b[0m\u001b[0;34m:\u001b[0m\u001b[0;34m\u001b[0m\u001b[0;34m\u001b[0m\u001b[0m\n\u001b[0m\u001b[1;32m   2593\u001b[0m                     \u001b[0;32mif\u001b[0m \u001b[0mstart\u001b[0m\u001b[0;34m:\u001b[0m\u001b[0;34m\u001b[0m\u001b[0;34m\u001b[0m\u001b[0m\n",
      "\u001b[0;31mValueError\u001b[0m: 114:386: unclosed token",
      "\nDuring handling of the above exception, another exception occurred:\n",
      "\u001b[0;31mTableParseError\u001b[0m                           Traceback (most recent call last)",
      "\u001b[0;32m<ipython-input-4-3afd5d0e7ac3>\u001b[0m in \u001b[0;36m<module>\u001b[0;34m\u001b[0m\n\u001b[1;32m      7\u001b[0m \u001b[0mcustomSimbad\u001b[0m\u001b[0;34m.\u001b[0m\u001b[0madd_votable_fields\u001b[0m\u001b[0;34m(\u001b[0m\u001b[0;34m'ra(d)'\u001b[0m\u001b[0;34m,\u001b[0m \u001b[0;34m'dec(d)'\u001b[0m\u001b[0;34m)\u001b[0m\u001b[0;34m\u001b[0m\u001b[0;34m\u001b[0m\u001b[0m\n\u001b[1;32m      8\u001b[0m \u001b[0mcustomSimbad\u001b[0m\u001b[0;34m.\u001b[0m\u001b[0madd_votable_fields\u001b[0m\u001b[0;34m(\u001b[0m\u001b[0;34m'bibcodelist(1990-2020)'\u001b[0m\u001b[0;34m)\u001b[0m\u001b[0;31m#, 'biblio')\u001b[0m\u001b[0;34m\u001b[0m\u001b[0;34m\u001b[0m\u001b[0m\n\u001b[0;32m----> 9\u001b[0;31m result_table = customSimbad.query_region(coord.SkyCoord(obj[\"col1\"], obj[\"col2\"], \n\u001b[0m\u001b[1;32m     10\u001b[0m                                                  unit=(u.deg, u.deg)), radius = 0.47 * u.arcsec) \n",
      "\u001b[0;32m~/anaconda3/lib/python3.8/site-packages/astroquery/utils/class_or_instance.py\u001b[0m in \u001b[0;36mf\u001b[0;34m(*args, **kwds)\u001b[0m\n\u001b[1;32m     23\u001b[0m         \u001b[0;32mdef\u001b[0m \u001b[0mf\u001b[0m\u001b[0;34m(\u001b[0m\u001b[0;34m*\u001b[0m\u001b[0margs\u001b[0m\u001b[0;34m,\u001b[0m \u001b[0;34m**\u001b[0m\u001b[0mkwds\u001b[0m\u001b[0;34m)\u001b[0m\u001b[0;34m:\u001b[0m\u001b[0;34m\u001b[0m\u001b[0;34m\u001b[0m\u001b[0m\n\u001b[1;32m     24\u001b[0m             \u001b[0;32mif\u001b[0m \u001b[0mobj\u001b[0m \u001b[0;32mis\u001b[0m \u001b[0;32mnot\u001b[0m \u001b[0;32mNone\u001b[0m\u001b[0;34m:\u001b[0m\u001b[0;34m\u001b[0m\u001b[0;34m\u001b[0m\u001b[0m\n\u001b[0;32m---> 25\u001b[0;31m                 \u001b[0;32mreturn\u001b[0m \u001b[0mself\u001b[0m\u001b[0;34m.\u001b[0m\u001b[0mfn\u001b[0m\u001b[0;34m(\u001b[0m\u001b[0mobj\u001b[0m\u001b[0;34m,\u001b[0m \u001b[0;34m*\u001b[0m\u001b[0margs\u001b[0m\u001b[0;34m,\u001b[0m \u001b[0;34m**\u001b[0m\u001b[0mkwds\u001b[0m\u001b[0;34m)\u001b[0m\u001b[0;34m\u001b[0m\u001b[0;34m\u001b[0m\u001b[0m\n\u001b[0m\u001b[1;32m     26\u001b[0m             \u001b[0;32melse\u001b[0m\u001b[0;34m:\u001b[0m\u001b[0;34m\u001b[0m\u001b[0;34m\u001b[0m\u001b[0m\n\u001b[1;32m     27\u001b[0m                 \u001b[0;32mreturn\u001b[0m \u001b[0mself\u001b[0m\u001b[0;34m.\u001b[0m\u001b[0mfn\u001b[0m\u001b[0;34m(\u001b[0m\u001b[0mcls\u001b[0m\u001b[0;34m,\u001b[0m \u001b[0;34m*\u001b[0m\u001b[0margs\u001b[0m\u001b[0;34m,\u001b[0m \u001b[0;34m**\u001b[0m\u001b[0mkwds\u001b[0m\u001b[0;34m)\u001b[0m\u001b[0;34m\u001b[0m\u001b[0;34m\u001b[0m\u001b[0m\n",
      "\u001b[0;32m~/anaconda3/lib/python3.8/site-packages/astroquery/utils/process_asyncs.py\u001b[0m in \u001b[0;36mnewmethod\u001b[0;34m(self, *args, **kwargs)\u001b[0m\n\u001b[1;32m     27\u001b[0m             \u001b[0;32mif\u001b[0m \u001b[0mkwargs\u001b[0m\u001b[0;34m.\u001b[0m\u001b[0mget\u001b[0m\u001b[0;34m(\u001b[0m\u001b[0;34m'get_query_payload'\u001b[0m\u001b[0;34m)\u001b[0m \u001b[0;32mor\u001b[0m \u001b[0mkwargs\u001b[0m\u001b[0;34m.\u001b[0m\u001b[0mget\u001b[0m\u001b[0;34m(\u001b[0m\u001b[0;34m'field_help'\u001b[0m\u001b[0;34m)\u001b[0m\u001b[0;34m:\u001b[0m\u001b[0;34m\u001b[0m\u001b[0;34m\u001b[0m\u001b[0m\n\u001b[1;32m     28\u001b[0m                 \u001b[0;32mreturn\u001b[0m \u001b[0mresponse\u001b[0m\u001b[0;34m\u001b[0m\u001b[0;34m\u001b[0m\u001b[0m\n\u001b[0;32m---> 29\u001b[0;31m             \u001b[0mresult\u001b[0m \u001b[0;34m=\u001b[0m \u001b[0mself\u001b[0m\u001b[0;34m.\u001b[0m\u001b[0m_parse_result\u001b[0m\u001b[0;34m(\u001b[0m\u001b[0mresponse\u001b[0m\u001b[0;34m,\u001b[0m \u001b[0mverbose\u001b[0m\u001b[0;34m=\u001b[0m\u001b[0mverbose\u001b[0m\u001b[0;34m)\u001b[0m\u001b[0;34m\u001b[0m\u001b[0;34m\u001b[0m\u001b[0m\n\u001b[0m\u001b[1;32m     30\u001b[0m             \u001b[0mself\u001b[0m\u001b[0;34m.\u001b[0m\u001b[0mtable\u001b[0m \u001b[0;34m=\u001b[0m \u001b[0mresult\u001b[0m\u001b[0;34m\u001b[0m\u001b[0;34m\u001b[0m\u001b[0m\n\u001b[1;32m     31\u001b[0m             \u001b[0;32mreturn\u001b[0m \u001b[0mresult\u001b[0m\u001b[0;34m\u001b[0m\u001b[0;34m\u001b[0m\u001b[0m\n",
      "\u001b[0;32m~/anaconda3/lib/python3.8/site-packages/astroquery/simbad/core.py\u001b[0m in \u001b[0;36m_parse_result\u001b[0;34m(self, result, resultclass, verbose)\u001b[0m\n\u001b[1;32m   1056\u001b[0m         \u001b[0;32mexcept\u001b[0m \u001b[0mException\u001b[0m \u001b[0;32mas\u001b[0m \u001b[0mex\u001b[0m\u001b[0;34m:\u001b[0m\u001b[0;34m\u001b[0m\u001b[0;34m\u001b[0m\u001b[0m\n\u001b[1;32m   1057\u001b[0m             \u001b[0mself\u001b[0m\u001b[0;34m.\u001b[0m\u001b[0mlast_table_parse_error\u001b[0m \u001b[0;34m=\u001b[0m \u001b[0mex\u001b[0m\u001b[0;34m\u001b[0m\u001b[0;34m\u001b[0m\u001b[0m\n\u001b[0;32m-> 1058\u001b[0;31m             raise TableParseError(\"Failed to parse SIMBAD result! The raw \"\n\u001b[0m\u001b[1;32m   1059\u001b[0m                                   \u001b[0;34m\"response can be found in \"\u001b[0m\u001b[0;34m\u001b[0m\u001b[0;34m\u001b[0m\u001b[0m\n\u001b[1;32m   1060\u001b[0m                                   \u001b[0;34m\"self.last_response, and the error in \"\u001b[0m\u001b[0;34m\u001b[0m\u001b[0;34m\u001b[0m\u001b[0m\n",
      "\u001b[0;31mTableParseError\u001b[0m: Failed to parse SIMBAD result! The raw response can be found in self.last_response, and the error in self.last_table_parse_error. The attempted parsed result is in self.last_parsed_result.\n Exception: 114:386: unclosed token"
     ]
    }
   ],
   "source": [
    "obj = ascii.read(\"ll-boxes-new-unique.dat\")\n",
    "customSimbad = Simbad()\n",
    "customSimbad.get_votable_fields()\n",
    "#customSimbad.list_votable_fields()\n",
    "customSimbad.add_votable_fields('sptype', 'otype','distance', \"velocity\", \"otypes\")\n",
    "customSimbad.add_votable_fields(\"uvby\")\n",
    "customSimbad.add_votable_fields('ra(d)', 'dec(d)')\n",
    "customSimbad.add_votable_fields('bibcodelist(1990-2020)')#, 'biblio')\n",
    "result_table = customSimbad.query_region(coord.SkyCoord(obj[\"col1\"], obj[\"col2\"], \n",
    "                                                 unit=(u.deg, u.deg)), radius = 0.47 * u.arcsec) "
   ]
  },
  {
   "cell_type": "code",
   "execution_count": 77,
   "metadata": {},
   "outputs": [
    {
     "name": "stderr",
     "output_type": "stream",
     "text": [
      "WARNING: AstropyDeprecationWarning: Config parameter 'max_lines' in section [table.pprint] of the file '/home/angel/.astropy/config/astropy.cfg' is deprecated. Use 'max_lines' at the top-level instead. [astropy.config.configuration]\n",
      "WARNING: AstropyDeprecationWarning: Config parameter 'max_width' in section [table.pprint] of the file '/home/angel/.astropy/config/astropy.cfg' is deprecated. Use 'max_width' at the top-level instead. [astropy.config.configuration]\n"
     ]
    },
    {
     "data": {
      "text/html": [
       "<i>Table length=99</i>\n",
       "<table id=\"table139988126068864\" class=\"table-striped table-bordered table-condensed\">\n",
       "<thead><tr><th>MAIN_ID</th><th>RA</th><th>DEC</th><th>RA_PREC</th><th>DEC_PREC</th><th>COO_ERR_MAJA</th><th>COO_ERR_MINA</th><th>COO_ERR_ANGLE</th><th>COO_QUAL</th><th>COO_WAVELENGTH</th><th>COO_BIBCODE</th><th>SP_TYPE</th><th>SP_QUAL</th><th>SP_BIBCODE</th><th>OTYPE</th><th>Distance_distance</th><th>Distance_Q</th><th>Distance_unit</th><th>Distance_merr</th><th>Distance_perr</th><th>Distance_method</th><th>Distance_bibcode</th><th>RVZ_TYPE</th><th>RVZ_RADVEL</th><th>RVZ_ERROR</th><th>RVZ_QUAL</th><th>RVZ_WAVELENGTH</th><th>RVZ_BIBCODE</th><th>OTYPES</th><th>RA_d</th><th>DEC_d</th><th>BIBLIST_1990_2020</th></tr></thead>\n",
       "<thead><tr><th></th><th>&quot;h:m:s&quot;</th><th>&quot;d:m:s&quot;</th><th></th><th></th><th>mas</th><th>mas</th><th>deg</th><th></th><th></th><th></th><th></th><th></th><th></th><th></th><th></th><th></th><th></th><th></th><th></th><th></th><th></th><th></th><th>km / s</th><th>km / s</th><th></th><th></th><th></th><th></th><th>deg</th><th>deg</th><th></th></tr></thead>\n",
       "<thead><tr><th>object</th><th>str13</th><th>str13</th><th>int16</th><th>int16</th><th>float32</th><th>float32</th><th>int16</th><th>str1</th><th>str1</th><th>object</th><th>object</th><th>str1</th><th>object</th><th>object</th><th>float64</th><th>str1</th><th>str4</th><th>float64</th><th>float64</th><th>str8</th><th>str19</th><th>str1</th><th>float64</th><th>float32</th><th>str1</th><th>str1</th><th>object</th><th>object</th><th>float64</th><th>float64</th><th>int32</th></tr></thead>\n",
       "<tr><td>[H97b] 10351</td><td>05 35 02.2022</td><td>-05 26 35.433</td><td>14</td><td>14</td><td>0.545</td><td>0.495</td><td>90</td><td>C</td><td>O</td><td>2018yCat.1345....0G</td><td></td><td></td><td></td><td>Irregular_V*</td><td>--</td><td></td><td></td><td>--</td><td>--</td><td></td><td></td><td></td><td>--</td><td>--</td><td></td><td></td><td></td><td>*|*|*|Ir*</td><td>83.75917587</td><td>-5.44317610</td><td>3</td></tr>\n",
       "<tr><td>V* V1482 Ori</td><td>05 35 04.0666</td><td>-05 26 37.196</td><td>14</td><td>14</td><td>0.099</td><td>0.095</td><td>90</td><td>A</td><td>O</td><td>2018yCat.1345....0G</td><td>M2</td><td>D</td><td>2009MNRAS.400..603P</td><td>Orion_V*</td><td>--</td><td></td><td></td><td>--</td><td>--</td><td></td><td></td><td>v</td><td>24.700</td><td>0.600</td><td>A</td><td>O</td><td>2009ApJ...697.1103T</td><td>Y*?|*|*|*|*|*iC|Y*O|Em*|pr*|V*|Or*|Rad|IR|X</td><td>83.76694437</td><td>-5.44366564</td><td>42</td></tr>\n",
       "<tr><td>V* V1322 Ori</td><td>05 35 04.1934</td><td>-05 26 27.860</td><td>14</td><td>14</td><td>0.066</td><td>0.060</td><td>90</td><td>A</td><td>O</td><td>2018yCat.1345....0G</td><td>M2e</td><td>D</td><td>2009MNRAS.400..603P</td><td>BYDra</td><td>398.4540</td><td></td><td>pc</td><td>-15.9877</td><td>15.9877</td><td>paral</td><td>2018yCat.1345....0G</td><td>v</td><td>27.168</td><td>0.276</td><td>A</td><td>N</td><td>2018AJ....156...84K</td><td>Y*?|TT?|*|*|*|*|Y*O|Em*|Em*|pr*|V*|BY*|Rad|IR|X</td><td>83.76747288</td><td>-5.44107242</td><td>37</td></tr>\n",
       "<tr><td>[RRS2008] 049-143</td><td>05 35 04.940</td><td>-05 21 42.99</td><td>7</td><td>7</td><td>--</td><td>--</td><td>0</td><td>C</td><td>R</td><td>2016ApJ...831..155S</td><td></td><td></td><td></td><td>YSO</td><td>--</td><td></td><td></td><td>--</td><td>--</td><td></td><td></td><td></td><td>--</td><td>--</td><td></td><td></td><td></td><td>Y*O|Rad</td><td>83.77058300</td><td>-5.36194200</td><td>2</td></tr>\n",
       "<tr><td>[RRL2007] 050-143</td><td>05 35 04.95</td><td>-05 21 42.8</td><td>6</td><td>6</td><td>150.000</td><td>150.000</td><td>90</td><td>C</td><td>O</td><td>2009A&amp;A...502..883R</td><td>M</td><td></td><td>2007MNRAS.381.1077R</td><td>Star</td><td>--</td><td></td><td></td><td>--</td><td>--</td><td></td><td></td><td></td><td>--</td><td>--</td><td></td><td></td><td></td><td>*|*</td><td>83.77062000</td><td>-5.36189000</td><td>3</td></tr>\n",
       "<tr><td>V* V479 Ori</td><td>05 35 05.1354</td><td>-05 20 24.413</td><td>14</td><td>14</td><td>0.051</td><td>0.052</td><td>90</td><td>A</td><td>O</td><td>2018yCat.1345....0G</td><td>M2.4e</td><td>D</td><td>2009ApJS..183..261D</td><td>Orion_V*</td><td>390.0460</td><td></td><td>pc</td><td>-10.6343</td><td>10.6343</td><td>paral</td><td>2018yCat.1345....0G</td><td>v</td><td>25.700</td><td>0.200</td><td>A</td><td>O</td><td>2009ApJ...697.1103T</td><td>X|Y*?|*|*|*|*|*|*|*|Y*O|Em*|V*|Or*|IR</td><td>83.77139789</td><td>-5.34011475</td><td>24</td></tr>\n",
       "<tr><td>V* V2167 Ori</td><td>05 35 06.5439</td><td>-05 25 01.566</td><td>14</td><td>14</td><td>0.303</td><td>0.307</td><td>90</td><td>A</td><td>O</td><td>2018yCat.1345....0G</td><td>M4</td><td>D</td><td>1997AJ....113.1733H</td><td>Orion_V*</td><td>--</td><td></td><td></td><td>--</td><td>--</td><td></td><td></td><td></td><td>--</td><td>--</td><td></td><td></td><td></td><td>*|*|*iC|Y*O|Em*|V*|V*|Or*|Rad|IR|X</td><td>83.77726650</td><td>-5.41710168</td><td>27</td></tr>\n",
       "<tr><td>V* V2168 Ori</td><td>05 35 06.5678</td><td>-05 32 51.573</td><td>14</td><td>14</td><td>0.269</td><td>0.265</td><td>90</td><td>A</td><td>O</td><td>2018yCat.1345....0G</td><td>M3:,M6-M9</td><td>E</td><td>2013AJ....146...85H</td><td>Orion_V*</td><td>--</td><td></td><td></td><td>--</td><td>--</td><td></td><td></td><td></td><td>--</td><td>--</td><td></td><td></td><td></td><td>G?|*|*|Y*O|Y*O|Em*|V*|Ir*|Or*|IR|X</td><td>83.77736621</td><td>-5.54765931</td><td>22</td></tr>\n",
       "<tr><td>[DRH2012] 347</td><td>05 35 06.58</td><td>-05 26 52.0</td><td>6</td><td>6</td><td>--</td><td>--</td><td>0</td><td>C</td><td>O</td><td>2012ApJ...748...14D</td><td></td><td></td><td></td><td>Star</td><td>--</td><td></td><td></td><td>--</td><td>--</td><td></td><td></td><td></td><td>--</td><td>--</td><td></td><td></td><td></td><td>*|Y*O|Rad</td><td>83.77742000</td><td>-5.44778000</td><td>3</td></tr>\n",
       "<tr><td>...</td><td>...</td><td>...</td><td>...</td><td>...</td><td>...</td><td>...</td><td>...</td><td>...</td><td>...</td><td>...</td><td>...</td><td>...</td><td>...</td><td>...</td><td>...</td><td>...</td><td>...</td><td>...</td><td>...</td><td>...</td><td>...</td><td>...</td><td>...</td><td>...</td><td>...</td><td>...</td><td>...</td><td>...</td><td>...</td><td>...</td><td>...</td></tr>\n",
       "<tr><td>Brun 471</td><td>05 35 01.1784</td><td>-05 24 06.807</td><td>14</td><td>14</td><td>0.369</td><td>0.363</td><td>90</td><td>A</td><td>O</td><td>2018yCat.1345....0G</td><td>M1</td><td>D</td><td>2013AJ....146...85H</td><td>YSO</td><td>--</td><td></td><td></td><td>--</td><td>--</td><td></td><td></td><td>v</td><td>25.443</td><td>0.150</td><td>A</td><td>N</td><td>2018AJ....156...84K</td><td>Y*?|TT?|*|*|*|*|*|*|*|*iC|*iN|Y*O|Y*O|Em*|Em*|Em*|G|Rad|IR|X</td><td>83.75491041</td><td>-5.40189087</td><td>31</td></tr>\n",
       "<tr><td>[OW94] 014-413</td><td>05 35 01.3635</td><td>-05 24 13.324</td><td>14</td><td>14</td><td>2.949</td><td>1.929</td><td>90</td><td>C</td><td>O</td><td>2018yCat.1345....0G</td><td>M6.5</td><td>D</td><td>2007MNRAS.381.1077R</td><td>Irregular_V*</td><td>--</td><td></td><td></td><td>--</td><td>--</td><td></td><td></td><td></td><td>--</td><td>--</td><td></td><td></td><td></td><td>*|Ir*|IR</td><td>83.75568128</td><td>-5.40370125</td><td>15</td></tr>\n",
       "<tr><td>[LRT2005] 030-524</td><td>05 35 02.996</td><td>-05 25 24.26</td><td>7</td><td>7</td><td>--</td><td>--</td><td>0</td><td>D</td><td></td><td>2005MNRAS.361..211L</td><td>M7.5</td><td>D</td><td>2007MNRAS.381.1077R</td><td>Star</td><td>--</td><td></td><td></td><td>--</td><td>--</td><td></td><td></td><td></td><td>--</td><td>--</td><td></td><td></td><td></td><td>*|IR</td><td>83.76248300</td><td>-5.42340600</td><td>5</td></tr>\n",
       "<tr><td>[BOM2000] w030-524</td><td>05 35 03.0</td><td>-05 25 24</td><td>5</td><td>5</td><td>--</td><td>--</td><td>0</td><td>D</td><td></td><td>2000RMxAC...9..194O</td><td></td><td></td><td></td><td>ISM</td><td>--</td><td></td><td></td><td>--</td><td>--</td><td></td><td></td><td></td><td>--</td><td>--</td><td></td><td></td><td></td><td>ISM</td><td>83.76250000</td><td>-5.42330000</td><td>3</td></tr>\n",
       "<tr><td>[BOM2000] w069-601</td><td>05 35 06.91</td><td>-05 26 00.6</td><td>6</td><td>6</td><td>--</td><td>--</td><td>0</td><td>D</td><td></td><td>2000AJ....119.2919B</td><td></td><td></td><td></td><td>ISM</td><td>--</td><td></td><td></td><td>--</td><td>--</td><td></td><td></td><td></td><td>--</td><td>--</td><td></td><td></td><td></td><td>ISM|?</td><td>83.77879000</td><td>-5.43350000</td><td>2</td></tr>\n",
       "<tr><td>V* V2170 Ori</td><td>05 35 06.9118</td><td>-05 26 00.637</td><td>14</td><td>14</td><td>0.206</td><td>0.197</td><td>90</td><td>A</td><td>O</td><td>2018yCat.1345....0G</td><td>M4.7e</td><td>D</td><td>2009ApJS..183..261D</td><td>Orion_V*</td><td>352.0879</td><td></td><td>pc</td><td>-33.1485</td><td>33.1485</td><td>paral</td><td>2018yCat.1345....0G</td><td></td><td>--</td><td>--</td><td></td><td></td><td></td><td>*|*|*iC|Y*O|Em*|V*|Ir*|Or*|Rad|IR|X</td><td>83.77879934</td><td>-5.43351036</td><td>33</td></tr>\n",
       "<tr><td>[BOM2000] w073-227</td><td>05 35 07.27</td><td>-05 22 26.6</td><td>6</td><td>6</td><td>--</td><td>--</td><td>0</td><td>D</td><td></td><td>2000AJ....119.2919B</td><td></td><td></td><td></td><td>ISM</td><td>--</td><td></td><td></td><td>--</td><td>--</td><td></td><td></td><td></td><td>--</td><td>--</td><td></td><td></td><td></td><td>ISM|?</td><td>83.78029000</td><td>-5.37406000</td><td>2</td></tr>\n",
       "<tr><td>2MASS J05350727-0522266</td><td>05 35 07.277</td><td>-05 22 26.64</td><td>7</td><td>7</td><td>60.000</td><td>60.000</td><td>0</td><td>C</td><td>N</td><td>2003yCat.2246....0C</td><td>M3:</td><td>D</td><td>2005ApJS..160..511K</td><td>YSO</td><td>--</td><td></td><td></td><td>--</td><td>--</td><td></td><td></td><td>v</td><td>26.475</td><td>0.727</td><td>A</td><td>N</td><td>2018AJ....156...84K</td><td>X|*|*|*|*|*|*|*iC|Y*O|Y*O|Em*|Rad|Rad|IR|NIR</td><td>83.78032100</td><td>-5.37406700</td><td>38</td></tr>\n",
       "<tr><td>[BOM2000] w266-558</td><td>05 35 26.62</td><td>-05 25 58.4</td><td>6</td><td>6</td><td>--</td><td>--</td><td>0</td><td>D</td><td></td><td>2000AJ....119.2919B</td><td></td><td></td><td></td><td>Unknown</td><td>--</td><td></td><td></td><td>--</td><td>--</td><td></td><td></td><td></td><td>--</td><td>--</td><td></td><td></td><td></td><td></td><td>83.86092000</td><td>-5.43289000</td><td>1</td></tr>\n",
       "<tr><td>[RRS2008] 266-558</td><td>05 35 26.620</td><td>-05 25 57.84</td><td>7</td><td>7</td><td>--</td><td>--</td><td>0</td><td>C</td><td>R</td><td>2016ApJ...831..155S</td><td></td><td></td><td></td><td>Star</td><td>--</td><td></td><td></td><td>--</td><td>--</td><td></td><td></td><td></td><td>--</td><td>--</td><td></td><td></td><td></td><td>*|Y*O|Rad</td><td>83.86091700</td><td>-5.43273300</td><td>2</td></tr>\n",
       "</table>"
      ],
      "text/plain": [
       "<Table length=99>\n",
       "        MAIN_ID               RA      ...    DEC_d     BIBLIST_1990_2020\n",
       "                           \"h:m:s\"    ...     deg                       \n",
       "         object             str13     ...   float64          int32      \n",
       "----------------------- ------------- ... ------------ -----------------\n",
       "           [H97b] 10351 05 35 02.2022 ...  -5.44317610                 3\n",
       "           V* V1482 Ori 05 35 04.0666 ...  -5.44366564                42\n",
       "           V* V1322 Ori 05 35 04.1934 ...  -5.44107242                37\n",
       "      [RRS2008] 049-143  05 35 04.940 ...  -5.36194200                 2\n",
       "      [RRL2007] 050-143   05 35 04.95 ...  -5.36189000                 3\n",
       "            V* V479 Ori 05 35 05.1354 ...  -5.34011475                24\n",
       "           V* V2167 Ori 05 35 06.5439 ...  -5.41710168                27\n",
       "           V* V2168 Ori 05 35 06.5678 ...  -5.54765931                22\n",
       "          [DRH2012] 347   05 35 06.58 ...  -5.44778000                 3\n",
       "                    ...           ... ...          ...               ...\n",
       "               Brun 471 05 35 01.1784 ...  -5.40189087                31\n",
       "         [OW94] 014-413 05 35 01.3635 ...  -5.40370125                15\n",
       "      [LRT2005] 030-524  05 35 02.996 ...  -5.42340600                 5\n",
       "     [BOM2000] w030-524    05 35 03.0 ...  -5.42330000                 3\n",
       "     [BOM2000] w069-601   05 35 06.91 ...  -5.43350000                 2\n",
       "           V* V2170 Ori 05 35 06.9118 ...  -5.43351036                33\n",
       "     [BOM2000] w073-227   05 35 07.27 ...  -5.37406000                 2\n",
       "2MASS J05350727-0522266  05 35 07.277 ...  -5.37406700                38\n",
       "     [BOM2000] w266-558   05 35 26.62 ...  -5.43289000                 1\n",
       "      [RRS2008] 266-558  05 35 26.620 ...  -5.43273300                 2"
      ]
     },
     "execution_count": 77,
     "metadata": {},
     "output_type": "execute_result"
    }
   ],
   "source": [
    "result_table"
   ]
  },
  {
   "cell_type": "code",
   "execution_count": 81,
   "metadata": {},
   "outputs": [
    {
     "name": "stderr",
     "output_type": "stream",
     "text": [
      "WARNING: AstropyDeprecationWarning: ll-stars-arcs-simbad-047.ecsv already exists. Automatically overwriting ASCII files is deprecated. Use the argument 'overwrite=True' in the future. [astropy.io.ascii.ui]\n"
     ]
    }
   ],
   "source": [
    "asciifile = \"ll-stars-arcs-simbad-047.ecsv\" \n",
    "result_table.write(asciifile, format=\"ascii.ecsv\")  "
   ]
  },
  {
   "cell_type": "code",
   "execution_count": 79,
   "metadata": {},
   "outputs": [],
   "source": [
    "tab = Table.read(\"ll-stars-arcs-simbad-047.csv\", format=\"ascii.csv\")"
   ]
  },
  {
   "cell_type": "code",
   "execution_count": 80,
   "metadata": {},
   "outputs": [
    {
     "data": {
      "text/plain": [
       "99"
      ]
     },
     "execution_count": 80,
     "metadata": {},
     "output_type": "execute_result"
    }
   ],
   "source": [
    "len(tab)"
   ]
  },
  {
   "cell_type": "code",
   "execution_count": null,
   "metadata": {},
   "outputs": [],
   "source": []
  },
  {
   "cell_type": "code",
   "execution_count": null,
   "metadata": {},
   "outputs": [],
   "source": []
  },
  {
   "cell_type": "code",
   "execution_count": null,
   "metadata": {},
   "outputs": [],
   "source": []
  }
 ],
 "metadata": {
  "kernelspec": {
   "display_name": "Python 3 (ipykernel)",
   "language": "python",
   "name": "python3"
  },
  "language_info": {
   "codemirror_mode": {
    "name": "ipython",
    "version": 3
   },
   "file_extension": ".py",
   "mimetype": "text/x-python",
   "name": "python",
   "nbconvert_exporter": "python",
   "pygments_lexer": "ipython3",
   "version": "3.8.5"
  }
 },
 "nbformat": 4,
 "nbformat_minor": 4
}

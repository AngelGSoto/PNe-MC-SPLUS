{
 "cells": [
  {
   "cell_type": "code",
   "execution_count": 1,
   "id": "181fe103",
   "metadata": {},
   "outputs": [],
   "source": [
    "import numpy as np\n",
    "from astropy.io import fits\n",
    "from scipy.ndimage import rotate\n",
    "import matplotlib.pyplot as plt\n",
    "from matplotlib.transforms import Affine2D\n",
    "import aplpy\n",
    "from matplotlib.patches import Rectangle\n",
    "from astropy.visualization import (MinMaxInterval, AsinhStretch)\n",
    "from astropy.wcs import WCS\n",
    "from astropy.visualization import wcsaxes\n",
    "from astropy import units as u\n",
    "import pandas as pd\n",
    "#from astropy.visualization import astropy_mpl_style"
   ]
  },
  {
   "cell_type": "code",
   "execution_count": 2,
   "id": "b56ecc04",
   "metadata": {},
   "outputs": [],
   "source": [
    "# Meassurent the flux in pseudo slit\n",
    "def pseudo_slit(image_data, y_start, y_end, x_start, x_end, rotation_angle):\n",
    "    # Define the pseudo-slit coordinates\n",
    "    slit_mask = np.zeros_like(image_data)\n",
    "    slit_mask[y_start:y_end, x_start:x_end] = 1  # Set pixels within the slit region to 1\n",
    "\n",
    "    # Rotate the image data by the specified angle\n",
    "    rotated_data = rotate(image_data, rotation_angle, reshape=False)\n",
    "\n",
    "    # Calculate the flux within the rotated pseudo-slit\n",
    "    flux_within_slit = np.sum(rotated_data * slit_mask)\n",
    "    return flux_within_slit"
   ]
  },
  {
   "cell_type": "code",
   "execution_count": 3,
   "id": "904a3c8d",
   "metadata": {},
   "outputs": [],
   "source": [
    "# Ploting the image and slit\n",
    "# Create the pseudo-slit rectangle\n",
    "#plt.style.use(astropy_mpl_style)\n",
    "def plot_slit_with_aplpy(image_data, y_start, y_end, x_start, x_end, rotation_angle, vmin, vmax):\n",
    "    plt.clf()\n",
    "    fig = plt.figure(figsize=(18, 9))\n",
    "\n",
    "    # Create Aplpy FITSFigure instance\n",
    "    f = aplpy.FITSFigure(image_data, figure=fig, subplot=(1, 1, 1), north=True)\n",
    "\n",
    "    # Show the image\n",
    "    #f.show_grayscale( vmin=vmin, vmax=vmax, invert=True)#, vmin=vmin, vmax=vmax)\n",
    "    # Show the image with a specific colormap and color bar\n",
    "    f.show_colorscale(cmap='viridis', vmin=vmin, vmax=vmax)\n",
    "    f.add_colorbar()\n",
    "    f.colorbar.set_location(\"right\")\n",
    "    f.colorbar.set_axis_label_text(r\"F(F$\\alpha$ + [NII])\")\n",
    "    f.colorbar.set_font(size='x-large',  weight='medium', \\\n",
    "                      stretch='normal', family='sans-serif', \\\n",
    "                      style='normal', variant='normal')\n",
    "    f.colorbar.set_axis_label_font(size=18)#, weight='bold')\n",
    "    \n",
    "    # Get the FITSFigure instance's axis to add the rectangle\n",
    "    ax = f.ax\n",
    "\n",
    "    # Create the rectangle for pseudo-slit\n",
    "    pseudo_slit_rect = plt.Rectangle((x_start, y_start), x_end - x_start, y_end - y_start,\n",
    "                                     angle=0, edgecolor='red', facecolor='none')\n",
    "\n",
    "    # Add the pseudo-slit rectangle to the plot\n",
    "    ax.add_patch(pseudo_slit_rect)\n",
    "\n",
    "    # Apply rotation to the pseudo-slit without changing its position\n",
    "    trans = plt.matplotlib.transforms.Affine2D().rotate_deg_around(x_start + (x_end - x_start) / 2,\n",
    "                                                                  y_start + (y_end - y_start) / 2,\n",
    "                                                                  rotation_angle)\n",
    "    pseudo_slit_rect.set_transform(trans + ax.transData)\n",
    "\n",
    "    f.add_scalebar(5.0/3600.) #20\n",
    "    f.scalebar.set_label('5\"')\n",
    "    f.scalebar.set(color='white', linewidth=4, alpha=0.9)\n",
    "    f.scalebar.set_font(size=45, weight='bold',\n",
    "                      stretch='normal', family='sans-serif',\n",
    "                      style='normal', variant='normal')\n",
    "    f.frame.set_linewidth(1)  # points\n",
    "    f.frame.set_color('black')\n",
    "    \n",
    "    # Set axis labels to display in WCS coordinates\n",
    "    f.axis_labels.set_xtext('RA (J2000)')\n",
    "    f.axis_labels.set_ytext('DEC (J2000)')\n",
    "    f.axis_labels.set_font(size=18, weight='medium', stretch='normal', family='sans-serif', style='normal', variant='normal')\n",
    "    f.tick_labels.set_font(size=18, weight='medium', stretch='normal', family='sans-serif', style='normal', variant='normal')\n",
    "    ax.coords.grid(True)  # Enable grid lines initially\n",
    "    ax.coords.grid(False)  # Disable grid lines\n",
    "\n",
    "    plt.show()\n"
   ]
  },
  {
   "cell_type": "code",
   "execution_count": 4,
   "id": "1e626726",
   "metadata": {},
   "outputs": [],
   "source": [
    "# Reading FITS file\n",
    "hdu = fits.open(\"../maps_fits/b'iDR4_3_MC0113_0054489'_halpha_v1.fits\")\n",
    "hdu[0].data\n",
    "data_haNii = hdu[0].data\n",
    "header = hdu[0].header"
   ]
  },
  {
   "cell_type": "code",
   "execution_count": 5,
   "id": "df3b6d4b",
   "metadata": {},
   "outputs": [],
   "source": [
    "# Define the pseudo-slit coordinates\n",
    "y_start, y_end = 10,  50\n",
    "#x_start, x_end = int(30.409),  int(31.591)\n",
    "x_start, x_end = 29, 32\n",
    "\n",
    "# Set the rotation angle\n",
    "angle = 0 #"
   ]
  },
  {
   "cell_type": "markdown",
   "id": "cecc111c",
   "metadata": {},
   "source": [
    "Defoult values:\n",
    "\n",
    "INFO: Auto-setting vmin to -1.843e-15 [aplpy.core]\n",
    "\n",
    "INFO: Auto-setting vmax to  2.058e-14 [aplpy.core]"
   ]
  },
  {
   "cell_type": "code",
   "execution_count": 6,
   "id": "609ddfe0",
   "metadata": {},
   "outputs": [
    {
     "data": {
      "text/plain": [
       "3.3137008e-13"
      ]
     },
     "execution_count": 6,
     "metadata": {},
     "output_type": "execute_result"
    }
   ],
   "source": [
    "#Applying\n",
    "flux_slit = pseudo_slit(data_haNii, y_start, y_end, x_start, x_end, angle)\n",
    "flux_slit"
   ]
  },
  {
   "cell_type": "code",
   "execution_count": 7,
   "id": "560e0064",
   "metadata": {},
   "outputs": [
    {
     "name": "stderr",
     "output_type": "stream",
     "text": [
      "WARNING: FITSFixedWarning: 'datfix' made the change 'Set DATE-OBS to '2018-11-06' from MJD-OBS'. [astropy.wcs.wcs]\n",
      "WARNING: FITSFixedWarning: 'datfix' made the change 'Set DATE-OBS to '2018-11-06' from MJD-OBS'. [astropy.wcs.wcs]\n",
      "/home/luis/anaconda3/lib/python3.8/site-packages/aplpy/overlays.py:256: UserWarning: Text labels do not have attribute linewidth. Skipping.\n",
      "  warnings.warn(\"Text labels do not have attribute {0}. Skipping.\".format(kwarg))\n"
     ]
    },
    {
     "data": {
      "text/plain": [
       "<Figure size 640x480 with 0 Axes>"
      ]
     },
     "metadata": {},
     "output_type": "display_data"
    },
    {
     "data": {
      "image/png": "[encoded data removed]",
      "text/plain": [
       "<Figure size 1800x900 with 2 Axes>"
      ]
     },
     "metadata": {},
     "output_type": "display_data"
    }
   ],
   "source": [
    "#Plotting\n",
    "# show the image\n",
    "m, s = np.mean(hdu[0].data), np.std(hdu[0].data)\n",
    "plot_slit_with_aplpy(hdu, y_start, y_end, x_start, x_end, angle, m, s)"
   ]
  },
  {
   "cell_type": "markdown",
   "id": "48d5d926",
   "metadata": {},
   "source": [
    "# Emission X/VLT-Shooter Spectra"
   ]
  },
  {
   "cell_type": "code",
   "execution_count": 8,
   "id": "b1f41e60",
   "metadata": {},
   "outputs": [],
   "source": [
    "hdu = fits.open(\"../PN_line_atlas_v1.fits\")"
   ]
  },
  {
   "cell_type": "code",
   "execution_count": 9,
   "id": "26935b6b",
   "metadata": {},
   "outputs": [
    {
     "data": {
      "text/plain": [
       "[<astropy.io.fits.hdu.image.PrimaryHDU object at 0x7fc9884633d0>, <astropy.io.fits.hdu.table.BinTableHDU object at 0x7fc913b84d30>, <astropy.io.fits.hdu.table.BinTableHDU object at 0x7fc913b54b20>, <astropy.io.fits.hdu.table.BinTableHDU object at 0x7fc913b54d00>, <astropy.io.fits.hdu.table.BinTableHDU object at 0x7fc913b54f40>, <astropy.io.fits.hdu.table.BinTableHDU object at 0x7fc913b701c0>, <astropy.io.fits.hdu.table.BinTableHDU object at 0x7fc913b70400>, <astropy.io.fits.hdu.table.BinTableHDU object at 0x7fc913b70640>, <astropy.io.fits.hdu.table.BinTableHDU object at 0x7fc913b70880>, <astropy.io.fits.hdu.table.BinTableHDU object at 0x7fc913b70ac0>, <astropy.io.fits.hdu.table.BinTableHDU object at 0x7fc913b70d00>, <astropy.io.fits.hdu.table.BinTableHDU object at 0x7fc913b70f40>, <astropy.io.fits.hdu.table.BinTableHDU object at 0x7fc913b081c0>, <astropy.io.fits.hdu.table.BinTableHDU object at 0x7fc913b08400>, <astropy.io.fits.hdu.table.BinTableHDU object at 0x7fc913b08640>, <astropy.io.fits.hdu.table.BinTableHDU object at 0x7fc913b08880>, <astropy.io.fits.hdu.table.BinTableHDU object at 0x7fc913b08ac0>, <astropy.io.fits.hdu.table.BinTableHDU object at 0x7fc913b08d00>, <astropy.io.fits.hdu.table.BinTableHDU object at 0x7fc913b08f40>, <astropy.io.fits.hdu.table.BinTableHDU object at 0x7fc913b1f1c0>, <astropy.io.fits.hdu.table.BinTableHDU object at 0x7fc913b1f400>, <astropy.io.fits.hdu.table.BinTableHDU object at 0x7fc913b1f640>]"
      ]
     },
     "execution_count": 9,
     "metadata": {},
     "output_type": "execute_result"
    }
   ],
   "source": [
    "hdu"
   ]
  },
  {
   "cell_type": "code",
   "execution_count": 10,
   "id": "68019d8f",
   "metadata": {},
   "outputs": [
    {
     "data": {
      "text/plain": [
       "XTENSION= 'BINTABLE'           / binary table extension                         \n",
       "BITPIX  =                    8 / array data type                                \n",
       "NAXIS   =                    2 / number of array dimensions                     \n",
       "NAXIS1  =                  100 / length of dimension 1                          \n",
       "NAXIS2  =                   20 / length of dimension 2                          \n",
       "PCOUNT  =                    0 / number of group parameters                     \n",
       "GCOUNT  =                    1 / number of groups                               \n",
       "TFIELDS =                    7 / number of table fields                         \n",
       "TTYPE1  = 'NAME    '                                                            \n",
       "TFORM1  = '20A     '                                                            \n",
       "TTYPE2  = 'REF_HDU '                                                            \n",
       "TFORM2  = 'K       '                                                            \n",
       "TTYPE3  = 'REF_ORIGIN'                                                          \n",
       "TFORM3  = '40A     '                                                            \n",
       "TTYPE4  = 'RA      '                                                            \n",
       "TFORM4  = 'D       '                                                            \n",
       "TUNIT4  = 'deg     '                                                            \n",
       "TTYPE5  = 'DEC     '                                                            \n",
       "TFORM5  = 'D       '                                                            \n",
       "TUNIT5  = 'deg     '                                                            \n",
       "TTYPE6  = 'LINES   '                                                            \n",
       "TFORM6  = 'D       '                                                            \n",
       "TTYPE7  = 'LINES_ERR'                                                           \n",
       "TFORM7  = 'D       '                                                            \n",
       "TUNIT7  = 'Angstrom'                                                            \n",
       "EXTNAME = 'Star Catalog'                                                        "
      ]
     },
     "execution_count": 10,
     "metadata": {},
     "output_type": "execute_result"
    }
   ],
   "source": [
    "hdu[1].header"
   ]
  },
  {
   "cell_type": "code",
   "execution_count": 11,
   "id": "16f32a88",
   "metadata": {},
   "outputs": [],
   "source": [
    "extension_names = [ext.name for ext in hdu]"
   ]
  },
  {
   "cell_type": "code",
   "execution_count": 12,
   "id": "ef1c8f78",
   "metadata": {},
   "outputs": [
    {
     "data": {
      "text/plain": [
       "['PRIMARY',\n",
       " 'Star Catalog',\n",
       " 'DdDm-1',\n",
       " 'G025.3-04.6',\n",
       " 'G042.9-06.9',\n",
       " 'G205.8-26.7',\n",
       " 'G295.3-09.3',\n",
       " 'G334.8-07.4',\n",
       " 'He2-436',\n",
       " 'LMC-SMP-25',\n",
       " 'LMC-SMP-31',\n",
       " 'LMC-SMP-53',\n",
       " 'LMC-SMP-58',\n",
       " 'LMC-Sa-104a',\n",
       " 'SMC-SMP-1',\n",
       " 'SMC-SMP-2',\n",
       " 'SMC-SMP-8',\n",
       " 'SMC-SMP-13',\n",
       " 'SMC-SMP-18',\n",
       " 'SMC-SMP-20',\n",
       " 'SMC-SMP-24',\n",
       " 'SMC-SMP-25']"
      ]
     },
     "execution_count": 12,
     "metadata": {},
     "output_type": "execute_result"
    }
   ],
   "source": [
    "extension_names"
   ]
  },
  {
   "cell_type": "code",
   "execution_count": 13,
   "id": "c7b0b644",
   "metadata": {},
   "outputs": [
    {
     "data": {
      "text/plain": [
       "ColDefs(\n",
       "    name = 'LINE'; format = '20A'\n",
       "    name = 'WAVE_LAB'; format = 'D'; unit = 'Angstrom'\n",
       "    name = 'WAVE_OBS'; format = 'D'; unit = 'Angstrom'\n",
       "    name = 'WAVE_ERR'; format = 'D'; unit = 'Angstrom'\n",
       "    name = 'FLUX'; format = 'D'; unit = 'erg/cm-2/s'\n",
       "    name = 'FLUX_ERR'; format = 'D'; unit = 'erg/cm-2/s'\n",
       "    name = 'WIDTH'; format = 'D'; unit = 'Angstrom'\n",
       "    name = 'WIDTH_ERR'; format = 'D'; unit = 'Angstrom'\n",
       "    name = 'FLAG'; format = 'D'\n",
       ")"
      ]
     },
     "execution_count": 13,
     "metadata": {},
     "output_type": "execute_result"
    }
   ],
   "source": [
    "hdu[\"SMC-SMP-1\"].columns"
   ]
  },
  {
   "cell_type": "code",
   "execution_count": 14,
   "id": "470b709b",
   "metadata": {},
   "outputs": [
    {
     "data": {
      "text/plain": [
       "chararray(['H$\\\\alpha$'], dtype='<U20')"
      ]
     },
     "execution_count": 14,
     "metadata": {},
     "output_type": "execute_result"
    }
   ],
   "source": [
    "line = hdu[\"SMC-SMP-1\"].data.field(\"LINE\")\n",
    "mask = hdu[\"SMC-SMP-1\"].data.field(\"LINE\") == \"H$\\\\alpha$\"\n",
    "line_ha = line[mask]\n",
    "line_ha"
   ]
  },
  {
   "cell_type": "code",
   "execution_count": 15,
   "id": "e16866c2",
   "metadata": {},
   "outputs": [],
   "source": [
    "flux = hdu[\"SMC-SMP-1\"].data.field(\"FLUX\")\n",
    "flux_ha = flux[mask]"
   ]
  },
  {
   "cell_type": "code",
   "execution_count": 16,
   "id": "65b49255",
   "metadata": {},
   "outputs": [
    {
     "data": {
      "text/plain": [
       "array([5.49470305e-13])"
      ]
     },
     "execution_count": 16,
     "metadata": {},
     "output_type": "execute_result"
    }
   ],
   "source": [
    "flux_ha"
   ]
  },
  {
   "cell_type": "code",
   "execution_count": 17,
   "id": "6528d0a0",
   "metadata": {},
   "outputs": [],
   "source": [
    "# Filter extension names that start with \"SMC\"\n",
    "extensions_starting_with_smc = [name for name in extension_names if name.startswith(\"SMC\")]"
   ]
  },
  {
   "cell_type": "code",
   "execution_count": 18,
   "id": "7c0400a4",
   "metadata": {},
   "outputs": [
    {
     "data": {
      "text/plain": [
       "['SMC-SMP-1',\n",
       " 'SMC-SMP-2',\n",
       " 'SMC-SMP-8',\n",
       " 'SMC-SMP-13',\n",
       " 'SMC-SMP-18',\n",
       " 'SMC-SMP-20',\n",
       " 'SMC-SMP-24',\n",
       " 'SMC-SMP-25']"
      ]
     },
     "execution_count": 18,
     "metadata": {},
     "output_type": "execute_result"
    }
   ],
   "source": [
    "extensions_starting_with_smc"
   ]
  },
  {
   "cell_type": "code",
   "execution_count": 19,
   "id": "0254f1e0",
   "metadata": {},
   "outputs": [],
   "source": [
    "ha_central = 6600"
   ]
  },
  {
   "cell_type": "code",
   "execution_count": 20,
   "id": "ceb4f9e3",
   "metadata": {},
   "outputs": [],
   "source": [
    "# Create empty lists to store the filtered data\n",
    "extension_names_list = []\n",
    "wavelengths_list = []\n",
    "flux_list = []"
   ]
  },
  {
   "cell_type": "code",
   "execution_count": 21,
   "id": "34b93562",
   "metadata": {},
   "outputs": [],
   "source": [
    "# Iterate through extensions starting with \"SMC\"\n",
    "for name in extension_names:\n",
    "    if name.startswith(\"SMC\"):\n",
    "        # Access the specific data fields in the extension\n",
    "        line_data = hdu[name].data.field(\"LINE\")\n",
    "        flux_data = hdu[name].data.field(\"FLUX\")\n",
    "        wvobs_data = hdu[name].data.field(\"WAVE_OBS\")\n",
    "\n",
    "        # Filter the data for the specific wavelength range around H-alpha\n",
    "        lines_within_range = [(wvobs, flux) for wvobs, flux in zip(wvobs_data, flux_data)\n",
    "                                  if (ha_central - (138/2) <= wvobs <= ha_central + (138/2))]\n",
    "            \n",
    "        # Append the filtered data to the lists\n",
    "        wavelengths, fluxes = zip(*lines_within_range)\n",
    "        wavelengths_list.append(wavelengths)\n",
    "        flux_list.append(fluxes)\n",
    "\n",
    "        # Store extension names\n",
    "        extension_names_list.append(name)\n"
   ]
  },
  {
   "cell_type": "code",
   "execution_count": 22,
   "id": "6f9fc06f",
   "metadata": {},
   "outputs": [
    {
     "name": "stdout",
     "output_type": "stream",
     "text": [
      "  Extension Name                           Wavelengths within Range  \\\n",
      "0      SMC-SMP-1  (6553.0637408641605, 6567.821537038354, 6583.1...   \n",
      "1      SMC-SMP-2  (6553.51000174078, 6565.416766635332, 6568.098...   \n",
      "2      SMC-SMP-8  (6552.788925756808, 6567.364336480378, 6588.12...   \n",
      "3     SMC-SMP-13  (6553.400605080448, 6568.11135794641, 6583.508...   \n",
      "4     SMC-SMP-18  (6552.770059305075, 6567.507477808056, 6582.79...   \n",
      "5     SMC-SMP-20  (6552.103504840201, 6566.849310471623, 6582.10...   \n",
      "6     SMC-SMP-24  (6552.888838775578, 6567.652267536342, 6588.28...   \n",
      "7     SMC-SMP-25  (6552.980160567651, 6565.102701166069, 6567.85...   \n",
      "\n",
      "                                 Fluxes within Range  \n",
      "0  (1.2022578610051685e-14, 5.494703046298636e-13...  \n",
      "1  (5.462622213390637e-15, -4.161905026811382e-10...  \n",
      "2  (1.1403752283280212e-15, 4.791529148326006e-13...  \n",
      "3  (7.68697740521025e-15, 8.259523934973338e-13, ...  \n",
      "4  (1.5436682368707992e-14, 7.252845636297283e-13...  \n",
      "5  (3.756015626893724e-15, 1.1170046716796211e-12...  \n",
      "6  (1.2841874899416144e-14, 6.396599150665972e-13...  \n",
      "7  (8.506910043029823e-15, -6.46469115250165e-11,...  \n"
     ]
    }
   ],
   "source": [
    "# Create a Pandas DataFrame to organize the data\n",
    "data = {\n",
    "    'Extension Name': extension_names_list,\n",
    "    'Wavelengths within Range': wavelengths_list,\n",
    "    'Fluxes within Range': flux_list\n",
    "}\n",
    "\n",
    "df = pd.DataFrame(data)\n",
    "\n",
    "# Display the DataFrame\n",
    "print(df)"
   ]
  },
  {
   "cell_type": "code",
   "execution_count": 23,
   "id": "198b3ff7",
   "metadata": {},
   "outputs": [
    {
     "name": "stdout",
     "output_type": "stream",
     "text": [
      "  Extension Name                           Wavelengths within Range  \\\n",
      "0      SMC-SMP-1  (6553.0637408641605, 6567.821537038354, 6583.1...   \n",
      "1      SMC-SMP-2  (6553.51000174078, 6565.416766635332, 6568.098...   \n",
      "2      SMC-SMP-8  (6552.788925756808, 6567.364336480378, 6588.12...   \n",
      "3     SMC-SMP-13  (6553.400605080448, 6568.11135794641, 6583.508...   \n",
      "4     SMC-SMP-18  (6552.770059305075, 6567.507477808056, 6582.79...   \n",
      "5     SMC-SMP-20  (6552.103504840201, 6566.849310471623, 6582.10...   \n",
      "6     SMC-SMP-24  (6552.888838775578, 6567.652267536342, 6588.28...   \n",
      "7     SMC-SMP-25  (6552.980160567651, 6565.102701166069, 6567.85...   \n",
      "\n",
      "                                 Fluxes within Range  Mean Wavelengths  \\\n",
      "0  (1.2022578610051685e-14, 5.494703046298636e-13...       6573.119863   \n",
      "1  (5.462622213390637e-15, -4.161905026811382e-10...       6568.973895   \n",
      "2  (1.1403752283280212e-15, 4.791529148326006e-13...       6569.424785   \n",
      "3  (7.68697740521025e-15, 8.259523934973338e-13, ...       6573.444339   \n",
      "4  (1.5436682368707992e-14, 7.252845636297283e-13...       6572.808842   \n",
      "5  (3.756015626893724e-15, 1.1170046716796211e-12...       6572.122006   \n",
      "6  (1.2841874899416144e-14, 6.396599150665972e-13...       6569.609442   \n",
      "7  (8.506910043029823e-15, -6.46469115250165e-11,...       6568.585490   \n",
      "\n",
      "     Sum Fluxes  \n",
      "0  6.004163e-13  \n",
      "1 -4.156493e-10  \n",
      "2  4.852686e-13  \n",
      "3  8.589688e-13  \n",
      "4  7.908235e-13  \n",
      "5  1.134213e-12  \n",
      "6  6.920642e-13  \n",
      "7 -6.443660e-11  \n"
     ]
    }
   ],
   "source": [
    "# Calculate mean and sum for wavelengths and fluxes within the DataFrame\n",
    "df['Mean Wavelengths'] = df['Wavelengths within Range'].apply(lambda x: pd.Series(x).mean())\n",
    "df['Sum Fluxes'] = df['Fluxes within Range'].apply(lambda x: pd.Series(x).sum())\n",
    "\n",
    "# Display the DataFrame\n",
    "print(df)\n"
   ]
  },
  {
   "cell_type": "code",
   "execution_count": 24,
   "id": "116aaa9b",
   "metadata": {},
   "outputs": [
    {
     "name": "stdout",
     "output_type": "stream",
     "text": [
      "0     SMC-SMP-1\n",
      "1     SMC-SMP-2\n",
      "2     SMC-SMP-8\n",
      "3    SMC-SMP-13\n",
      "4    SMC-SMP-18\n",
      "5    SMC-SMP-20\n",
      "6    SMC-SMP-24\n",
      "7    SMC-SMP-25\n",
      "Name: Extension Name, dtype: object 0    6573.119863\n",
      "1    6568.973895\n",
      "2    6569.424785\n",
      "3    6573.444339\n",
      "4    6572.808842\n",
      "5    6572.122006\n",
      "6    6569.609442\n",
      "7    6568.585490\n",
      "Name: Mean Wavelengths, dtype: float64 0    6.004163e-13\n",
      "1   -4.156493e-10\n",
      "2    4.852686e-13\n",
      "3    8.589688e-13\n",
      "4    7.908235e-13\n",
      "5    1.134213e-12\n",
      "6    6.920642e-13\n",
      "7   -6.443660e-11\n",
      "Name: Sum Fluxes, dtype: float64\n"
     ]
    }
   ],
   "source": [
    "print(df[\"Extension Name\"], df['Mean Wavelengths'], df['Sum Fluxes'])"
   ]
  },
  {
   "cell_type": "code",
   "execution_count": 25,
   "id": "9499eecc",
   "metadata": {},
   "outputs": [],
   "source": [
    "df.to_csv('../flux-around-halpha.csv', index=False)\n"
   ]
  },
  {
   "cell_type": "code",
   "execution_count": null,
   "id": "b7df2f64",
   "metadata": {},
   "outputs": [],
   "source": []
  },
  {
   "cell_type": "code",
   "execution_count": null,
   "id": "82dd702a",
   "metadata": {},
   "outputs": [],
   "source": []
  }
 ],
 "metadata": {
  "kernelspec": {
   "display_name": "Python 3 (ipykernel)",
   "language": "python",
   "name": "python3"
  },
  "language_info": {
   "codemirror_mode": {
    "name": "ipython",
    "version": 3
   },
   "file_extension": ".py",
   "mimetype": "text/x-python",
   "name": "python",
   "nbconvert_exporter": "python",
   "pygments_lexer": "ipython3",
   "version": "3.8.5"
  }
 },
 "nbformat": 4,
 "nbformat_minor": 5
}

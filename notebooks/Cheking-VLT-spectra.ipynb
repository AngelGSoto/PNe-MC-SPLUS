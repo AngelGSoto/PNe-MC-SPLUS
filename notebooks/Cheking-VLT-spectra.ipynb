{
 "cells": [
  {
   "cell_type": "code",
   "execution_count": 1,
   "id": "9bf8846d",
   "metadata": {},
   "outputs": [],
   "source": [
    "import numpy as np\n",
    "from astropy.io import fits\n",
    "from scipy.ndimage import rotate\n",
    "import matplotlib.pyplot as plt\n",
    "from matplotlib.transforms import Affine2D\n",
    "import aplpy\n",
    "from matplotlib.patches import Rectangle\n",
    "from astropy.visualization import (MinMaxInterval, AsinhStretch)\n",
    "from astropy.wcs import WCS\n",
    "from astropy.visualization import wcsaxes\n",
    "from astropy import units as u\n",
    "import pandas as pd\n",
    "from astropy.table import Table, hstack\n",
    "from astropy.table import join\n",
    "import os"
   ]
  },
  {
   "cell_type": "code",
   "execution_count": 2,
   "id": "62d12821",
   "metadata": {},
   "outputs": [],
   "source": [
    "hdu = fits.open(\"../PN_line_atlas_v1.fits\")"
   ]
  },
  {
   "cell_type": "code",
   "execution_count": 3,
   "id": "44631094",
   "metadata": {},
   "outputs": [],
   "source": [
    "extension_names = [ext.name for ext in hdu]"
   ]
  },
  {
   "cell_type": "code",
   "execution_count": 4,
   "id": "87b366f9",
   "metadata": {},
   "outputs": [
    {
     "data": {
      "text/plain": [
       "ColDefs(\n",
       "    name = 'NAME'; format = '20A'\n",
       "    name = 'REF_HDU'; format = 'K'\n",
       "    name = 'REF_ORIGIN'; format = '40A'\n",
       "    name = 'RA'; format = 'D'; unit = 'deg'\n",
       "    name = 'DEC'; format = 'D'; unit = 'deg'\n",
       "    name = 'LINES'; format = 'D'\n",
       "    name = 'LINES_ERR'; format = 'D'; unit = 'Angstrom'\n",
       ")"
      ]
     },
     "execution_count": 4,
     "metadata": {},
     "output_type": "execute_result"
    }
   ],
   "source": [
    "hdu[\"Star Catalog\"].columns"
   ]
  },
  {
   "cell_type": "code",
   "execution_count": 6,
   "id": "7c83823f",
   "metadata": {},
   "outputs": [
    {
     "data": {
      "text/plain": [
       "FITS_rec([('DdDm-1',  2, 'DdDm-1_spectrum.fits', 250.07583333,  38.70552778,  91., 0.08158702),\n",
       "          ('G025.3-04.6',  3, 'G025.3-04.6_spectrum.fits', 283.583945  ,  -8.79329   , 121., 0.03026101),\n",
       "          ('G042.9-06.9',  4, 'G042.9-06.9_spectrum.fits', 293.639967  ,   5.68335   , 253., 0.05507612),\n",
       "          ('G205.8-26.7',  5, 'G205.8-26.7_spectrum.fits',  75.925029  ,  -6.16757   , 125., 0.04376004),\n",
       "          ('G295.3-09.3',  6, 'G295.3-09.3_spectrum.fits', 169.428989  , -70.82468   , 161., 0.04401434),\n",
       "          ('G334.8-07.4',  7, 'G334.8-07.4_spectrum.fits', 255.761363  , -53.93188   , 152., 0.05063981),\n",
       "          ('He2-436',  8, 'He2-436_spectrum.fits', 293.028202  , -34.21529   , 161., 0.03826753),\n",
       "          ('LMC-SMP-25',  9, 'LMC-SMP-25_spectrum.fits',  76.597884  , -69.05443   , 128., 0.0308134 ),\n",
       "          ('LMC-SMP-31', 10, 'LMC-SMP-31_spectrum.fits',  77.332776  , -67.78949   , 106., 0.03337036),\n",
       "          ('LMC-SMP-53', 11, 'LMC-SMP-53_spectrum.fits',  80.384399  , -67.00077   , 117., 0.04419024),\n",
       "          ('LMC-SMP-58', 12, 'LMC-SMP-58_spectrum.fits',  81.084295  , -70.08304   , 122., 0.03520452),\n",
       "          ('LMC-Sa-104a', 13, 'LMC-Sa-104a_spectrum.fits',  66.383334  , -66.78767   , 120., 0.05145623),\n",
       "          ('SMC-SMP-1', 14, 'SMC-SMP-1_spectrum.fits',   5.994941  , -73.6337    ,  99., 0.03397618),\n",
       "          ('SMC-SMP-2', 15, 'SMC-SMP-2_spectrum.fits',   8.16211   , -71.6988    , 118., 0.0431798 ),\n",
       "          ('SMC-SMP-8', 16, 'SMC-SMP-8_spectrum.fits',  10.853975  , -72.63791   ,  82., 0.04562253),\n",
       "          ('SMC-SMP-13', 17, 'SMC-SMP-13_spectrum.fits',  12.463767  , -73.73887   , 108., 0.03396101),\n",
       "          ('SMC-SMP-18', 18, 'SMC-SMP-18_spectrum.fits',  12.990889  , -73.3413    , 107., 0.02977052),\n",
       "          ('SMC-SMP-20', 19, 'SMC-SMP-20_spectrum.fits',  14.021361  , -70.32346   , 118., 0.0363624 ),\n",
       "          ('SMC-SMP-24', 20, 'SMC-SMP-24_spectrum.fits',  14.81743   , -72.03263   , 105., 0.04087212),\n",
       "          ('SMC-SMP-25', 21, 'SMC-SMP-25_spectrum.fits',  14.916737  , -71.63699   ,  71., 0.06566697)],\n",
       "         dtype=(numpy.record, [('NAME', 'S20'), ('REF_HDU', '>i8'), ('REF_ORIGIN', 'S40'), ('RA', '>f8'), ('DEC', '>f8'), ('LINES', '>f8'), ('LINES_ERR', '>f8')]))"
      ]
     },
     "execution_count": 6,
     "metadata": {},
     "output_type": "execute_result"
    }
   ],
   "source": [
    "hdu[\"Star Catalog\"].data"
   ]
  },
  {
   "cell_type": "code",
   "execution_count": 10,
   "id": "e7026c3d",
   "metadata": {},
   "outputs": [],
   "source": [
    "name  = hdu[\"Star Catalog\"].data.field(\"NAME\")\n",
    "RA  = hdu[\"Star Catalog\"].data.field(\"RA\")\n",
    "DEC  = hdu[\"Star Catalog\"].data.field(\"DEC\")"
   ]
  },
  {
   "cell_type": "code",
   "execution_count": 13,
   "id": "bf614791",
   "metadata": {},
   "outputs": [
    {
     "name": "stdout",
     "output_type": "stream",
     "text": [
      "DdDm-1 250.075833333333 38.7055277777778\n",
      "G025.3-04.6 283.583945 -8.79329\n",
      "G042.9-06.9 293.639967 5.68335\n",
      "G205.8-26.7 75.925029 -6.16757\n",
      "G295.3-09.3 169.428989 -70.82468\n",
      "G334.8-07.4 255.761363 -53.93188\n",
      "He2-436 293.028202 -34.21529\n",
      "LMC-SMP-25 76.597884 -69.05443\n",
      "LMC-SMP-31 77.332776 -67.78949\n",
      "LMC-SMP-53 80.384399 -67.00077\n",
      "LMC-SMP-58 81.084295 -70.08304\n",
      "LMC-Sa-104a 66.383334 -66.78767\n",
      "SMC-SMP-1 5.994941 -73.6337\n",
      "SMC-SMP-2 8.16211 -71.6988\n",
      "SMC-SMP-8 10.853975 -72.63791\n",
      "SMC-SMP-13 12.463767 -73.73887\n",
      "SMC-SMP-18 12.990889 -73.3413\n",
      "SMC-SMP-20 14.021361 -70.32346\n",
      "SMC-SMP-24 14.81743 -72.03263\n",
      "SMC-SMP-25 14.916737 -71.63699\n"
     ]
    }
   ],
   "source": [
    "for i,j,k in zip(name, RA, DEC):\n",
    "    print(i,j,k)"
   ]
  },
  {
   "cell_type": "code",
   "execution_count": null,
   "id": "ce01bd1c",
   "metadata": {},
   "outputs": [],
   "source": []
  }
 ],
 "metadata": {
  "kernelspec": {
   "display_name": "Python 3 (ipykernel)",
   "language": "python",
   "name": "python3"
  },
  "language_info": {
   "codemirror_mode": {
    "name": "ipython",
    "version": 3
   },
   "file_extension": ".py",
   "mimetype": "text/x-python",
   "name": "python",
   "nbconvert_exporter": "python",
   "pygments_lexer": "ipython3",
   "version": "3.9.7"
  }
 },
 "nbformat": 4,
 "nbformat_minor": 5
}

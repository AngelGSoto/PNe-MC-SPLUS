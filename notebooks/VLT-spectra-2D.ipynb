{
 "cells": [
  {
   "cell_type": "code",
   "execution_count": 1,
   "id": "73d6a049",
   "metadata": {},
   "outputs": [],
   "source": [
    "import numpy as np\n",
    "import sep\n",
    "import os \n",
    "# additional setup for reading the test image and displaying plots\n",
    "#import fitsio\n",
    "from astropy.io import fits\n",
    "import matplotlib.pyplot as plt\n",
    "from matplotlib import rcParams\n",
    "\n",
    "%matplotlib inline\n",
    "\n",
    "rcParams['figure.figsize'] = [18., 15.]"
   ]
  },
  {
   "cell_type": "code",
   "execution_count": 2,
   "id": "5f72e786",
   "metadata": {},
   "outputs": [],
   "source": [
    "datadir = \"../PN_atlas_datapack_v1/2D\"\n",
    "fitsfile = \"SMC-SMP-2_2D_spectrum_VIS.fits\"\n",
    "hdulist= fits.open(os.path.join(datadir, fitsfile))"
   ]
  },
  {
   "cell_type": "code",
   "execution_count": 3,
   "id": "87fc7122",
   "metadata": {},
   "outputs": [
    {
     "name": "stdout",
     "output_type": "stream",
     "text": [
      "Filename: ../PN_atlas_datapack_v1/2D/SMC-SMP-2_2D_spectrum_VIS.fits\n",
      "No.    Name      Ver    Type      Cards   Dimensions   Format\n",
      "  0  FLUX          1 PrimaryHDU     606   (24318, 104)   float32   \n",
      "  1  ERRS          1 ImageHDU        32   (24318, 104)   float32   \n",
      "  2  QUAL          1 ImageHDU        31   (24318, 104)   int32   \n"
     ]
    }
   ],
   "source": [
    "hdulist.info()"
   ]
  },
  {
   "cell_type": "code",
   "execution_count": 4,
   "id": "4ee71f33",
   "metadata": {},
   "outputs": [
    {
     "data": {
      "text/plain": [
       "XTENSION= 'IMAGE   '           / IMAGE extension                                \n",
       "BITPIX  =                  -32 / number of bits per data pixel                  \n",
       "NAXIS   =                    2 / number of data axes                            \n",
       "NAXIS1  =                24318 / length of data axis 1                          \n",
       "NAXIS2  =                  104 / length of data axis 2                          \n",
       "PCOUNT  =                    0 / required keyword; must = 0                     \n",
       "GCOUNT  =                    1 / required keyword; must = 1                     \n",
       "CRPIX1  =                   1.                                                  \n",
       "CRVAL1  =               533.66                                                  \n",
       "CDELT1  =                 0.02                                                  \n",
       "CTYPE1  = 'LINEAR  '                                                            \n",
       "CRPIX2  =                   1.                                                  \n",
       "CRVAL2  =    -11.0600004196167                                                  \n",
       "CDELT2  =                 0.16                                                  \n",
       "CTYPE2  = 'LINEAR  '                                                            \n",
       "CD1_1   =                 0.02                                                  \n",
       "CD1_2   =                   0.                                                  \n",
       "CD2_1   =                   0.                                                  \n",
       "CD2_2   =                 0.16                                                  \n",
       "EXTNAME = 'ERRS    '                                                            \n",
       "BUNIT   = 'ADU     '                                                            \n",
       "HDUCLASS= 'ESO     '           / hdu classification                             \n",
       "HDUDOC  = 'DICD    '           / hdu reference document                         \n",
       "HDUVERS = 'DICD V6.0'          / hdu reference document version                 \n",
       "HDUCLAS1= 'IMAGE   '           / hdu format classification                      \n",
       "HDUCLAS2= 'DATA    '           / hdu type classification                        \n",
       "HDUCLAS3= 'RMSE    '           / hdu info classification                        \n",
       "SCIDATA = 'FLUX    '           / name of data extension                         \n",
       "QUALDATA= 'QUAL    '           / name of qual extension                         \n",
       "TITLE   = 'SMC-SMP-2_3480838_2022-11-30T02:00:53.026_S1.2x11_1x1_VIS_NOD'       \n",
       "CHECKSUM= 'ZcacfcTbZcZbdcZb'   / HDU checksum updated 2022-12-02T13:03:50       \n",
       "DATASUM = '1595753073'         / data unit checksum updated 2022-12-02T13:03:50 "
      ]
     },
     "execution_count": 4,
     "metadata": {},
     "output_type": "execute_result"
    }
   ],
   "source": [
    "hdulist[1].header"
   ]
  },
  {
   "cell_type": "code",
   "execution_count": 7,
   "id": "34ec86cc",
   "metadata": {},
   "outputs": [
    {
     "data": {
      "text/plain": [
       "array([[-1.34971643e+03, -2.08858887e+03,  3.49532349e+03, ...,\n",
       "        -1.59907169e+01, -5.78482704e+01, -2.06688766e+01],\n",
       "       [ 7.47956348e+03, -1.59776934e+04,  1.72947607e+03, ...,\n",
       "        -6.38944507e-01, -3.19778919e+01,  1.60095644e+00],\n",
       "       [-3.88353210e+02, -5.20621875e+03, -2.45636572e+03, ...,\n",
       "        -4.50793839e+01, -1.05982141e+01,  1.00374422e+01],\n",
       "       ...,\n",
       "       [ 2.07280859e+03, -3.92031921e+02,  1.45814404e+03, ...,\n",
       "        -3.01736279e+01,  3.28664017e+01,  5.11390228e+01],\n",
       "       [-4.34990820e+03, -1.10371814e+03, -1.38620825e+03, ...,\n",
       "        -1.15981655e+01, -3.41320515e-01,  2.85160866e+01],\n",
       "       [ 0.00000000e+00,  0.00000000e+00,  0.00000000e+00, ...,\n",
       "         0.00000000e+00,  0.00000000e+00,  0.00000000e+00]], dtype=float32)"
      ]
     },
     "execution_count": 7,
     "metadata": {},
     "output_type": "execute_result"
    }
   ],
   "source": [
    "data = hdulist[0].data\n",
    "data"
   ]
  },
  {
   "cell_type": "code",
   "execution_count": 8,
   "id": "1ad07ac2",
   "metadata": {},
   "outputs": [
    {
     "data": {
      "text/plain": [
       "<matplotlib.image.AxesImage at 0x7fb345fbacd0>"
      ]
     },
     "execution_count": 8,
     "metadata": {},
     "output_type": "execute_result"
    },
    {
     "data": {
      "image/png": "[encoded data removed]",
      "text/plain": [
       "<Figure size 1800x1500 with 1 Axes>"
      ]
     },
     "metadata": {},
     "output_type": "display_data"
    }
   ],
   "source": [
    "# show the image\n",
    "m, s = np.mean(data), np.std(data)\n",
    "plt.imshow(data, interpolation='nearest', cmap='gray', vmin=m-s, vmax=m+s, origin='lower')\n",
    "#plt.colorbar();\n",
    "#plt.savefig(\"difference_Ha.jpg\")"
   ]
  },
  {
   "cell_type": "code",
   "execution_count": null,
   "id": "9ab8d7c6",
   "metadata": {},
   "outputs": [],
   "source": []
  },
  {
   "cell_type": "code",
   "execution_count": null,
   "id": "2cb54ca8",
   "metadata": {},
   "outputs": [],
   "source": []
  }
 ],
 "metadata": {
  "kernelspec": {
   "display_name": "Python 3 (ipykernel)",
   "language": "python",
   "name": "python3"
  },
  "language_info": {
   "codemirror_mode": {
    "name": "ipython",
    "version": 3
   },
   "file_extension": ".py",
   "mimetype": "text/x-python",
   "name": "python",
   "nbconvert_exporter": "python",
   "pygments_lexer": "ipython3",
   "version": "3.9.7"
  }
 },
 "nbformat": 4,
 "nbformat_minor": 5
}

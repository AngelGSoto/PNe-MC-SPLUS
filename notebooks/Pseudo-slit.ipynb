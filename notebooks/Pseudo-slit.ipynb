{
 "cells": [
  {
   "cell_type": "markdown",
   "id": "3d68122b",
   "metadata": {},
   "source": [
    "# Psudo slit to measurent Halpha"
   ]
  },
  {
   "cell_type": "code",
   "execution_count": 1,
   "id": "2405fe07",
   "metadata": {},
   "outputs": [],
   "source": [
    "import matplotlib.pyplot as plt\n",
    "import numpy as np\n",
    "from astropy.io import fits\n",
    "from scipy.ndimage import rotate"
   ]
  },
  {
   "cell_type": "code",
   "execution_count": 2,
   "id": "a84866f5",
   "metadata": {},
   "outputs": [],
   "source": [
    "# Calculate pseudo slit flux using only H-alpha data\n",
    "def calculate_flux_along_pseudo_slit(h_alpha_data, angle=None, width_slit=5, length_slit=20, max_width=100):\n",
    "    if angle is not None:\n",
    "        h_alpha_rot = rotate(h_alpha_data, angle, order=5)\n",
    "    else:\n",
    "        h_alpha_rot = h_alpha_data\n",
    "\n",
    "    center_x, center_y = h_alpha_rot.shape[0] // 2, h_alpha_rot.shape[1] // 2\n",
    "    pixels_conversion = 1\n",
    "    \n",
    "    # Calculate pseudo slit dimensions in the rotated image\n",
    "    width_slit_new = int(width_slit / pixels_conversion)\n",
    "    length_slit_new = int(length_slit / pixels_conversion)\n",
    "\n",
    "    if width_slit < max_width and length_slit <= max_width:\n",
    "        k = sum_flux = 0.0\n",
    "        for i in range(center_x, center_x + length_slit_new):\n",
    "            if (width_slit_new % 2) == 0:\n",
    "                j_range = range(center_y - width_slit_new // 2, center_y + width_slit_new // 2)\n",
    "            else:\n",
    "                j_range = range(center_y - (width_slit_new - 1) // 2, center_y + (width_slit_new - 1) // 2 + 1)\n",
    "\n",
    "            for j in j_range:\n",
    "                if h_alpha_rot[i, j] > 0:  # Considering only positive H-alpha values\n",
    "                    sum_flux += h_alpha_rot[i, j]\n",
    "                    k += 1\n",
    "\n",
    "    # Using these coordinates to estimate the pseudo slit coordinates\n",
    "    pseudo_slit_coords = []\n",
    "\n",
    "    # Generate coordinates along the pseudo slit\n",
    "    for i in range(center_x, center_x + length_slit_new):\n",
    "        if (width_slit_new % 2) == 0:\n",
    "            j_range = range(center_y - width_slit_new // 2, center_y + width_slit_new // 2)\n",
    "        else:\n",
    "            j_range = range(center_y - (width_slit_new - 1) // 2, center_y + (width_slit_new - 1) // 2 + 1)\n",
    "\n",
    "        for j in j_range:\n",
    "            if h_alpha_rot[int(i), int(j)] > 0:  # Convert indices to integers\n",
    "                pseudo_slit_coords.append([int(i), int(j)])  # Append integer indices to pseudo slit coordinates\n",
    "\n",
    "        return sum_flux, k, pseudo_slit_coords\n",
    "\n",
    "    else:\n",
    "        print(\"Sorry, your slit width or/and length are larger than the true size of the image\")\n",
    "        return None"
   ]
  },
  {
   "cell_type": "code",
   "execution_count": 3,
   "id": "8817cf00",
   "metadata": {},
   "outputs": [
    {
     "data": {
      "text/plain": [
       "array([[1.e-17, 1.e-17, 1.e-17, ..., 1.e-17, 1.e-17, 1.e-17],\n",
       "       [1.e-17, 1.e-17, 1.e-17, ..., 1.e-17, 1.e-17, 1.e-17],\n",
       "       [1.e-17, 1.e-17, 1.e-17, ..., 1.e-17, 1.e-17, 1.e-17],\n",
       "       ...,\n",
       "       [1.e-17, 1.e-17, 1.e-17, ..., 1.e-17, 1.e-17, 1.e-17],\n",
       "       [1.e-17, 1.e-17, 1.e-17, ..., 1.e-17, 1.e-17, 1.e-17],\n",
       "       [1.e-17, 1.e-17, 1.e-17, ..., 1.e-17, 1.e-17, 1.e-17]],\n",
       "      dtype=float32)"
      ]
     },
     "execution_count": 3,
     "metadata": {},
     "output_type": "execute_result"
    }
   ],
   "source": [
    "# Reading FITS file\n",
    "hdu = fits.open(\"../maps_fits/b'iDR4_3_MC0114_0562811'_halpha_v1.fits\")\n",
    "hdu[0].data"
   ]
  },
  {
   "cell_type": "code",
   "execution_count": 4,
   "id": "9646d18b",
   "metadata": {},
   "outputs": [],
   "source": [
    "data_haNii = hdu[0].data"
   ]
  },
  {
   "cell_type": "code",
   "execution_count": 5,
   "id": "7206bf5f",
   "metadata": {},
   "outputs": [],
   "source": [
    "# Assuming you have loaded the H-alpha data into the variable h_alpha_data\n",
    "\n",
    "# Define the width and length of the pseudo-slit\n",
    "width_slit = 5  # Example width of the slit\n",
    "length_slit = 10  # Example length of the slit\n",
    "max_width = 100  # Example maximum width for validation\n",
    "angle = 60  # Example angle for rotation (set to None to avoid rotation)"
   ]
  },
  {
   "cell_type": "code",
   "execution_count": 6,
   "id": "28dba2d9",
   "metadata": {},
   "outputs": [
    {
     "name": "stdout",
     "output_type": "stream",
     "text": [
      "Flux along pseudo-slit: 2.6409556643746324e-13\n",
      "Number of spaxels used: 50.0\n",
      "Coordinates of the slit: [[41, 39], [41, 40], [41, 41], [41, 42], [41, 43]]\n"
     ]
    }
   ],
   "source": [
    "# Calculate flux along the pseudo-slit\n",
    "flux, spaxels_used, pseudo_slit_coords = calculate_flux_along_pseudo_slit(data_haNii, angle, width_slit, length_slit, max_width)\n",
    "\n",
    "if flux is not None:\n",
    "    print(f\"Flux along pseudo-slit: {flux}\")\n",
    "    print(f\"Number of spaxels used: {spaxels_used}\")\n",
    "    print(f\"Coordinates of the slit: {pseudo_slit_coords}\")\n",
    "else:\n",
    "    print(\"Flux calculation could not be performed due to slit size.\")\n"
   ]
  },
  {
   "cell_type": "code",
   "execution_count": null,
   "id": "47651b81",
   "metadata": {},
   "outputs": [],
   "source": []
  },
  {
   "cell_type": "code",
   "execution_count": 7,
   "id": "543bdc77",
   "metadata": {},
   "outputs": [
    {
     "name": "stdout",
     "output_type": "stream",
     "text": [
      "Flux along pseudo-slit: 4.3576057863991143e-13\n",
      "Number of spaxels used: 50.0\n",
      "Coordinates of the slit: [[30, 28], [30, 29], [30, 30], [30, 31], [30, 32]]\n"
     ]
    }
   ],
   "source": [
    "# Assuming you have loaded the H-alpha data into the variable h_alpha_data\n",
    "\n",
    "# Calculate flux along the pseudo-slit without rotating\n",
    "flux1, spaxels_used1, pseudo_slit_coords1 = calculate_flux_along_pseudo_slit(data_haNii, width_slit=width_slit, length_slit=length_slit, max_width=max_width)\n",
    "\n",
    "if flux1 is not None:\n",
    "    print(f\"Flux along pseudo-slit: {flux1}\")\n",
    "    print(f\"Number of spaxels used: {spaxels_used1}\")\n",
    "    print(f\"Coordinates of the slit: {pseudo_slit_coords1}\")\n",
    "else:\n",
    "    print(\"Flux calculation could not be performed due to slit size.\")\n"
   ]
  },
  {
   "cell_type": "markdown",
   "id": "84656d7c",
   "metadata": {},
   "source": [
    "# Plotting"
   ]
  },
  {
   "cell_type": "code",
   "execution_count": 8,
   "id": "661010c6",
   "metadata": {},
   "outputs": [],
   "source": [
    "def plot_image_with_pseudo_slit(image_data, pseudo_slit_coords, width_slit):\n",
    "    plt.figure(figsize=(8, 6))\n",
    "    plt.imshow(image_data, cmap='gray')\n",
    "    plt.colorbar(label='Intensity')\n",
    "\n",
    "    # Extract x and y coordinates from pseudo_slit_coords\n",
    "    x_coords = [coord[1] for coord in pseudo_slit_coords]\n",
    "    y_coords = [coord[0] for coord in pseudo_slit_coords]\n",
    "\n",
    "    # Plot the pseudo slit\n",
    "    slit_segments = []\n",
    "    for i in range(len(x_coords) - 1):\n",
    "        x0, y0 = x_coords[i], y_coords[i]\n",
    "        x1, y1 = x_coords[i + 1], y_coords[i + 1]\n",
    "\n",
    "        # Calculate perpendicular offsets\n",
    "        dx = x1 - x0\n",
    "        dy = y1 - y0\n",
    "        length = (dx**2 + dy**2)**0.5\n",
    "        delta_x = width_slit * dy / length\n",
    "        delta_y = width_slit * dx / length\n",
    "\n",
    "        # Calculate coordinates for the slit edges\n",
    "        slit_x = [x0 + delta_x, x1 + delta_x, x1 - delta_x, x0 - delta_x, x0 + delta_x]\n",
    "        slit_y = [y0 - delta_y, y1 - delta_y, y1 + delta_y, y0 + delta_y, y0 - delta_y]\n",
    "\n",
    "        slit_segments.extend(list(zip(slit_x, slit_y)))\n",
    "\n",
    "    # Combine the segments to form a continuous slit\n",
    "    slit_segments.append(slit_segments[0])  # Close the slit\n",
    "    slit_segments = np.array(slit_segments)\n",
    "\n",
    "    plt.plot(slit_segments[:, 0], slit_segments[:, 1], color='red')  # Plot the slit\n",
    "\n",
    "    plt.xlabel('X-axis')\n",
    "    plt.ylabel('Y-axis')\n",
    "    plt.show()\n"
   ]
  },
  {
   "cell_type": "code",
   "execution_count": 9,
   "id": "680ff1d4",
   "metadata": {},
   "outputs": [],
   "source": [
    "#Plotting"
   ]
  },
  {
   "cell_type": "code",
   "execution_count": 10,
   "id": "68066531",
   "metadata": {},
   "outputs": [
    {
     "data": {
      "text/plain": [
       "[[41, 39], [41, 40], [41, 41], [41, 42], [41, 43]]"
      ]
     },
     "execution_count": 10,
     "metadata": {},
     "output_type": "execute_result"
    }
   ],
   "source": [
    "pseudo_slit_coords"
   ]
  },
  {
   "cell_type": "code",
   "execution_count": null,
   "id": "93fba965",
   "metadata": {},
   "outputs": [],
   "source": []
  },
  {
   "cell_type": "code",
   "execution_count": 11,
   "id": "1ab588ea",
   "metadata": {},
   "outputs": [
    {
     "data": {
      "image/png": "[encoded data removed]",
      "text/plain": [
       "<Figure size 800x600 with 2 Axes>"
      ]
     },
     "metadata": {},
     "output_type": "display_data"
    }
   ],
   "source": [
    "plot_image_with_pseudo_slit(data_haNii, pseudo_slit_coords, width_slit=width_slit)"
   ]
  },
  {
   "cell_type": "code",
   "execution_count": null,
   "id": "e2ca0a48",
   "metadata": {},
   "outputs": [],
   "source": []
  },
  {
   "cell_type": "code",
   "execution_count": null,
   "id": "88737048",
   "metadata": {},
   "outputs": [],
   "source": []
  },
  {
   "cell_type": "code",
   "execution_count": null,
   "id": "c9433cf2",
   "metadata": {},
   "outputs": [],
   "source": []
  },
  {
   "cell_type": "code",
   "execution_count": null,
   "id": "7b308ab5",
   "metadata": {},
   "outputs": [],
   "source": []
  }
 ],
 "metadata": {
  "kernelspec": {
   "display_name": "Python 3 (ipykernel)",
   "language": "python",
   "name": "python3"
  },
  "language_info": {
   "codemirror_mode": {
    "name": "ipython",
    "version": 3
   },
   "file_extension": ".py",
   "mimetype": "text/x-python",
   "name": "python",
   "nbconvert_exporter": "python",
   "pygments_lexer": "ipython3",
   "version": "3.9.7"
  }
 },
 "nbformat": 4,
 "nbformat_minor": 5
}

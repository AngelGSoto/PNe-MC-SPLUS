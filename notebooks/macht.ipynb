{
 "cells": [
  {
   "cell_type": "code",
   "execution_count": 1,
   "id": "b9971bf2",
   "metadata": {},
   "outputs": [
    {
     "name": "stderr",
     "output_type": "stream",
     "text": [
      "WARNING: AstropyDeprecationWarning: The update_default_config function is deprecated and may be removed in a future version. [astroquery._astropy_init]\n"
     ]
    }
   ],
   "source": [
    "import splusdata\n",
    "import getpass\n",
    "import pandas as pd\n",
    "from astropy.table import Table, vstack\n",
    "import numpy as np\n",
    "from pathlib import Path"
   ]
  },
  {
   "cell_type": "code",
   "execution_count": 2,
   "id": "1e4f2e9f",
   "metadata": {},
   "outputs": [
    {
     "name": "stdout",
     "output_type": "stream",
     "text": [
      "Login: Luis\n",
      "Password: ········\n",
      "You have access to internal data\n"
     ]
    }
   ],
   "source": [
    "# Connecting with SPLUS database\n",
    "username = input(prompt=\"Login: \")\n",
    "password = getpass.getpass(\"Password: \")\n",
    "conn = splusdata.connect(username, password)"
   ]
  },
  {
   "cell_type": "code",
   "execution_count": 4,
   "id": "f590abfa",
   "metadata": {},
   "outputs": [],
   "source": [
    "df = pd.read_csv(\"../smc-final-update.csv\")\n",
    "#df = pd.read_csv(\"all_CaMg_0622_simbad.dat\")\n",
    "#df.rename(columns={' RA': 'RA', ' DEC': 'DEC'}, inplace=True)\n",
    "#df[\"RA\"]"
   ]
  },
  {
   "cell_type": "code",
   "execution_count": 5,
   "id": "f29b0fd2",
   "metadata": {},
   "outputs": [
    {
     "data": {
      "text/plain": [
       "Index(['Name', 'RAJ2000', 'DEJ2000', 'SplusStatus', 'Spectra'], dtype='object')"
      ]
     },
     "execution_count": 5,
     "metadata": {},
     "output_type": "execute_result"
    }
   ],
   "source": [
    "# Rewriten the table\n",
    "df.columns"
   ]
  },
  {
   "cell_type": "code",
   "execution_count": 6,
   "id": "369a523a",
   "metadata": {},
   "outputs": [],
   "source": [
    "columns = ['recno', 'Name', '_RA', '_DE', 'FHbeta', 'e_FHbeta', 'n_Ne-', 'Ne-', 'l_T[OIII]',\n",
    "       'T[OIII]', 'l_T[NII]', 'T[NII]', 'Copt', 'SimbadName']"
   ]
  },
  {
   "cell_type": "code",
   "execution_count": 7,
   "id": "825d2bd2",
   "metadata": {},
   "outputs": [
    {
     "data": {
      "text/html": [
       "<div>\n",
       "<style scoped>\n",
       "    .dataframe tbody tr th:only-of-type {\n",
       "        vertical-align: middle;\n",
       "    }\n",
       "\n",
       "    .dataframe tbody tr th {\n",
       "        vertical-align: top;\n",
       "    }\n",
       "\n",
       "    .dataframe thead th {\n",
       "        text-align: right;\n",
       "    }\n",
       "</style>\n",
       "<table border=\"1\" class=\"dataframe\">\n",
       "  <thead>\n",
       "    <tr style=\"text-align: right;\">\n",
       "      <th></th>\n",
       "      <th>Name</th>\n",
       "      <th>RAJ2000</th>\n",
       "      <th>DEJ2000</th>\n",
       "      <th>SplusStatus</th>\n",
       "      <th>Spectra</th>\n",
       "    </tr>\n",
       "  </thead>\n",
       "  <tbody>\n",
       "    <tr>\n",
       "      <th>0</th>\n",
       "      <td>LHA 115-N 4</td>\n",
       "      <td>8.591625</td>\n",
       "      <td>-73.222611</td>\n",
       "      <td>0</td>\n",
       "      <td>n</td>\n",
       "    </tr>\n",
       "    <tr>\n",
       "      <th>1</th>\n",
       "      <td>LHA 115-N 5</td>\n",
       "      <td>10.340333</td>\n",
       "      <td>-72.754639</td>\n",
       "      <td>0</td>\n",
       "      <td>n</td>\n",
       "    </tr>\n",
       "    <tr>\n",
       "      <th>2</th>\n",
       "      <td>LHA 115-N 6</td>\n",
       "      <td>10.365625</td>\n",
       "      <td>-73.785139</td>\n",
       "      <td>0</td>\n",
       "      <td>NaN</td>\n",
       "    </tr>\n",
       "    <tr>\n",
       "      <th>3</th>\n",
       "      <td>Jacoby SMC 1</td>\n",
       "      <td>10.617292</td>\n",
       "      <td>-73.348639</td>\n",
       "      <td>0</td>\n",
       "      <td>NaN</td>\n",
       "    </tr>\n",
       "    <tr>\n",
       "      <th>4</th>\n",
       "      <td>[MA93] 44</td>\n",
       "      <td>10.789167</td>\n",
       "      <td>-73.134361</td>\n",
       "      <td>0</td>\n",
       "      <td>NaN</td>\n",
       "    </tr>\n",
       "    <tr>\n",
       "      <th>...</th>\n",
       "      <td>...</td>\n",
       "      <td>...</td>\n",
       "      <td>...</td>\n",
       "      <td>...</td>\n",
       "      <td>...</td>\n",
       "    </tr>\n",
       "    <tr>\n",
       "      <th>91</th>\n",
       "      <td>LHA_115-N_8</td>\n",
       "      <td>10.805830</td>\n",
       "      <td>-72.920280</td>\n",
       "      <td>0?</td>\n",
       "      <td>NaN</td>\n",
       "    </tr>\n",
       "    <tr>\n",
       "      <th>92</th>\n",
       "      <td>DPR1</td>\n",
       "      <td>13.608333</td>\n",
       "      <td>-72.516500</td>\n",
       "      <td>0</td>\n",
       "      <td>y</td>\n",
       "    </tr>\n",
       "    <tr>\n",
       "      <th>93</th>\n",
       "      <td>DPR2</td>\n",
       "      <td>14.948333</td>\n",
       "      <td>-72.542056</td>\n",
       "      <td>0</td>\n",
       "      <td>y</td>\n",
       "    </tr>\n",
       "    <tr>\n",
       "      <th>94</th>\n",
       "      <td>DPR3</td>\n",
       "      <td>15.730000</td>\n",
       "      <td>-72.358889</td>\n",
       "      <td>0</td>\n",
       "      <td>y</td>\n",
       "    </tr>\n",
       "    <tr>\n",
       "      <th>95</th>\n",
       "      <td>DPR4</td>\n",
       "      <td>16.125000</td>\n",
       "      <td>-73.252917</td>\n",
       "      <td>0</td>\n",
       "      <td>y</td>\n",
       "    </tr>\n",
       "  </tbody>\n",
       "</table>\n",
       "<p>96 rows × 5 columns</p>\n",
       "</div>"
      ],
      "text/plain": [
       "            Name    RAJ2000    DEJ2000 SplusStatus Spectra\n",
       "0    LHA 115-N 4   8.591625 -73.222611           0       n\n",
       "1    LHA 115-N 5  10.340333 -72.754639           0       n\n",
       "2    LHA 115-N 6  10.365625 -73.785139           0     NaN\n",
       "3   Jacoby SMC 1  10.617292 -73.348639           0     NaN\n",
       "4      [MA93] 44  10.789167 -73.134361           0     NaN\n",
       "..           ...        ...        ...         ...     ...\n",
       "91   LHA_115-N_8  10.805830 -72.920280          0?     NaN\n",
       "92          DPR1  13.608333 -72.516500           0       y\n",
       "93          DPR2  14.948333 -72.542056           0       y\n",
       "94          DPR3  15.730000 -72.358889           0       y\n",
       "95          DPR4  16.125000 -73.252917           0       y\n",
       "\n",
       "[96 rows x 5 columns]"
      ]
     },
     "execution_count": 7,
     "metadata": {},
     "output_type": "execute_result"
    }
   ],
   "source": [
    "#df = df[columns]\n",
    "df"
   ]
  },
  {
   "cell_type": "code",
   "execution_count": null,
   "id": "31ec3e9c",
   "metadata": {},
   "outputs": [],
   "source": [
    "#df.rename(columns={'_RA': 'RA', '_DE': 'DEC'}, inplace=True)\n",
    "#df"
   ]
  },
  {
   "cell_type": "code",
   "execution_count": null,
   "id": "424eaabd",
   "metadata": {},
   "outputs": [],
   "source": [
    "#Query = f\"\"\"SELECT r.FIELD, r.ID, r.RA_r, r.DEC_r, u.u_psf, z.z_psf, g.g_psf, r.r_psf, i.i_psf,\n",
    " #       j0378.j0378_psf, j0395.j0395_psf, j0410.j0410_psf, \n",
    " #       j0430.j0430_psf, j0515.j0515_psf, j0660.j0660_psf, \n",
    "  #      j0861.j0861_psf, u.e_u_psf, z.e_z_psf, g.e_g_psf, r.e_r_psf, i.e_i_psf,\n",
    "  #      j0378.e_j0378_psf, j0395.e_j0395_psf, j0410.e_j0410_psf, \n",
    "  #      j0430.e_j0430_psf, j0515.e_j0515_psf, j0660.e_j0660_psf, \n",
    "  #      j0861.e_j0861_psf FROM idr4_psf.idr4_psf_g as g JOIN \n",
    "  #      idr4_psf.idr4_psf_z as z on z.ID = g.ID JOIN\n",
    "  #      idr4_psf.idr4_psf_r as r on r.id = g.id join\n",
    "  #      idr4_psf.idr4_psf_i as i on i.id = g.id join\n",
    "  #      idr4_psf.idr4_psf_u as u on u.id = g.id join\n",
    "  #      idr4_psf.idr4_psf_j0378 as j0378 on j0378.id = g.id join\n",
    "  #      idr4_psf.idr4_psf_j0395 as j0395 on j0395.id = g.id join\n",
    "  #      idr4_psf.idr4_psf_j0410 as j0410 on j0410.id = g.id join\n",
    "  #      idr4_psf.idr4_psf_j0430 as j0430 on j0430.id = g.id join\n",
    "  #      idr4_psf.idr4_psf_j0515 as j0515 on j0515.id = g.id join\n",
    "  #      idr4_psf.idr4_psf_j0660 as j0660 on j0660.id = g.id join\n",
    "  #      idr4_psf.idr4_psf_j0861 as j0861 on j0861.id = g.id JOIN TAP_UPLOAD.upload AS upl \n",
    "  #          ON 1=CONTAINS( POINT('ICRS', r.RA_r, r.DEC_r), \n",
    "  #          CIRCLE('ICRS', upl.RA_ICRS, upl.DE_ICRS, 0.000277777777778))\"\"\""
   ]
  },
  {
   "cell_type": "code",
   "execution_count": 10,
   "id": "fa9629a2",
   "metadata": {},
   "outputs": [],
   "source": [
    "Query = f\"\"\"SELECT r.Field, r.ID, r.RA_r, r.DEC_r, r.CLASS_STAR_r, r.r_psf, r.e_r_psf\n",
    "            FROM idr4_psf.idr4_psf_r as r\n",
    "            JOIN TAP_UPLOAD.upload AS upl \n",
    "            ON 1=CONTAINS( POINT('ICRS', r.RA_r, r.DEC_r), \n",
    "            CIRCLE('ICRS', upl.RAJ2000, upl.DEJ2000, 0.000277777777778))\"\"\""
   ]
  },
  {
   "cell_type": "code",
   "execution_count": null,
   "id": "48903950",
   "metadata": {},
   "outputs": [],
   "source": [
    "results = conn.query(Query, df)    "
   ]
  },
  {
   "cell_type": "code",
   "execution_count": null,
   "id": "4ae8dd62",
   "metadata": {},
   "outputs": [],
   "source": []
  }
 ],
 "metadata": {
  "kernelspec": {
   "display_name": "Python 3 (ipykernel)",
   "language": "python",
   "name": "python3"
  },
  "language_info": {
   "codemirror_mode": {
    "name": "ipython",
    "version": 3
   },
   "file_extension": ".py",
   "mimetype": "text/x-python",
   "name": "python",
   "nbconvert_exporter": "python",
   "pygments_lexer": "ipython3",
   "version": "3.9.7"
  }
 },
 "nbformat": 4,
 "nbformat_minor": 5
}

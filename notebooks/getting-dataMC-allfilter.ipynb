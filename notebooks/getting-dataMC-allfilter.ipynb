{
 "cells": [
  {
   "cell_type": "code",
   "execution_count": 1,
   "id": "9a79666e-ad93-42ce-bcd8-e40f39323bc0",
   "metadata": {},
   "outputs": [
    {
     "name": "stderr",
     "output_type": "stream",
     "text": [
      "WARNING: AstropyDeprecationWarning: The update_default_config function is deprecated and may be removed in a future version. [astroquery._astropy_init]\n"
     ]
    }
   ],
   "source": [
    "import splusdata\n",
    "import getpass\n",
    "import pandas as pd\n",
    "from astropy.table import Table, vstack\n",
    "import numpy as np\n",
    "from pathlib import Path"
   ]
  },
  {
   "cell_type": "code",
   "execution_count": 2,
   "id": "39b96d67-7296-4a8d-9e0c-96fe08c63039",
   "metadata": {},
   "outputs": [
    {
     "name": "stdin",
     "output_type": "stream",
     "text": [
      "Login:  Luis\n",
      "Password:  ···········\n"
     ]
    },
    {
     "name": "stdout",
     "output_type": "stream",
     "text": [
      "You have access to internal data\n"
     ]
    }
   ],
   "source": [
    "# Connecting with SPLUS database\n",
    "username = input(prompt=\"Login: \")\n",
    "password = getpass.getpass(\"Password: \")\n",
    "conn = splusdata.connect(username, password)"
   ]
  },
  {
   "cell_type": "code",
   "execution_count": 18,
   "id": "8bc83f3d-63b6-4cbc-a5f6-eec80494ec9d",
   "metadata": {},
   "outputs": [],
   "source": [
    "Query = f\"\"\"SELECT r.Field, r.ID, r.RA_r, r.DEC_r, r.X_r, r.Y_r, r.s2n_r_psf, j660.s2n_J0660_psf,\n",
    "            i.s2n_i_psf, r.CLASS_STAR_r, i.CLASS_STAR_i, u.u_psf, j378.J0378_psf, \n",
    "            j395.J0395_psf, j410.J0410_psf, j430.J0430_psf, g.g_psf, j515.J0515_psf, \n",
    "            r.r_psf, j660.J0660_psf, i.i_psf, j861.J0861_psf, z.z_psf, \n",
    "            u.e_u_psf, j378.e_J0378_psf, j395.e_J0395_psf, j410.e_J0410_psf, j430.e_J0430_psf, \n",
    "            g.e_g_psf, j515.e_J0515_psf, r.e_r_psf, j660.e_J0660_psf, i.e_i_psf, j861.e_J0861_psf, z.e_z_psf \n",
    "            FROM \"idr4_psf\".\"idr4_psf_r\" as r LEFT JOIN \"idr4_psf\".\"idr4_psf_u\" as u ON r.ID= u.ID  \n",
    "            LEFT JOIN \"idr4_psf\".\"idr4_psf_j0378\" as j378 ON r.ID=j378.ID \n",
    "            LEFT JOIN \"idr4_psf\".\"idr4_psf_j0395\" as j395 ON r.ID=j395.ID\n",
    "            LEFT JOIN \"idr4_psf\".\"idr4_psf_j0410\" as j410 ON r.ID=j410.ID \n",
    "            LEFT JOIN \"idr4_psf\".\"idr4_psf_j0430\" as j430 ON r.ID=j430.ID \n",
    "            LEFT JOIN \"idr4_psf\".\"idr4_psf_g\" as g ON r.ID=g.ID \n",
    "            LEFT JOIN \"idr4_psf\".\"idr4_psf_j0515\" as j515 ON r.ID=j515.ID \n",
    "            LEFT JOIN \"idr4_psf\".\"idr4_psf_j0660\" as j660 ON r.ID=j660.ID \n",
    "            LEFT JOIN \"idr4_psf\".\"idr4_psf_i\" as i ON r.ID=i.ID \n",
    "            LEFT JOIN \"idr4_psf\".\"idr4_psf_j0861\" as j861 ON r.ID=j861.ID \n",
    "            LEFT JOIN \"idr4_psf\".\"idr4_psf_z\" as z ON r.ID=z.ID WHERE r.Field LIKE 'MC%' AND CLASS_STAR_r >= 0.5 AND r_psf <= 21\n",
    "            AND e_r_psf <= 0.2 AND e_J0660_psf <= 0.2 AND e_i_psf <= 0.2 AND s2n_r_psf >= 3 AND s2n_J0660_psf >= 3 AND s2n_i_psf >= 3\"\"\""
   ]
  },
  {
   "cell_type": "code",
   "execution_count": null,
   "id": "69dac824-9933-4212-bc1a-47ae284471ab",
   "metadata": {},
   "outputs": [],
   "source": [
    "results = conn.query(Query)"
   ]
  },
  {
   "cell_type": "code",
   "execution_count": 17,
   "id": "38aca9d4-4a50-4c15-b5a5-8c0875859d71",
   "metadata": {},
   "outputs": [
    {
     "data": {
      "text/html": [
       "<div><i>Table length=1000</i>\n",
       "<table id=\"table140579011764816\" class=\"table-striped table-bordered table-condensed\">\n",
       "<thead><tr><th>Field</th><th>ID</th><th>RA_r</th><th>DEC_r</th><th>X_r</th><th>Y_r</th><th>s2n_r_psf</th><th>s2n_J0660_psf</th><th>s2n_i_psf</th><th>CLASS_STAR_r</th><th>CLASS_STAR_i</th><th>u_psf</th><th>J0378_psf</th><th>J0395_psf</th><th>J0410_psf</th><th>J0430_psf</th><th>g_psf</th><th>J0515_psf</th><th>r_psf</th><th>J0660_psf</th><th>i_psf</th><th>J0861_psf</th><th>z_psf</th><th>e_u_psf</th><th>e_J0378_psf</th><th>e_J0395_psf</th><th>e_J0410_psf</th><th>e_J0430_psf</th><th>e_g_psf</th><th>e_J0515_psf</th><th>e_r_psf</th><th>e_J0660_psf</th><th>e_i_psf</th><th>e_J0861_psf</th><th>e_z_psf</th></tr></thead>\n",
       "<thead><tr><th>bytes6</th><th>bytes21</th><th>float32</th><th>float32</th><th>float32</th><th>float32</th><th>float32</th><th>float32</th><th>float32</th><th>int32</th><th>int32</th><th>float32</th><th>float32</th><th>float32</th><th>float32</th><th>float32</th><th>float32</th><th>float32</th><th>float32</th><th>float32</th><th>float32</th><th>float32</th><th>float32</th><th>float32</th><th>float32</th><th>float32</th><th>float32</th><th>float32</th><th>float32</th><th>float32</th><th>float32</th><th>float32</th><th>float32</th><th>float32</th><th>float32</th></tr></thead>\n",
       "<tr><td>MC0118</td><td>iDR4_3_MC0118_0002256</td><td>28.48085</td><td>-74.11595</td><td>5393.37</td><td>1217.71</td><td>11.521276</td><td>9.5</td><td>5.854054</td><td>1</td><td>1</td><td>--</td><td>--</td><td>--</td><td>--</td><td>--</td><td>20.900066</td><td>20.626066</td><td>20.949652</td><td>21.149652</td><td>21.018747</td><td>--</td><td>--</td><td>--</td><td>--</td><td>--</td><td>--</td><td>--</td><td>0.108</td><td>0.136</td><td>0.094</td><td>0.114</td><td>0.185</td><td>--</td><td>--</td></tr>\n",
       "<tr><td>MC0118</td><td>iDR4_3_MC0118_0002257</td><td>29.950598</td><td>-74.11058</td><td>2759.59</td><td>1217.74</td><td>13.5375</td><td>11.28125</td><td>7.2684565</td><td>1</td><td>1</td><td>--</td><td>--</td><td>--</td><td>--</td><td>--</td><td>20.55503</td><td>20.65003</td><td>20.584656</td><td>20.764656</td><td>20.716112</td><td>--</td><td>--</td><td>--</td><td>--</td><td>--</td><td>--</td><td>--</td><td>0.065</td><td>0.143</td><td>0.08</td><td>0.096</td><td>0.149</td><td>--</td><td>--</td></tr>\n",
       "<tr><td>MC0118</td><td>iDR4_3_MC0118_0002258</td><td>27.263374</td><td>-74.112816</td><td>7574.83</td><td>1218.14</td><td>15.926471</td><td>17.754099</td><td>10.314285</td><td>1</td><td>1</td><td>20.54501</td><td>20.08301</td><td>19.74801</td><td>19.619833</td><td>19.550833</td><td>19.763832</td><td>19.704832</td><td>19.940374</td><td>19.960373</td><td>20.134682</td><td>20.20146</td><td>19.99146</td><td>0.096</td><td>0.106</td><td>0.117</td><td>0.089</td><td>0.087</td><td>0.052</td><td>0.077</td><td>0.068</td><td>0.061</td><td>0.105</td><td>0.185</td><td>0.174</td></tr>\n",
       "<tr><td>MC0118</td><td>iDR4_3_MC0118_0002259</td><td>27.670235</td><td>-74.117035</td><td>6845.51</td><td>1202.18</td><td>54.15</td><td>51.57143</td><td>41.653847</td><td>1</td><td>1</td><td>16.83439</td><td>16.70939</td><td>16.61539</td><td>16.61846</td><td>16.67046</td><td>16.88946</td><td>16.88946</td><td>17.190834</td><td>17.354834</td><td>17.523159</td><td>17.712128</td><td>17.741129</td><td>0.017</td><td>0.018</td><td>0.02</td><td>0.024</td><td>0.018</td><td>0.015</td><td>0.021</td><td>0.02</td><td>0.021</td><td>0.026</td><td>0.048</td><td>0.045</td></tr>\n",
       "<tr><td>MC0118</td><td>iDR4_3_MC0118_0002260</td><td>30.002884</td><td>-74.11235</td><td>2666.22</td><td>1203.72</td><td>45.125</td><td>43.32</td><td>30.942858</td><td>1</td><td>1</td><td>19.926748</td><td>19.754747</td><td>19.670748</td><td>18.849031</td><td>18.783031</td><td>18.161032</td><td>18.01403</td><td>17.461657</td><td>17.380657</td><td>17.178112</td><td>17.086143</td><td>17.053144</td><td>0.071</td><td>0.071</td><td>0.107</td><td>0.061</td><td>0.058</td><td>0.025</td><td>0.033</td><td>0.024</td><td>0.025</td><td>0.035</td><td>0.04</td><td>0.037</td></tr>\n",
       "<tr><td>MC0118</td><td>iDR4_3_MC0118_0002262</td><td>26.821415</td><td>-74.10989</td><td>8367.11</td><td>1218.91</td><td>13.37037</td><td>20.826923</td><td>21.235294</td><td>1</td><td>1</td><td>--</td><td>--</td><td>--</td><td>--</td><td>--</td><td>--</td><td>--</td><td>20.44949</td><td>19.992489</td><td>18.917347</td><td>18.441626</td><td>18.321627</td><td>--</td><td>--</td><td>--</td><td>--</td><td>--</td><td>--</td><td>--</td><td>0.081</td><td>0.052</td><td>0.051</td><td>0.068</td><td>0.068</td></tr>\n",
       "<tr><td>MC0118</td><td>iDR4_3_MC0118_0002263</td><td>26.11412</td><td>-74.10349</td><td>9635.78</td><td>1219.23</td><td>8.267176</td><td>8.267176</td><td>6.153409</td><td>1</td><td>1</td><td>--</td><td>--</td><td>--</td><td>--</td><td>--</td><td>20.975233</td><td>--</td><td>20.792295</td><td>20.878294</td><td>20.85787</td><td>--</td><td>--</td><td>--</td><td>--</td><td>--</td><td>--</td><td>--</td><td>0.099</td><td>--</td><td>0.131</td><td>0.131</td><td>0.176</td><td>--</td><td>--</td></tr>\n",
       "<tr><td>MC0118</td><td>iDR4_3_MC0118_0002264</td><td>30.518799</td><td>-74.10562</td><td>1740.55</td><td>1219.18</td><td>20.826923</td><td>22.5625</td><td>20.055555</td><td>1</td><td>1</td><td>--</td><td>--</td><td>--</td><td>--</td><td>--</td><td>20.834225</td><td>--</td><td>19.641642</td><td>19.273642</td><td>18.66859</td><td>18.35407</td><td>18.33207</td><td>--</td><td>--</td><td>--</td><td>--</td><td>--</td><td>0.079</td><td>--</td><td>0.052</td><td>0.048</td><td>0.054</td><td>0.063</td><td>0.07</td></tr>\n",
       "<tr><td>...</td><td>...</td><td>...</td><td>...</td><td>...</td><td>...</td><td>...</td><td>...</td><td>...</td><td>...</td><td>...</td><td>...</td><td>...</td><td>...</td><td>...</td><td>...</td><td>...</td><td>...</td><td>...</td><td>...</td><td>...</td><td>...</td><td>...</td><td>...</td><td>...</td><td>...</td><td>...</td><td>...</td><td>...</td><td>...</td><td>...</td><td>...</td><td>...</td><td>...</td><td>...</td></tr>\n",
       "<tr><td>MC0118</td><td>iDR4_3_MC0118_0004342</td><td>27.729977</td><td>-74.06833</td><td>6742.18</td><td>1522.3</td><td>13.37037</td><td>11.771739</td><td>9.845454</td><td>1</td><td>1</td><td>--</td><td>--</td><td>--</td><td>--</td><td>--</td><td>21.072603</td><td>--</td><td>20.61874</td><td>20.55674</td><td>20.378933</td><td>20.422499</td><td>20.1015</td><td>--</td><td>--</td><td>--</td><td>--</td><td>--</td><td>0.102</td><td>--</td><td>0.081</td><td>0.092</td><td>0.11</td><td>0.233</td><td>0.223</td></tr>\n",
       "<tr><td>MC0118</td><td>iDR4_3_MC0118_0004343</td><td>26.461113</td><td>-74.060555</td><td>9023.2</td><td>1522.45</td><td>23.543478</td><td>24.066668</td><td>16.921875</td><td>1</td><td>1</td><td>21.03963</td><td>20.659632</td><td>--</td><td>20.085567</td><td>19.983566</td><td>19.934566</td><td>19.742567</td><td>19.373068</td><td>19.267069</td><td>19.180878</td><td>19.058285</td><td>19.156284</td><td>0.135</td><td>0.17</td><td>--</td><td>0.164</td><td>0.122</td><td>0.046</td><td>0.074</td><td>0.046</td><td>0.045</td><td>0.064</td><td>0.091</td><td>0.098</td></tr>\n",
       "<tr><td>MC0118</td><td>iDR4_3_MC0118_0004346</td><td>27.852713</td><td>-74.06854</td><td>6521.65</td><td>1523.24</td><td>14.835616</td><td>11.901099</td><td>7.6267605</td><td>1</td><td>1</td><td>--</td><td>--</td><td>--</td><td>--</td><td>--</td><td>21.246134</td><td>--</td><td>20.67854</td><td>20.663538</td><td>20.426792</td><td>--</td><td>--</td><td>--</td><td>--</td><td>--</td><td>--</td><td>--</td><td>0.116</td><td>--</td><td>0.073</td><td>0.091</td><td>0.142</td><td>--</td><td>--</td></tr>\n",
       "<tr><td>MC0118</td><td>iDR4_3_MC0118_0004349</td><td>25.689121</td><td>-74.05242</td><td>10412.48</td><td>1521.01</td><td>31.852942</td><td>34.935482</td><td>22.102041</td><td>1</td><td>1</td><td>--</td><td>--</td><td>--</td><td>--</td><td>--</td><td>20.506233</td><td>20.395233</td><td>19.188988</td><td>18.829987</td><td>18.032335</td><td>17.551443</td><td>17.453444</td><td>--</td><td>--</td><td>--</td><td>--</td><td>--</td><td>0.073</td><td>0.127</td><td>0.034</td><td>0.031</td><td>0.049</td><td>0.048</td><td>0.043</td></tr>\n",
       "<tr><td>MC0118</td><td>iDR4_3_MC0118_0004350</td><td>30.320087</td><td>-74.061005</td><td>2087.33</td><td>1523.06</td><td>9.177966</td><td>10.514564</td><td>8.4609375</td><td>1</td><td>0</td><td>--</td><td>--</td><td>--</td><td>--</td><td>--</td><td>21.487183</td><td>--</td><td>20.766552</td><td>20.739552</td><td>20.451809</td><td>19.923594</td><td>--</td><td>--</td><td>--</td><td>--</td><td>--</td><td>--</td><td>0.15</td><td>--</td><td>0.118</td><td>0.103</td><td>0.128</td><td>0.144</td><td>--</td></tr>\n",
       "<tr><td>MC0118</td><td>iDR4_3_MC0118_0004355</td><td>26.505592</td><td>-74.06102</td><td>8943.18</td><td>1521.99</td><td>29.27027</td><td>28.5</td><td>14.835616</td><td>1</td><td>1</td><td>19.319044</td><td>19.014044</td><td>18.610044</td><td>18.635172</td><td>18.631172</td><td>18.80017</td><td>18.818172</td><td>19.031199</td><td>19.233198</td><td>19.327904</td><td>19.609241</td><td>19.55324</td><td>0.041</td><td>0.047</td><td>0.049</td><td>0.058</td><td>0.047</td><td>0.029</td><td>0.048</td><td>0.037</td><td>0.038</td><td>0.073</td><td>0.125</td><td>0.114</td></tr>\n",
       "<tr><td>MC0118</td><td>iDR4_3_MC0118_0004356</td><td>26.579538</td><td>-74.06796</td><td>8808.91</td><td>1480.78</td><td>60.166668</td><td>49.227272</td><td>30.942858</td><td>1</td><td>1</td><td>16.797045</td><td>16.401043</td><td>16.338043</td><td>15.864172</td><td>15.800172</td><td>15.486172</td><td>15.315171</td><td>15.016199</td><td>15.017199</td><td>14.895904</td><td>14.84924</td><td>14.831241</td><td>0.016</td><td>0.018</td><td>0.019</td><td>0.019</td><td>0.014</td><td>0.013</td><td>0.015</td><td>0.018</td><td>0.022</td><td>0.035</td><td>0.016</td><td>0.023</td></tr>\n",
       "<tr><td>MC0118</td><td>iDR4_3_MC0118_0004357</td><td>28.59299</td><td>-74.070076</td><td>5191.6</td><td>1517.61</td><td>34.935482</td><td>33.84375</td><td>25.785715</td><td>1</td><td>1</td><td>19.954239</td><td>19.67224</td><td>19.60824</td><td>19.17931</td><td>19.094309</td><td>18.84631</td><td>18.66531</td><td>18.376896</td><td>18.386896</td><td>18.216553</td><td>18.204247</td><td>18.154245</td><td>0.061</td><td>0.052</td><td>0.094</td><td>0.062</td><td>0.063</td><td>0.028</td><td>0.042</td><td>0.031</td><td>0.032</td><td>0.042</td><td>0.053</td><td>0.067</td></tr>\n",
       "</table></div>"
      ],
      "text/plain": [
       "<Table length=1000>\n",
       "Field            ID             RA_r     DEC_r      X_r      Y_r   s2n_r_psf s2n_J0660_psf s2n_i_psf ... e_J0410_psf e_J0430_psf e_g_psf e_J0515_psf e_r_psf e_J0660_psf e_i_psf e_J0861_psf e_z_psf\n",
       "bytes6        bytes21         float32   float32   float32  float32  float32     float32     float32  ...   float32     float32   float32   float32   float32   float32   float32   float32   float32\n",
       "------ --------------------- --------- ---------- -------- ------- --------- ------------- --------- ... ----------- ----------- ------- ----------- ------- ----------- ------- ----------- -------\n",
       "MC0118 iDR4_3_MC0118_0002256  28.48085  -74.11595  5393.37 1217.71 11.521276           9.5  5.854054 ...          --          --   0.108       0.136   0.094       0.114   0.185          --      --\n",
       "MC0118 iDR4_3_MC0118_0002257 29.950598  -74.11058  2759.59 1217.74   13.5375      11.28125 7.2684565 ...          --          --   0.065       0.143    0.08       0.096   0.149          --      --\n",
       "MC0118 iDR4_3_MC0118_0002258 27.263374 -74.112816  7574.83 1218.14 15.926471     17.754099 10.314285 ...       0.089       0.087   0.052       0.077   0.068       0.061   0.105       0.185   0.174\n",
       "MC0118 iDR4_3_MC0118_0002259 27.670235 -74.117035  6845.51 1202.18     54.15      51.57143 41.653847 ...       0.024       0.018   0.015       0.021    0.02       0.021   0.026       0.048   0.045\n",
       "MC0118 iDR4_3_MC0118_0002260 30.002884  -74.11235  2666.22 1203.72    45.125         43.32 30.942858 ...       0.061       0.058   0.025       0.033   0.024       0.025   0.035        0.04   0.037\n",
       "MC0118 iDR4_3_MC0118_0002262 26.821415  -74.10989  8367.11 1218.91  13.37037     20.826923 21.235294 ...          --          --      --          --   0.081       0.052   0.051       0.068   0.068\n",
       "MC0118 iDR4_3_MC0118_0002263  26.11412  -74.10349  9635.78 1219.23  8.267176      8.267176  6.153409 ...          --          --   0.099          --   0.131       0.131   0.176          --      --\n",
       "MC0118 iDR4_3_MC0118_0002264 30.518799  -74.10562  1740.55 1219.18 20.826923       22.5625 20.055555 ...          --          --   0.079          --   0.052       0.048   0.054       0.063    0.07\n",
       "   ...                   ...       ...        ...      ...     ...       ...           ...       ... ...         ...         ...     ...         ...     ...         ...     ...         ...     ...\n",
       "MC0118 iDR4_3_MC0118_0004342 27.729977  -74.06833  6742.18  1522.3  13.37037     11.771739  9.845454 ...          --          --   0.102          --   0.081       0.092    0.11       0.233   0.223\n",
       "MC0118 iDR4_3_MC0118_0004343 26.461113 -74.060555   9023.2 1522.45 23.543478     24.066668 16.921875 ...       0.164       0.122   0.046       0.074   0.046       0.045   0.064       0.091   0.098\n",
       "MC0118 iDR4_3_MC0118_0004346 27.852713  -74.06854  6521.65 1523.24 14.835616     11.901099 7.6267605 ...          --          --   0.116          --   0.073       0.091   0.142          --      --\n",
       "MC0118 iDR4_3_MC0118_0004349 25.689121  -74.05242 10412.48 1521.01 31.852942     34.935482 22.102041 ...          --          --   0.073       0.127   0.034       0.031   0.049       0.048   0.043\n",
       "MC0118 iDR4_3_MC0118_0004350 30.320087 -74.061005  2087.33 1523.06  9.177966     10.514564 8.4609375 ...          --          --    0.15          --   0.118       0.103   0.128       0.144      --\n",
       "MC0118 iDR4_3_MC0118_0004355 26.505592  -74.06102  8943.18 1521.99  29.27027          28.5 14.835616 ...       0.058       0.047   0.029       0.048   0.037       0.038   0.073       0.125   0.114\n",
       "MC0118 iDR4_3_MC0118_0004356 26.579538  -74.06796  8808.91 1480.78 60.166668     49.227272 30.942858 ...       0.019       0.014   0.013       0.015   0.018       0.022   0.035       0.016   0.023\n",
       "MC0118 iDR4_3_MC0118_0004357  28.59299 -74.070076   5191.6 1517.61 34.935482      33.84375 25.785715 ...       0.062       0.063   0.028       0.042   0.031       0.032   0.042       0.053   0.067"
      ]
     },
     "execution_count": 17,
     "metadata": {},
     "output_type": "execute_result"
    }
   ],
   "source": [
    "results"
   ]
  },
  {
   "cell_type": "code",
   "execution_count": null,
   "id": "0eadc5ff-0715-4d88-9208-a0780404e7d7",
   "metadata": {},
   "outputs": [],
   "source": []
  }
 ],
 "metadata": {
  "kernelspec": {
   "display_name": "Python 3 (ipykernel)",
   "language": "python",
   "name": "python3"
  },
  "language_info": {
   "codemirror_mode": {
    "name": "ipython",
    "version": 3
   },
   "file_extension": ".py",
   "mimetype": "text/x-python",
   "name": "python",
   "nbconvert_exporter": "python",
   "pygments_lexer": "ipython3",
   "version": "3.9.7"
  }
 },
 "nbformat": 4,
 "nbformat_minor": 5
}

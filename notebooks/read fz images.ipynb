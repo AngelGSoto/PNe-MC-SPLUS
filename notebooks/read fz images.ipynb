{
 "cells": [
  {
   "cell_type": "code",
   "execution_count": 2,
   "id": "f78e5b5c",
   "metadata": {},
   "outputs": [],
   "source": [
    "import splusdata \n",
    "import pandas as pd\n",
    "import matplotlib.pyplot as plt\n",
    "from astropy.io import fits\n",
    "from astropy.wcs import WCS\n",
    "import os\n",
    "import argparse\n",
    "import sys"
   ]
  },
  {
   "cell_type": "code",
   "execution_count": 3,
   "id": "7342872d",
   "metadata": {},
   "outputs": [],
   "source": [
    "# Read the file\n",
    "hdu = fits.open(\"../images-smc/_media_files_MC0094_R_swp.fz\")"
   ]
  },
  {
   "cell_type": "code",
   "execution_count": 4,
   "id": "b6f847a4",
   "metadata": {},
   "outputs": [
    {
     "name": "stdout",
     "output_type": "stream",
     "text": [
      "Filename: ../images-smc/_media_files_MC0094_R_swp.fz\n",
      "No.    Name      Ver    Type      Cards   Dimensions   Format\n",
      "  0  PRIMARY       1 PrimaryHDU       8   ()      \n",
      "  1  COMPRESSED_IMAGE    1 CompImageHDU     88   (11000, 11000)   float32   \n"
     ]
    }
   ],
   "source": [
    "# See the extension of the FITS file\n",
    "hdu.info()"
   ]
  },
  {
   "cell_type": "code",
   "execution_count": 5,
   "id": "7147ce45",
   "metadata": {},
   "outputs": [
    {
     "data": {
      "text/plain": [
       "SIMPLE  =                    T / file does conform to FITS standard             \n",
       "BITPIX  =                   16 / number of bits per data pixel                  \n",
       "NAXIS   =                    0 / number of data axes                            \n",
       "EXTEND  =                    T / FITS dataset may contain extensions            \n",
       "COMMENT   FITS (Flexible Image Transport System) format is defined in 'Astronomy\n",
       "COMMENT   and Astrophysics', volume 376, page 359; bibcode: 2001A&A...376..359H \n",
       "CHECKSUM= '3cC96bA73bA73bA7'   / HDU checksum updated 2018-11-02T03:00:11       \n",
       "DATASUM = '         0'         / data unit checksum updated 2018-11-02T03:00:11 "
      ]
     },
     "execution_count": 5,
     "metadata": {},
     "output_type": "execute_result"
    }
   ],
   "source": [
    "# headers\n",
    "hdu[0].header"
   ]
  },
  {
   "cell_type": "code",
   "execution_count": 6,
   "id": "3712e949",
   "metadata": {},
   "outputs": [
    {
     "data": {
      "text/plain": [
       "SIMPLE  =                    T / This is a FITS file                            \n",
       "BITPIX  =                  -32                                                  \n",
       "NAXIS   =                    2                                                  \n",
       "NAXIS1  =                11000 / NUMBER OF ELEMENTS ALONG THIS AXIS             \n",
       "NAXIS2  =                11000 / NUMBER OF ELEMENTS ALONG THIS AXIS             \n",
       "EQUINOX =        2000.00000000 / Mean equinox                                   \n",
       "MJD-OBS =   5.834700000000E+04 / Modified Julian date at start                  \n",
       "RADESYS = 'ICRS    '           / Astrometric system                             \n",
       "CTYPE1  = 'RA---TAN'           / WCS projection type for this axis              \n",
       "CUNIT1  = 'deg     '           / Axis unit                                      \n",
       "CRVAL1  =   1.333333333330E+01 / World coordinate on this axis                  \n",
       "CRPIX1  =   5.500500000000E+03 / Reference pixel on this axis                   \n",
       "CD1_1   =  -1.527777777778E-04 / Linear projection matrix                       \n",
       "CD1_2   =   0.000000000000E+00 / Linear projection matrix                       \n",
       "CTYPE2  = 'DEC--TAN'           / WCS projection type for this axis              \n",
       "CUNIT2  = 'deg     '           / Axis unit                                      \n",
       "CRVAL2  =  -7.221956922220E+01 / World coordinate on this axis                  \n",
       "CRPIX2  =   5.500500000000E+03 / Reference pixel on this axis                   \n",
       "CD2_1   =   0.000000000000E+00 / Linear projection matrix                       \n",
       "CD2_2   =   1.527777777778E-04 / Linear projection matrix                       \n",
       "EXPTIME =                  1.0 / Normalized exposure time                       \n",
       "GAIN    =   1.153219994471E+02 / Maximum equivalent gain (e-/ADU)               \n",
       "SATURATE=   1.601768849557E+03 / Saturation Level (ADU)                         \n",
       "COMMENT                                                                         \n",
       "SOFTNAME= 'SWarp   '           / The software that processed those data         \n",
       "SOFTVERS= '2.38.0  '           / Version of the software                        \n",
       "SOFTDATE= '2017-01-17'         / Release date of the software                   \n",
       "SOFTAUTH= '2010-2012 IAP/CNRS/UPMC' / Maintainer of the software                \n",
       "SOFTINST= 'IAP  http://www.iap.fr' / Institute                                  \n",
       "COMMENT                                                                         \n",
       "AUTHOR  = 'jype    '           / Who ran the software                           \n",
       "ORIGIN  = 't80s-jype4'         / Where it was done                              \n",
       "DATE    = '2018-11-02T01:34:41' / When it was started (GMT)                     \n",
       "COMBINET= 'WEIGHTED'           / COMBINE_TYPE config parameter for SWarp        \n",
       "COMMENT                                                                         \n",
       "COMMENT  Propagated FITS keywords                                               \n",
       "OBJECT  = 'MC0094  '           / name of observed object                        \n",
       "TELESCOP= 'T80     '           / Telescope Model                                \n",
       "INSTRUME= 'T80Cam  '           / Custom. Name of instrument                     \n",
       "FILTER  = 'R       '           / Filter used for this observation               \n",
       "COMMENT                                                                         \n",
       "COMMENT  Axis-dependent config parameters                                       \n",
       "RESAMPT1= 'LANCZOS3'           / RESAMPLING_TYPE config parameter               \n",
       "CENTERT1= 'MANUAL  '           / CENTER_TYPE config parameter                   \n",
       "PSCALET1= 'MANUAL  '           / PIXELSCALE_TYPE config parameter               \n",
       "RESAMPT2= 'LANCZOS3'           / RESAMPLING_TYPE config parameter               \n",
       "CENTERT2= 'MANUAL  '           / CENTER_TYPE config parameter                   \n",
       "PSCALET2= 'MANUAL  '           / PIXELSCALE_TYPE config parameter               \n",
       "        STATS 2018-11-01T22:37:25.900132                                        \n",
       "HIERARCH OAJ QC NCMODE = 0.0072 / Mode (ADU)                                    \n",
       "HIERARCH OAJ QC NCMIDPT = 0.0 / Level estim (ADU)                               \n",
       "HIERARCH OAJ QC NCMIDRMS = 0.0284 / rms level (ADU)                             \n",
       "HIERARCH OAJ QC NCNOISE = 0.235 / Noise estim (ADU)                             \n",
       "HIERARCH OAJ QC NCNOIRMS = 0.4526 / rms noise estim (ADU)                       \n",
       "        FWHM ESTIM 2018-11-01T22:45:18.075301                                   \n",
       "HIERARCH OAJ PRO FWHMSEXT = 1.708 / FWHM arcsec estimated with SE               \n",
       "HIERARCH OAJ PRO FWHMSRMS = 0.14 / rms in FWHM with SE                          \n",
       "HIERARCH OAJ PRO FWHMMEAN = 1.531359541416168 / PSFex FWHM                      \n",
       "HIERARCH OAJ PRO FWHMBETA = 5.952469825744629 / PSFex beta                      \n",
       "HIERARCH OAJ PRO FWHMnstars = 18 / PSFex nstars                                 \n",
       "HIERARCH OAJ PRO Ellipmean = 0.07595069706439972 / PSFex Ellip                  \n",
       "PIXSCALE=                 0.55                                                  \n",
       "FILENAME= 'MC0094_R_swp.fits'                                                   \n",
       "NCOMBINE=                    3                                                  \n",
       "TEXPOSED=                120.0                                                  \n",
       "EFECTIME=    119.8822921657842                                                  \n",
       "TEXPSUM =                120.0 / Maximum equivalent exposure time (s)           \n",
       "HIERARCH OAJ PRO PIPVERS = '0.9.9   '                                           \n",
       "HIERARCH OAJ PRO REFIMAGE = 'MC-20180817-073007_proc' / Reference image for scal\n",
       "HIERARCH OAJ PRO REFAIRMASS = 1.347768033031705 / Reference image airmass       \n",
       "HIERARCH OAJ PRO REFDATEOBS = '2018-08-17T07:29:04.199000' / Reference image dat\n",
       "HIERARCH OAJ PRO SWCMB1 = 'MC-20171128-024123_proc'                             \n",
       "HIERARCH OAJ PRO SWSCALE1 = 0.02494881374023                                    \n",
       "HIERARCH OAJ PRO SWCMB2 = 'MC-20171128-024353_proc'                             \n",
       "HIERARCH OAJ PRO SWSCALE2 = 0.02508873495629                                    \n",
       "HIERARCH OAJ PRO SWCMB3 = 'MC-20180817-072728_proc'                             \n",
       "HIERARCH OAJ PRO SWSCALE3 = 0.01158027157256                                    \n",
       "HIERARCH OAJ PRO SWCMB4 = 'MC-20180817-072848_proc'                             \n",
       "HIERARCH OAJ PRO SWSCALE4 = 0.01155278617697                                    \n",
       "HIERARCH OAJ PRO SWCMB5 = 'MC-20180817-073007_proc'                             \n",
       "HIERARCH OAJ PRO SWSCALE5 = 0.0115494941822                                     \n",
       "HISTORY Image was compressed by CFITSIO using scaled integer quantization:      \n",
       "HISTORY   q = 4.000000 / quantized level scaling parameter                      \n",
       "HISTORY 'SUBTRACTIVE_DITHER_1' / Pixel Quantization Algorithm                   \n",
       "ZDITHER0=                 7606 / dithering offset when quantizing floats        \n",
       "CHECKSUM= 'ZAYAZ5Y8ZAYAZ5Y5'   / HDU checksum updated 2018-11-01T23:02:53       \n",
       "DATASUM = '3134555503'         / data unit checksum updated 2018-11-01T23:03:05 \n",
       "EXTEND  =                    T / This file may contain FITS extensions          "
      ]
     },
     "execution_count": 6,
     "metadata": {},
     "output_type": "execute_result"
    }
   ],
   "source": [
    "hdu[1].header"
   ]
  },
  {
   "cell_type": "code",
   "execution_count": 7,
   "id": "86aa3b0c",
   "metadata": {},
   "outputs": [],
   "source": [
    "# Getting some infoirmation from the header\n",
    "Namefile = hdu[1].header['FILENAME']\n",
    "RA = hdu[1].header['CRVAL1']\n",
    "DEC = hdu[1].header['CRVAL2']\n",
    "Filter = hdu[1].header['FILTER']"
   ]
  },
  {
   "cell_type": "code",
   "execution_count": 8,
   "id": "889fa6ad",
   "metadata": {},
   "outputs": [
    {
     "name": "stdout",
     "output_type": "stream",
     "text": [
      "Name file: MC0094_R_swp.fits, RA: 13.3333333333, DEC: -72.2195692222, Filter: R\n"
     ]
    }
   ],
   "source": [
    "\n",
    "print(f\"Name file: {Namefile}, RA: {RA}, DEC: {DEC}, Filter: {Filter}\")"
   ]
  },
  {
   "cell_type": "code",
   "execution_count": null,
   "id": "a86de5e8",
   "metadata": {},
   "outputs": [],
   "source": []
  },
  {
   "cell_type": "code",
   "execution_count": null,
   "id": "f6afb47c",
   "metadata": {},
   "outputs": [],
   "source": []
  },
  {
   "cell_type": "code",
   "execution_count": null,
   "id": "c16ce706",
   "metadata": {},
   "outputs": [],
   "source": []
  },
  {
   "cell_type": "code",
   "execution_count": null,
   "id": "4b444649",
   "metadata": {},
   "outputs": [],
   "source": []
  }
 ],
 "metadata": {
  "kernelspec": {
   "display_name": "Python 3 (ipykernel)",
   "language": "python",
   "name": "python3"
  },
  "language_info": {
   "codemirror_mode": {
    "name": "ipython",
    "version": 3
   },
   "file_extension": ".py",
   "mimetype": "text/x-python",
   "name": "python",
   "nbconvert_exporter": "python",
   "pygments_lexer": "ipython3",
   "version": "3.9.7"
  }
 },
 "nbformat": 4,
 "nbformat_minor": 5
}

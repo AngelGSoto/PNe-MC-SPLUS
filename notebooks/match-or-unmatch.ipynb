{
 "cells": [
  {
   "cell_type": "code",
   "execution_count": 1,
   "id": "22f4ea11",
   "metadata": {},
   "outputs": [],
   "source": [
    "import numpy as np\n",
    "from astropy.table import Table, Column, MaskedColumn, vstack\n",
    "import astropy.coordinates as coord"
   ]
  },
  {
   "cell_type": "code",
   "execution_count": 2,
   "id": "cecb13b1",
   "metadata": {},
   "outputs": [],
   "source": [
    "tab_base = Table.read('../Tab_2_J_A+A_561_A8_table1.ecsv', format='ascii.ecsv')\n",
    "tab_base['coord'] = coord.SkyCoord(ra=tab_base['RAJ2000'], dec=tab_base['DEJ2000'], unit=('deg', 'deg'))\n",
    "  # tab_four = Table.read('Four-PNe-SMC-2015.ecsv', \n",
    "  #      format='ascii.ecsv')\n",
    "  # tab_four['coord'] = coord.SkyCoord(ra=tab_base['RA'], dec=tab_base['DEC'],\n",
    "  #   unit=('hourangle', 'deg'))\n",
    "tab_269 = Table.read('../TAP_1_J_AJ_123_269_table.ecsv', format='ascii.ecsv')\n",
    "tab_269['coord'] = coord.SkyCoord(ra=tab_269['RAJ2000'], dec=tab_269['DEJ2000'], unit=('deg', 'deg'))\n",
    "tab_smc = Table.read('../TAP_3_J_A+A_456_451_PNe_onlySMC.ecsv', format='ascii.ecsv')\n",
    "tab_smc['coord'] = coord.SkyCoord(ra=tab_smc['_RA'], dec=tab_smc['_DE'], unit=('deg', 'deg'))"
   ]
  },
  {
   "cell_type": "code",
   "execution_count": 3,
   "id": "013962cd",
   "metadata": {},
   "outputs": [],
   "source": [
    "MAXSEP = 1.0\n",
    "sourceseps = []\n",
    "for pn in tab_269:\n",
    "    seps = pn['coord'].separation(tab_base['coord']).arcsec\n",
    "    iclosest = seps.argmin()\n",
    "    sourceseps.append(seps[iclosest])            "
   ]
  },
  {
   "cell_type": "code",
   "execution_count": 4,
   "id": "bc0e683b",
   "metadata": {},
   "outputs": [
    {
     "data": {
      "text/html": [
       "<div><i>Table length=25</i>\n",
       "<table id=\"table139704367579872\" class=\"table-striped table-bordered table-condensed\">\n",
       "<thead><tr><th>Name</th><th>RAJ2000</th><th>DEJ2000</th></tr></thead>\n",
       "<thead><tr><th>int64</th><th>float64</th><th>float64</th></tr></thead>\n",
       "<tr><td>1</td><td>11.298749999999998</td><td>-73.31616666666666</td></tr>\n",
       "<tr><td>2</td><td>11.402083333333332</td><td>-73.40108333333332</td></tr>\n",
       "<tr><td>3</td><td>11.659999999999998</td><td>-73.42413888888888</td></tr>\n",
       "<tr><td>4</td><td>11.818749999999998</td><td>-73.18691666666666</td></tr>\n",
       "<tr><td>5</td><td>11.916666666666664</td><td>-72.65013888888888</td></tr>\n",
       "<tr><td>6</td><td>12.283749999999998</td><td>-73.03999999999999</td></tr>\n",
       "<tr><td>7</td><td>12.395833333333332</td><td>-73.44358333333332</td></tr>\n",
       "<tr><td>8</td><td>12.448333333333332</td><td>-72.68633333333332</td></tr>\n",
       "<tr><td>...</td><td>...</td><td>...</td></tr>\n",
       "<tr><td>18</td><td>14.75708333333333</td><td>-73.44480555555555</td></tr>\n",
       "<tr><td>19</td><td>14.873333333333331</td><td>-73.6523611111111</td></tr>\n",
       "<tr><td>20</td><td>15.062083333333332</td><td>-72.27758333333333</td></tr>\n",
       "<tr><td>21</td><td>15.389999999999995</td><td>-72.58130555555555</td></tr>\n",
       "<tr><td>22</td><td>15.470416666666663</td><td>-73.69794444444443</td></tr>\n",
       "<tr><td>23</td><td>15.504166666666665</td><td>-72.98299999999999</td></tr>\n",
       "<tr><td>24</td><td>15.700833333333332</td><td>-72.95558333333332</td></tr>\n",
       "<tr><td>25</td><td>15.86083333333333</td><td>-73.03655555555555</td></tr>\n",
       "</table></div>"
      ],
      "text/plain": [
       "<Table length=25>\n",
       " Name      RAJ2000            DEJ2000      \n",
       "int64      float64            float64      \n",
       "----- ------------------ ------------------\n",
       "    1 11.298749999999998 -73.31616666666666\n",
       "    2 11.402083333333332 -73.40108333333332\n",
       "    3 11.659999999999998 -73.42413888888888\n",
       "    4 11.818749999999998 -73.18691666666666\n",
       "    5 11.916666666666664 -72.65013888888888\n",
       "    6 12.283749999999998 -73.03999999999999\n",
       "    7 12.395833333333332 -73.44358333333332\n",
       "    8 12.448333333333332 -72.68633333333332\n",
       "  ...                ...                ...\n",
       "   18  14.75708333333333 -73.44480555555555\n",
       "   19 14.873333333333331  -73.6523611111111\n",
       "   20 15.062083333333332 -72.27758333333333\n",
       "   21 15.389999999999995 -72.58130555555555\n",
       "   22 15.470416666666663 -73.69794444444443\n",
       "   23 15.504166666666665 -72.98299999999999\n",
       "   24 15.700833333333332 -72.95558333333332\n",
       "   25  15.86083333333333 -73.03655555555555"
      ]
     },
     "execution_count": 4,
     "metadata": {},
     "output_type": "execute_result"
    }
   ],
   "source": [
    "Col_base = [\"Name\", \"RAJ2000\", \"DEJ2000\"]\n",
    "tab_base_ = tab_base[Col_base]\n",
    "tab_269.rename_column('recno', 'Name')\n",
    "tab_269_ = tab_269[Col_base]\n",
    "tab_269_"
   ]
  },
  {
   "cell_type": "code",
   "execution_count": 5,
   "id": "7d899a6b",
   "metadata": {},
   "outputs": [],
   "source": [
    "tab_269_['Name'] = tab_269_['Name'].astype(str)"
   ]
  },
  {
   "cell_type": "code",
   "execution_count": 6,
   "id": "5893d9a2",
   "metadata": {},
   "outputs": [
    {
     "data": {
      "text/plain": [
       "array([ True, False,  True,  True,  True, False,  True,  True,  True,\n",
       "        True,  True,  True,  True,  True,  True,  True,  True,  True,\n",
       "        True,  True,  True,  True,  True,  True,  True])"
      ]
     },
     "execution_count": 6,
     "metadata": {},
     "output_type": "execute_result"
    }
   ],
   "source": [
    "mask = np.array(sourceseps) >= MAXSEP\n",
    "mask"
   ]
  },
  {
   "cell_type": "code",
   "execution_count": 7,
   "id": "02133a23",
   "metadata": {},
   "outputs": [],
   "source": [
    "tab_269_unmatch = tab_269_[mask]"
   ]
  },
  {
   "cell_type": "code",
   "execution_count": 8,
   "id": "d786dcae",
   "metadata": {},
   "outputs": [
    {
     "data": {
      "text/html": [
       "<div><i>Table length=23</i>\n",
       "<table id=\"table139704367580496\" class=\"table-striped table-bordered table-condensed\">\n",
       "<thead><tr><th>Name</th><th>RAJ2000</th><th>DEJ2000</th></tr></thead>\n",
       "<thead><tr><th>str21</th><th>float64</th><th>float64</th></tr></thead>\n",
       "<tr><td>1</td><td>11.298749999999998</td><td>-73.31616666666666</td></tr>\n",
       "<tr><td>3</td><td>11.659999999999998</td><td>-73.42413888888888</td></tr>\n",
       "<tr><td>4</td><td>11.818749999999998</td><td>-73.18691666666666</td></tr>\n",
       "<tr><td>5</td><td>11.916666666666664</td><td>-72.65013888888888</td></tr>\n",
       "<tr><td>7</td><td>12.395833333333332</td><td>-73.44358333333332</td></tr>\n",
       "<tr><td>8</td><td>12.448333333333332</td><td>-72.68633333333332</td></tr>\n",
       "<tr><td>9</td><td>12.51458333333333</td><td>-73.18038888888888</td></tr>\n",
       "<tr><td>10</td><td>12.59875</td><td>-72.38569444444444</td></tr>\n",
       "<tr><td>...</td><td>...</td><td>...</td></tr>\n",
       "<tr><td>18</td><td>14.75708333333333</td><td>-73.44480555555555</td></tr>\n",
       "<tr><td>19</td><td>14.873333333333331</td><td>-73.6523611111111</td></tr>\n",
       "<tr><td>20</td><td>15.062083333333332</td><td>-72.27758333333333</td></tr>\n",
       "<tr><td>21</td><td>15.389999999999995</td><td>-72.58130555555555</td></tr>\n",
       "<tr><td>22</td><td>15.470416666666663</td><td>-73.69794444444443</td></tr>\n",
       "<tr><td>23</td><td>15.504166666666665</td><td>-72.98299999999999</td></tr>\n",
       "<tr><td>24</td><td>15.700833333333332</td><td>-72.95558333333332</td></tr>\n",
       "<tr><td>25</td><td>15.86083333333333</td><td>-73.03655555555555</td></tr>\n",
       "</table></div>"
      ],
      "text/plain": [
       "<Table length=23>\n",
       " Name      RAJ2000            DEJ2000      \n",
       "str21      float64            float64      \n",
       "----- ------------------ ------------------\n",
       "    1 11.298749999999998 -73.31616666666666\n",
       "    3 11.659999999999998 -73.42413888888888\n",
       "    4 11.818749999999998 -73.18691666666666\n",
       "    5 11.916666666666664 -72.65013888888888\n",
       "    7 12.395833333333332 -73.44358333333332\n",
       "    8 12.448333333333332 -72.68633333333332\n",
       "    9  12.51458333333333 -73.18038888888888\n",
       "   10           12.59875 -72.38569444444444\n",
       "  ...                ...                ...\n",
       "   18  14.75708333333333 -73.44480555555555\n",
       "   19 14.873333333333331  -73.6523611111111\n",
       "   20 15.062083333333332 -72.27758333333333\n",
       "   21 15.389999999999995 -72.58130555555555\n",
       "   22 15.470416666666663 -73.69794444444443\n",
       "   23 15.504166666666665 -72.98299999999999\n",
       "   24 15.700833333333332 -72.95558333333332\n",
       "   25  15.86083333333333 -73.03655555555555"
      ]
     },
     "execution_count": 8,
     "metadata": {},
     "output_type": "execute_result"
    }
   ],
   "source": [
    "tab_269_unmatch"
   ]
  },
  {
   "cell_type": "code",
   "execution_count": 9,
   "id": "fed8c245",
   "metadata": {},
   "outputs": [
    {
     "data": {
      "text/html": [
       "<div><i>Table length=68</i>\n",
       "<table id=\"table139704367528976\" class=\"table-striped table-bordered table-condensed\">\n",
       "<thead><tr><th>Name</th><th>RAJ2000</th><th>DEJ2000</th><th>coord</th></tr></thead>\n",
       "<thead><tr><th></th><th></th><th></th><th>deg,deg</th></tr></thead>\n",
       "<thead><tr><th>str21</th><th>float64</th><th>float64</th><th>SkyCoord</th></tr></thead>\n",
       "<tr><td>LHA 115-N 4</td><td>8.591624999999999</td><td>-73.2226111111111</td><td>8.591624999999999,-73.2226111111111</td></tr>\n",
       "<tr><td>LHA 115-N 5</td><td>10.340333333333332</td><td>-72.75463888888888</td><td>10.340333333333332,-72.75463888888888</td></tr>\n",
       "<tr><td>LHA 115-N 6</td><td>10.365624999999998</td><td>-73.78513888888888</td><td>10.365624999999998,-73.78513888888888</td></tr>\n",
       "<tr><td>Jacoby SMC 1</td><td>10.617291666666665</td><td>-73.34863888888889</td><td>10.617291666666665,-73.34863888888889</td></tr>\n",
       "<tr><td>[MA93] 44</td><td>10.789166666666665</td><td>-73.1343611111111</td><td>10.789166666666665,-73.1343611111111</td></tr>\n",
       "<tr><td>LHA 115-N 7</td><td>10.8555</td><td>-72.63858333333333</td><td>10.8555,-72.63858333333333</td></tr>\n",
       "<tr><td>MGPN SMC 6</td><td>11.107208333333332</td><td>-73.86091666666665</td><td>11.107208333333332,-73.86091666666665</td></tr>\n",
       "<tr><td>...</td><td>...</td><td>...</td><td>...</td></tr>\n",
       "<tr><td>18</td><td>14.75708333333333</td><td>-73.44480555555555</td><td>14.75708333333333,-73.44480555555555</td></tr>\n",
       "<tr><td>19</td><td>14.873333333333331</td><td>-73.6523611111111</td><td>14.873333333333331,-73.6523611111111</td></tr>\n",
       "<tr><td>20</td><td>15.062083333333332</td><td>-72.27758333333333</td><td>15.062083333333332,-72.27758333333333</td></tr>\n",
       "<tr><td>21</td><td>15.389999999999995</td><td>-72.58130555555555</td><td>15.389999999999995,-72.58130555555555</td></tr>\n",
       "<tr><td>22</td><td>15.470416666666663</td><td>-73.69794444444443</td><td>15.470416666666663,-73.69794444444443</td></tr>\n",
       "<tr><td>23</td><td>15.504166666666665</td><td>-72.98299999999999</td><td>15.504166666666665,-72.98299999999999</td></tr>\n",
       "<tr><td>24</td><td>15.700833333333332</td><td>-72.95558333333332</td><td>15.700833333333332,-72.95558333333332</td></tr>\n",
       "<tr><td>25</td><td>15.86083333333333</td><td>-73.03655555555555</td><td>15.86083333333333,-73.03655555555555</td></tr>\n",
       "</table></div>"
      ],
      "text/plain": [
       "<Table length=68>\n",
       "    Name          RAJ2000            DEJ2000                       coord                \n",
       "                                                                  deg,deg               \n",
       "   str21          float64            float64                      SkyCoord              \n",
       "------------ ------------------ ------------------ -------------------------------------\n",
       " LHA 115-N 4  8.591624999999999  -73.2226111111111   8.591624999999999,-73.2226111111111\n",
       " LHA 115-N 5 10.340333333333332 -72.75463888888888 10.340333333333332,-72.75463888888888\n",
       " LHA 115-N 6 10.365624999999998 -73.78513888888888 10.365624999999998,-73.78513888888888\n",
       "Jacoby SMC 1 10.617291666666665 -73.34863888888889 10.617291666666665,-73.34863888888889\n",
       "   [MA93] 44 10.789166666666665  -73.1343611111111  10.789166666666665,-73.1343611111111\n",
       " LHA 115-N 7            10.8555 -72.63858333333333            10.8555,-72.63858333333333\n",
       "  MGPN SMC 6 11.107208333333332 -73.86091666666665 11.107208333333332,-73.86091666666665\n",
       "         ...                ...                ...                                   ...\n",
       "          18  14.75708333333333 -73.44480555555555  14.75708333333333,-73.44480555555555\n",
       "          19 14.873333333333331  -73.6523611111111  14.873333333333331,-73.6523611111111\n",
       "          20 15.062083333333332 -72.27758333333333 15.062083333333332,-72.27758333333333\n",
       "          21 15.389999999999995 -72.58130555555555 15.389999999999995,-72.58130555555555\n",
       "          22 15.470416666666663 -73.69794444444443 15.470416666666663,-73.69794444444443\n",
       "          23 15.504166666666665 -72.98299999999999 15.504166666666665,-72.98299999999999\n",
       "          24 15.700833333333332 -72.95558333333332 15.700833333333332,-72.95558333333332\n",
       "          25  15.86083333333333 -73.03655555555555  15.86083333333333,-73.03655555555555"
      ]
     },
     "execution_count": 9,
     "metadata": {},
     "output_type": "execute_result"
    }
   ],
   "source": [
    "T12_base = vstack([tab_base_, tab_269_unmatch])\n",
    "T12_base['coord'] = coord.SkyCoord(ra=T12_base['RAJ2000'], dec=T12_base['DEJ2000'], unit=('deg', 'deg'))\n",
    "T12_base"
   ]
  },
  {
   "cell_type": "code",
   "execution_count": 10,
   "id": "a82a0fb7",
   "metadata": {},
   "outputs": [],
   "source": [
    "sourceseps1 = []\n",
    "for pn in tab_smc:\n",
    "    seps = pn['coord'].separation(T12_base['coord']).arcsec\n",
    "    iclosest = seps.argmin()\n",
    "    sourceseps1.append(seps[iclosest]) "
   ]
  },
  {
   "cell_type": "code",
   "execution_count": 11,
   "id": "aad951e3",
   "metadata": {},
   "outputs": [
    {
     "data": {
      "text/html": [
       "<div><i>Table length=45</i>\n",
       "<table id=\"table139704367766736\" class=\"table-striped table-bordered table-condensed\">\n",
       "<thead><tr><th>Name</th><th>RAJ2000</th><th>DEJ2000</th></tr></thead>\n",
       "<thead><tr><th>str11</th><th>float64</th><th>float64</th></tr></thead>\n",
       "<tr><td>SMP_SMC_1</td><td>5.99433</td><td>-73.63444</td></tr>\n",
       "<tr><td>SMP_SMC_2</td><td>8.16179</td><td>-71.69986</td></tr>\n",
       "<tr><td>SMP_SMC_3</td><td>8.59137</td><td>-73.22264</td></tr>\n",
       "<tr><td>SMP_SMC_4</td><td>10.19254</td><td>-75.27244</td></tr>\n",
       "<tr><td>SMP_SMC_5</td><td>10.34029</td><td>-72.75467</td></tr>\n",
       "<tr><td>SMP_SMC_6</td><td>10.36583</td><td>-73.78508</td></tr>\n",
       "<tr><td>SMP_SMC_7</td><td>10.61867</td><td>-73.34831</td></tr>\n",
       "<tr><td>SMP_SMC_8</td><td>10.85554</td><td>-72.63867</td></tr>\n",
       "<tr><td>...</td><td>...</td><td>...</td></tr>\n",
       "<tr><td>MGPN_SMC_5</td><td>10.36375</td><td>-75.04778</td></tr>\n",
       "<tr><td>MGPN_SMC_6</td><td>11.10667</td><td>-73.86083</td></tr>\n",
       "<tr><td>MGPN_SMC_7</td><td>11.92708</td><td>-74.80417</td></tr>\n",
       "<tr><td>MGPN_SMC_8</td><td>14.08208</td><td>-72.11667</td></tr>\n",
       "<tr><td>MGPN_SMC_9</td><td>14.67887</td><td>-72.45467</td></tr>\n",
       "<tr><td>[M95]_1</td><td>2.18</td><td>-76.00278</td></tr>\n",
       "<tr><td>[M95]_2</td><td>11.50958</td><td>-74.14361</td></tr>\n",
       "<tr><td>LHA_115-N_8</td><td>10.80583</td><td>-72.92028</td></tr>\n",
       "</table></div>"
      ],
      "text/plain": [
       "<Table length=45>\n",
       "    Name    RAJ2000   DEJ2000 \n",
       "   str11    float64   float64 \n",
       "----------- -------- ---------\n",
       "  SMP_SMC_1  5.99433 -73.63444\n",
       "  SMP_SMC_2  8.16179 -71.69986\n",
       "  SMP_SMC_3  8.59137 -73.22264\n",
       "  SMP_SMC_4 10.19254 -75.27244\n",
       "  SMP_SMC_5 10.34029 -72.75467\n",
       "  SMP_SMC_6 10.36583 -73.78508\n",
       "  SMP_SMC_7 10.61867 -73.34831\n",
       "  SMP_SMC_8 10.85554 -72.63867\n",
       "        ...      ...       ...\n",
       " MGPN_SMC_5 10.36375 -75.04778\n",
       " MGPN_SMC_6 11.10667 -73.86083\n",
       " MGPN_SMC_7 11.92708 -74.80417\n",
       " MGPN_SMC_8 14.08208 -72.11667\n",
       " MGPN_SMC_9 14.67887 -72.45467\n",
       "    [M95]_1     2.18 -76.00278\n",
       "    [M95]_2 11.50958 -74.14361\n",
       "LHA_115-N_8 10.80583 -72.92028"
      ]
     },
     "execution_count": 11,
     "metadata": {},
     "output_type": "execute_result"
    }
   ],
   "source": [
    "T12_base_ = T12_base[Col_base]\n",
    "tab_smc.rename_column('_RA', 'RAJ2000')\n",
    "tab_smc.rename_column('_DE', 'DEJ2000')\n",
    "tab_smc_ = tab_smc[Col_base]\n",
    "tab_smc_"
   ]
  },
  {
   "cell_type": "code",
   "execution_count": 12,
   "id": "ee8ea165",
   "metadata": {},
   "outputs": [],
   "source": [
    "mask1 = np.array(sourceseps1) >= MAXSEP"
   ]
  },
  {
   "cell_type": "code",
   "execution_count": 13,
   "id": "3338178b",
   "metadata": {},
   "outputs": [
    {
     "data": {
      "text/html": [
       "<div><i>Table length=24</i>\n",
       "<table id=\"table139704367766208\" class=\"table-striped table-bordered table-condensed\">\n",
       "<thead><tr><th>Name</th><th>RAJ2000</th><th>DEJ2000</th></tr></thead>\n",
       "<thead><tr><th>str11</th><th>float64</th><th>float64</th></tr></thead>\n",
       "<tr><td>SMP_SMC_1</td><td>5.99433</td><td>-73.63444</td></tr>\n",
       "<tr><td>SMP_SMC_2</td><td>8.16179</td><td>-71.69986</td></tr>\n",
       "<tr><td>SMP_SMC_4</td><td>10.19254</td><td>-75.27244</td></tr>\n",
       "<tr><td>SMP_SMC_7</td><td>10.61867</td><td>-73.34831</td></tr>\n",
       "<tr><td>SMP_SMC_9</td><td>11.33704</td><td>-73.40253</td></tr>\n",
       "<tr><td>SMP_SMC_10</td><td>11.74862</td><td>-72.82111</td></tr>\n",
       "<tr><td>SMP_SMC_11</td><td>12.1475</td><td>-72.96917</td></tr>\n",
       "<tr><td>SMP_SMC_17</td><td>12.98517</td><td>-71.41225</td></tr>\n",
       "<tr><td>...</td><td>...</td><td>...</td></tr>\n",
       "<tr><td>MGPN_SMC_2</td><td>7.0425</td><td>-72.97889</td></tr>\n",
       "<tr><td>MGPN_SMC_3</td><td>7.3375</td><td>-72.23528</td></tr>\n",
       "<tr><td>MGPN_SMC_5</td><td>10.36375</td><td>-75.04778</td></tr>\n",
       "<tr><td>MGPN_SMC_7</td><td>11.92708</td><td>-74.80417</td></tr>\n",
       "<tr><td>MGPN_SMC_8</td><td>14.08208</td><td>-72.11667</td></tr>\n",
       "<tr><td>[M95]_1</td><td>2.18</td><td>-76.00278</td></tr>\n",
       "<tr><td>[M95]_2</td><td>11.50958</td><td>-74.14361</td></tr>\n",
       "<tr><td>LHA_115-N_8</td><td>10.80583</td><td>-72.92028</td></tr>\n",
       "</table></div>"
      ],
      "text/plain": [
       "<Table length=24>\n",
       "    Name    RAJ2000   DEJ2000 \n",
       "   str11    float64   float64 \n",
       "----------- -------- ---------\n",
       "  SMP_SMC_1  5.99433 -73.63444\n",
       "  SMP_SMC_2  8.16179 -71.69986\n",
       "  SMP_SMC_4 10.19254 -75.27244\n",
       "  SMP_SMC_7 10.61867 -73.34831\n",
       "  SMP_SMC_9 11.33704 -73.40253\n",
       " SMP_SMC_10 11.74862 -72.82111\n",
       " SMP_SMC_11  12.1475 -72.96917\n",
       " SMP_SMC_17 12.98517 -71.41225\n",
       "        ...      ...       ...\n",
       " MGPN_SMC_2   7.0425 -72.97889\n",
       " MGPN_SMC_3   7.3375 -72.23528\n",
       " MGPN_SMC_5 10.36375 -75.04778\n",
       " MGPN_SMC_7 11.92708 -74.80417\n",
       " MGPN_SMC_8 14.08208 -72.11667\n",
       "    [M95]_1     2.18 -76.00278\n",
       "    [M95]_2 11.50958 -74.14361\n",
       "LHA_115-N_8 10.80583 -72.92028"
      ]
     },
     "execution_count": 13,
     "metadata": {},
     "output_type": "execute_result"
    }
   ],
   "source": [
    "tab_smc_unmatch = tab_smc_[mask1]\n",
    "tab_smc_unmatch "
   ]
  },
  {
   "cell_type": "code",
   "execution_count": 14,
   "id": "22990dc6",
   "metadata": {},
   "outputs": [
    {
     "data": {
      "text/html": [
       "<div><i>Table length=92</i>\n",
       "<table id=\"table139704367081600\" class=\"table-striped table-bordered table-condensed\">\n",
       "<thead><tr><th>Name</th><th>RAJ2000</th><th>DEJ2000</th></tr></thead>\n",
       "<thead><tr><th>str21</th><th>float64</th><th>float64</th></tr></thead>\n",
       "<tr><td>LHA 115-N 4</td><td>8.591624999999999</td><td>-73.2226111111111</td></tr>\n",
       "<tr><td>LHA 115-N 5</td><td>10.340333333333332</td><td>-72.75463888888888</td></tr>\n",
       "<tr><td>LHA 115-N 6</td><td>10.365624999999998</td><td>-73.78513888888888</td></tr>\n",
       "<tr><td>Jacoby SMC 1</td><td>10.617291666666665</td><td>-73.34863888888889</td></tr>\n",
       "<tr><td>[MA93] 44</td><td>10.789166666666665</td><td>-73.1343611111111</td></tr>\n",
       "<tr><td>LHA 115-N 7</td><td>10.8555</td><td>-72.63858333333333</td></tr>\n",
       "<tr><td>MGPN SMC 6</td><td>11.107208333333332</td><td>-73.86091666666665</td></tr>\n",
       "<tr><td>[JD2002] 1</td><td>11.300416666666663</td><td>-73.3161111111111</td></tr>\n",
       "<tr><td>...</td><td>...</td><td>...</td></tr>\n",
       "<tr><td>MGPN_SMC_2</td><td>7.0425</td><td>-72.97889</td></tr>\n",
       "<tr><td>MGPN_SMC_3</td><td>7.3375</td><td>-72.23528</td></tr>\n",
       "<tr><td>MGPN_SMC_5</td><td>10.36375</td><td>-75.04778</td></tr>\n",
       "<tr><td>MGPN_SMC_7</td><td>11.92708</td><td>-74.80417</td></tr>\n",
       "<tr><td>MGPN_SMC_8</td><td>14.08208</td><td>-72.11667</td></tr>\n",
       "<tr><td>[M95]_1</td><td>2.18</td><td>-76.00278</td></tr>\n",
       "<tr><td>[M95]_2</td><td>11.50958</td><td>-74.14361</td></tr>\n",
       "<tr><td>LHA_115-N_8</td><td>10.80583</td><td>-72.92028</td></tr>\n",
       "</table></div>"
      ],
      "text/plain": [
       "<Table length=92>\n",
       "    Name          RAJ2000            DEJ2000      \n",
       "   str21          float64            float64      \n",
       "------------ ------------------ ------------------\n",
       " LHA 115-N 4  8.591624999999999  -73.2226111111111\n",
       " LHA 115-N 5 10.340333333333332 -72.75463888888888\n",
       " LHA 115-N 6 10.365624999999998 -73.78513888888888\n",
       "Jacoby SMC 1 10.617291666666665 -73.34863888888889\n",
       "   [MA93] 44 10.789166666666665  -73.1343611111111\n",
       " LHA 115-N 7            10.8555 -72.63858333333333\n",
       "  MGPN SMC 6 11.107208333333332 -73.86091666666665\n",
       "  [JD2002] 1 11.300416666666663  -73.3161111111111\n",
       "         ...                ...                ...\n",
       "  MGPN_SMC_2             7.0425          -72.97889\n",
       "  MGPN_SMC_3             7.3375          -72.23528\n",
       "  MGPN_SMC_5           10.36375          -75.04778\n",
       "  MGPN_SMC_7           11.92708          -74.80417\n",
       "  MGPN_SMC_8           14.08208          -72.11667\n",
       "     [M95]_1               2.18          -76.00278\n",
       "     [M95]_2           11.50958          -74.14361\n",
       " LHA_115-N_8           10.80583          -72.92028"
      ]
     },
     "execution_count": 14,
     "metadata": {},
     "output_type": "execute_result"
    }
   ],
   "source": [
    "tab_final = vstack([T12_base_, tab_smc_unmatch])\n",
    "tab_final"
   ]
  },
  {
   "cell_type": "code",
   "execution_count": 15,
   "id": "61ddaa13",
   "metadata": {},
   "outputs": [],
   "source": [
    "tab_final.write(\"../smc-final.ecsv\", format=\"ascii.ecsv\", overwrite=True)"
   ]
  },
  {
   "cell_type": "code",
   "execution_count": 16,
   "id": "91f65e69",
   "metadata": {},
   "outputs": [],
   "source": [
    "df = tab_final.to_pandas()\n",
    "df.to_csv(\"../smc-final.csv\", index=False)"
   ]
  },
  {
   "cell_type": "code",
   "execution_count": null,
   "id": "07f321b3",
   "metadata": {},
   "outputs": [],
   "source": []
  }
 ],
 "metadata": {
  "kernelspec": {
   "display_name": "Python 3 (ipykernel)",
   "language": "python",
   "name": "python3"
  },
  "language_info": {
   "codemirror_mode": {
    "name": "ipython",
    "version": 3
   },
   "file_extension": ".py",
   "mimetype": "text/x-python",
   "name": "python",
   "nbconvert_exporter": "python",
   "pygments_lexer": "ipython3",
   "version": "3.9.7"
  }
 },
 "nbformat": 4,
 "nbformat_minor": 5
}

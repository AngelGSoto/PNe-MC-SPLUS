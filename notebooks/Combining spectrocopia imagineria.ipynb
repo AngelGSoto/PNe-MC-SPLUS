{
 "cells": [
  {
   "cell_type": "code",
   "execution_count": 1,
   "id": "6f4c7c90",
   "metadata": {},
   "outputs": [],
   "source": [
    "import numpy as np\n",
    "from astropy.io import fits\n",
    "from scipy.ndimage import rotate\n",
    "import matplotlib.pyplot as plt\n",
    "from matplotlib.transforms import Affine2D\n",
    "import aplpy\n",
    "from matplotlib.patches import Rectangle\n",
    "from astropy.visualization import (MinMaxInterval, AsinhStretch)\n",
    "from astropy.wcs import WCS\n",
    "from astropy.visualization import wcsaxes\n",
    "from astropy import units as u\n",
    "import pandas as pd\n",
    "from astropy.table import Table, hstack\n",
    "from astropy.table import join\n",
    "import os"
   ]
  },
  {
   "cell_type": "code",
   "execution_count": 2,
   "id": "d0f935c9",
   "metadata": {},
   "outputs": [],
   "source": [
    "# Spectra VLT\n",
    "df_spec = pd.read_csv(\"../flux-around-halpha.csv\")"
   ]
  },
  {
   "cell_type": "code",
   "execution_count": 3,
   "id": "e9e39049",
   "metadata": {},
   "outputs": [
    {
     "data": {
      "text/html": [
       "<div><i>Table length=8</i>\n",
       "<table id=\"table140533682589504\" class=\"table-striped table-bordered table-condensed\">\n",
       "<thead><tr><th>Extension Name</th><th>Wavelengths within Range</th><th>Fluxes within Range</th><th>Mean Wavelengths</th><th>Sum Fluxes</th></tr></thead>\n",
       "<thead><tr><th>str10</th><th>str78</th><th>str95</th><th>float64</th><th>float64</th></tr></thead>\n",
       "<tr><td>SMC-SMP-1</td><td>(6553.0637408641605, 6567.821537038354, 6583.128152918056, 6588.4660231033195)</td><td>(1.2022578610051685e-14, 5.494703046298636e-13, 2.0085540155717734e-15, 3.691481308740477e-14)</td><td>6573.1198634809725</td><td>6.004162503428919e-13</td></tr>\n",
       "<tr><td>SMC-SMP-2</td><td>(6553.51000174078, 6565.416766635332, 6568.098328576803, 6588.870482626433)</td><td>(5.462622213390637e-15, -4.161905026811382e-10, 5.189952591446627e-13, 1.6700709365007887e-14)</td><td>6568.973894894837</td><td>-4.1564934409041507e-10</td></tr>\n",
       "<tr><td>SMC-SMP-8</td><td>(6552.788925756808, 6567.364336480378, 6588.1210922735345)</td><td>(1.1403752283280212e-15, 4.791529148326006e-13, 4.9753043240508554e-15)</td><td>6569.424784836906</td><td>4.852685943849796e-13</td></tr>\n",
       "<tr><td>SMC-SMP-13</td><td>(6553.400605080448, 6568.11135794641, 6583.508330534921, 6588.757061695615)</td><td>(7.68697740521025e-15, 8.259523934973338e-13, 1.1442484193870092e-15, 2.4185176866156056e-14)</td><td>6573.444338814348</td><td>8.589687961880871e-13</td></tr>\n",
       "<tr><td>SMC-SMP-18</td><td>(6552.770059305075, 6567.507477808056, 6582.791745453975, 6588.16608676816)</td><td>(1.5436682368707992e-14, 7.252845636297283e-13, 1.4039282146352237e-15, 4.869836831659918e-14)</td><td>6572.808842333817</td><td>7.908235425296707e-13</td></tr>\n",
       "<tr><td>SMC-SMP-20</td><td>(6552.103504840201, 6566.849310471623, 6582.101266014918, 6587.433940947145)</td><td>(3.756015626893724e-15, 1.1170046716796211e-12, 2.5149286739753887e-15, 1.0937016980395785e-14)</td><td>6572.122005568472</td><td>1.134212632960886e-12</td></tr>\n",
       "<tr><td>SMC-SMP-24</td><td>(6552.888838775578, 6567.652267536342, 6588.287220289874)</td><td>(1.2841874899416144e-14, 6.396599150665972e-13, 3.956243979083235e-14)</td><td>6569.609442200599</td><td>6.920642297568457e-13</td></tr>\n",
       "<tr><td>SMC-SMP-25</td><td>(6552.980160567651, 6565.102701166069, 6567.854215925305, 6588.4048817585635)</td><td>(8.506910043029823e-15, -6.46469115250165e-11, 1.755231550465073e-13, 2.62826542886605e-14)</td><td>6568.585489854398</td><td>-6.443659880563831e-11</td></tr>\n",
       "</table></div>"
      ],
      "text/plain": [
       "<Table length=8>\n",
       "Extension Name                            Wavelengths within Range                            ...  Mean Wavelengths         Sum Fluxes      \n",
       "    str10                                          str78                                      ...      float64               float64        \n",
       "-------------- ------------------------------------------------------------------------------ ... ------------------ -----------------------\n",
       "     SMC-SMP-1 (6553.0637408641605, 6567.821537038354, 6583.128152918056, 6588.4660231033195) ... 6573.1198634809725   6.004162503428919e-13\n",
       "     SMC-SMP-2    (6553.51000174078, 6565.416766635332, 6568.098328576803, 6588.870482626433) ...  6568.973894894837 -4.1564934409041507e-10\n",
       "     SMC-SMP-8                     (6552.788925756808, 6567.364336480378, 6588.1210922735345) ...  6569.424784836906   4.852685943849796e-13\n",
       "    SMC-SMP-13    (6553.400605080448, 6568.11135794641, 6583.508330534921, 6588.757061695615) ...  6573.444338814348   8.589687961880871e-13\n",
       "    SMC-SMP-18    (6552.770059305075, 6567.507477808056, 6582.791745453975, 6588.16608676816) ...  6572.808842333817   7.908235425296707e-13\n",
       "    SMC-SMP-20   (6552.103504840201, 6566.849310471623, 6582.101266014918, 6587.433940947145) ...  6572.122005568472   1.134212632960886e-12\n",
       "    SMC-SMP-24                      (6552.888838775578, 6567.652267536342, 6588.287220289874) ...  6569.609442200599   6.920642297568457e-13\n",
       "    SMC-SMP-25  (6552.980160567651, 6565.102701166069, 6567.854215925305, 6588.4048817585635) ...  6568.585489854398  -6.443659880563831e-11"
      ]
     },
     "execution_count": 3,
     "metadata": {},
     "output_type": "execute_result"
    }
   ],
   "source": [
    "# Convert Pandas DataFrame 'df' to Astropy Table\n",
    "table_spc = Table.from_pandas(df_spec)\n",
    "table_spc"
   ]
  },
  {
   "cell_type": "code",
   "execution_count": 4,
   "id": "71eea858",
   "metadata": {},
   "outputs": [],
   "source": [
    "# Spectra VLT\n",
    "table_img = Table.read(\"../flux-pseudoslit-halpha.ecsv\", format=\"ascii.ecsv\")"
   ]
  },
  {
   "cell_type": "code",
   "execution_count": 5,
   "id": "48a7cac7",
   "metadata": {},
   "outputs": [
    {
     "data": {
      "text/html": [
       "<div><i>Table length=7</i>\n",
       "<table id=\"table140532499982752\" class=\"table-striped table-bordered table-condensed\">\n",
       "<thead><tr><th>ID</th><th>Name spec</th><th>Flux_slit</th></tr></thead>\n",
       "<thead><tr><th>str21</th><th>str10</th><th>float64</th></tr></thead>\n",
       "<tr><td>iDR4_3_MC0113_0054489</td><td>SMC-SMP-1</td><td>5.72037642948553e-13</td></tr>\n",
       "<tr><td>iDR4_3_MC0093_0237121</td><td>SMC-SMP-2</td><td>5.614099137830897e-13</td></tr>\n",
       "<tr><td>iDR4_3_MC0115_1053289</td><td>SMC-SMP-13</td><td>8.170497698550827e-13</td></tr>\n",
       "<tr><td>iDR4_3_MC0115_0671498</td><td>SMC-SMP-18</td><td>7.686082673097339e-13</td></tr>\n",
       "<tr><td>iDR4_3_MC0048_0001615</td><td>SMC-SMP-20</td><td>1.0613599842751453e-12</td></tr>\n",
       "<tr><td>iDR4_3_MC0094_0183910</td><td>SMC-SMP-24</td><td>7.005829293429966e-13</td></tr>\n",
       "<tr><td>iDR4_3_MC0094_0213041</td><td>SMC-SMP-25</td><td>2.0389571107892746e-13</td></tr>\n",
       "</table></div>"
      ],
      "text/plain": [
       "<Table length=7>\n",
       "          ID          Name spec        Flux_slit       \n",
       "        str21           str10           float64        \n",
       "--------------------- ---------- ----------------------\n",
       "iDR4_3_MC0113_0054489  SMC-SMP-1   5.72037642948553e-13\n",
       "iDR4_3_MC0093_0237121  SMC-SMP-2  5.614099137830897e-13\n",
       "iDR4_3_MC0115_1053289 SMC-SMP-13  8.170497698550827e-13\n",
       "iDR4_3_MC0115_0671498 SMC-SMP-18  7.686082673097339e-13\n",
       "iDR4_3_MC0048_0001615 SMC-SMP-20 1.0613599842751453e-12\n",
       "iDR4_3_MC0094_0183910 SMC-SMP-24  7.005829293429966e-13\n",
       "iDR4_3_MC0094_0213041 SMC-SMP-25 2.0389571107892746e-13"
      ]
     },
     "execution_count": 5,
     "metadata": {},
     "output_type": "execute_result"
    }
   ],
   "source": [
    "table_img"
   ]
  },
  {
   "cell_type": "code",
   "execution_count": 6,
   "id": "066d1168",
   "metadata": {},
   "outputs": [
    {
     "data": {
      "text/html": [
       "&lt;Column name=&apos;FileID&apos; dtype=&apos;str10&apos; length=7&gt;\n",
       "<table>\n",
       "<tr><td>SMC-SMP-1</td></tr>\n",
       "<tr><td>SMC-SMP-2</td></tr>\n",
       "<tr><td>SMC-SMP-13</td></tr>\n",
       "<tr><td>SMC-SMP-18</td></tr>\n",
       "<tr><td>SMC-SMP-20</td></tr>\n",
       "<tr><td>SMC-SMP-24</td></tr>\n",
       "<tr><td>SMC-SMP-25</td></tr>\n",
       "</table>"
      ],
      "text/plain": [
       "<Column name='FileID' dtype='str10' length=7>\n",
       " SMC-SMP-1\n",
       " SMC-SMP-2\n",
       "SMC-SMP-13\n",
       "SMC-SMP-18\n",
       "SMC-SMP-20\n",
       "SMC-SMP-24\n",
       "SMC-SMP-25"
      ]
     },
     "execution_count": 6,
     "metadata": {},
     "output_type": "execute_result"
    }
   ],
   "source": [
    "# Renaming the columns in table_spc to match table_img\n",
    "table_spc.rename_column('Extension Name', 'ID')\n",
    "table_img.rename_column('Name spec', 'FileID')\n",
    "table_img[\"FileID\"]"
   ]
  },
  {
   "cell_type": "code",
   "execution_count": 7,
   "id": "ec2cbce2",
   "metadata": {},
   "outputs": [],
   "source": [
    "# Convert Astropy tables to Pandas DataFrames\n",
    "df1 = table_spc.to_pandas()\n",
    "df2 = table_img.to_pandas()"
   ]
  },
  {
   "cell_type": "code",
   "execution_count": 8,
   "id": "1584bab7",
   "metadata": {},
   "outputs": [
    {
     "data": {
      "text/html": [
       "<div>\n",
       "<style scoped>\n",
       "    .dataframe tbody tr th:only-of-type {\n",
       "        vertical-align: middle;\n",
       "    }\n",
       "\n",
       "    .dataframe tbody tr th {\n",
       "        vertical-align: top;\n",
       "    }\n",
       "\n",
       "    .dataframe thead th {\n",
       "        text-align: right;\n",
       "    }\n",
       "</style>\n",
       "<table border=\"1\" class=\"dataframe\">\n",
       "  <thead>\n",
       "    <tr style=\"text-align: right;\">\n",
       "      <th></th>\n",
       "      <th>ID</th>\n",
       "      <th>Wavelengths within Range</th>\n",
       "      <th>Fluxes within Range</th>\n",
       "      <th>Mean Wavelengths</th>\n",
       "      <th>Sum Fluxes</th>\n",
       "    </tr>\n",
       "  </thead>\n",
       "  <tbody>\n",
       "    <tr>\n",
       "      <th>0</th>\n",
       "      <td>SMC-SMP-1</td>\n",
       "      <td>(6553.0637408641605, 6567.821537038354, 6583.1...</td>\n",
       "      <td>(1.2022578610051685e-14, 5.494703046298636e-13...</td>\n",
       "      <td>6573.119863</td>\n",
       "      <td>6.004163e-13</td>\n",
       "    </tr>\n",
       "    <tr>\n",
       "      <th>1</th>\n",
       "      <td>SMC-SMP-2</td>\n",
       "      <td>(6553.51000174078, 6565.416766635332, 6568.098...</td>\n",
       "      <td>(5.462622213390637e-15, -4.161905026811382e-10...</td>\n",
       "      <td>6568.973895</td>\n",
       "      <td>-4.156493e-10</td>\n",
       "    </tr>\n",
       "    <tr>\n",
       "      <th>2</th>\n",
       "      <td>SMC-SMP-8</td>\n",
       "      <td>(6552.788925756808, 6567.364336480378, 6588.12...</td>\n",
       "      <td>(1.1403752283280212e-15, 4.791529148326006e-13...</td>\n",
       "      <td>6569.424785</td>\n",
       "      <td>4.852686e-13</td>\n",
       "    </tr>\n",
       "    <tr>\n",
       "      <th>3</th>\n",
       "      <td>SMC-SMP-13</td>\n",
       "      <td>(6553.400605080448, 6568.11135794641, 6583.508...</td>\n",
       "      <td>(7.68697740521025e-15, 8.259523934973338e-13, ...</td>\n",
       "      <td>6573.444339</td>\n",
       "      <td>8.589688e-13</td>\n",
       "    </tr>\n",
       "    <tr>\n",
       "      <th>4</th>\n",
       "      <td>SMC-SMP-18</td>\n",
       "      <td>(6552.770059305075, 6567.507477808056, 6582.79...</td>\n",
       "      <td>(1.5436682368707992e-14, 7.252845636297283e-13...</td>\n",
       "      <td>6572.808842</td>\n",
       "      <td>7.908235e-13</td>\n",
       "    </tr>\n",
       "    <tr>\n",
       "      <th>5</th>\n",
       "      <td>SMC-SMP-20</td>\n",
       "      <td>(6552.103504840201, 6566.849310471623, 6582.10...</td>\n",
       "      <td>(3.756015626893724e-15, 1.1170046716796211e-12...</td>\n",
       "      <td>6572.122006</td>\n",
       "      <td>1.134213e-12</td>\n",
       "    </tr>\n",
       "    <tr>\n",
       "      <th>6</th>\n",
       "      <td>SMC-SMP-24</td>\n",
       "      <td>(6552.888838775578, 6567.652267536342, 6588.28...</td>\n",
       "      <td>(1.2841874899416144e-14, 6.396599150665972e-13...</td>\n",
       "      <td>6569.609442</td>\n",
       "      <td>6.920642e-13</td>\n",
       "    </tr>\n",
       "    <tr>\n",
       "      <th>7</th>\n",
       "      <td>SMC-SMP-25</td>\n",
       "      <td>(6552.980160567651, 6565.102701166069, 6567.85...</td>\n",
       "      <td>(8.506910043029823e-15, -6.46469115250165e-11,...</td>\n",
       "      <td>6568.585490</td>\n",
       "      <td>-6.443660e-11</td>\n",
       "    </tr>\n",
       "  </tbody>\n",
       "</table>\n",
       "</div>"
      ],
      "text/plain": [
       "           ID                           Wavelengths within Range  \\\n",
       "0   SMC-SMP-1  (6553.0637408641605, 6567.821537038354, 6583.1...   \n",
       "1   SMC-SMP-2  (6553.51000174078, 6565.416766635332, 6568.098...   \n",
       "2   SMC-SMP-8  (6552.788925756808, 6567.364336480378, 6588.12...   \n",
       "3  SMC-SMP-13  (6553.400605080448, 6568.11135794641, 6583.508...   \n",
       "4  SMC-SMP-18  (6552.770059305075, 6567.507477808056, 6582.79...   \n",
       "5  SMC-SMP-20  (6552.103504840201, 6566.849310471623, 6582.10...   \n",
       "6  SMC-SMP-24  (6552.888838775578, 6567.652267536342, 6588.28...   \n",
       "7  SMC-SMP-25  (6552.980160567651, 6565.102701166069, 6567.85...   \n",
       "\n",
       "                                 Fluxes within Range  Mean Wavelengths  \\\n",
       "0  (1.2022578610051685e-14, 5.494703046298636e-13...       6573.119863   \n",
       "1  (5.462622213390637e-15, -4.161905026811382e-10...       6568.973895   \n",
       "2  (1.1403752283280212e-15, 4.791529148326006e-13...       6569.424785   \n",
       "3  (7.68697740521025e-15, 8.259523934973338e-13, ...       6573.444339   \n",
       "4  (1.5436682368707992e-14, 7.252845636297283e-13...       6572.808842   \n",
       "5  (3.756015626893724e-15, 1.1170046716796211e-12...       6572.122006   \n",
       "6  (1.2841874899416144e-14, 6.396599150665972e-13...       6569.609442   \n",
       "7  (8.506910043029823e-15, -6.46469115250165e-11,...       6568.585490   \n",
       "\n",
       "     Sum Fluxes  \n",
       "0  6.004163e-13  \n",
       "1 -4.156493e-10  \n",
       "2  4.852686e-13  \n",
       "3  8.589688e-13  \n",
       "4  7.908235e-13  \n",
       "5  1.134213e-12  \n",
       "6  6.920642e-13  \n",
       "7 -6.443660e-11  "
      ]
     },
     "execution_count": 8,
     "metadata": {},
     "output_type": "execute_result"
    }
   ],
   "source": [
    "df1"
   ]
  },
  {
   "cell_type": "code",
   "execution_count": 9,
   "id": "e963e1cc",
   "metadata": {},
   "outputs": [],
   "source": [
    "# Merge DataFrames on common columns\n",
    "merged_df = pd.merge(df1, df2, left_on='ID', right_on='FileID', how='inner')"
   ]
  },
  {
   "cell_type": "code",
   "execution_count": 10,
   "id": "ba9caad4",
   "metadata": {},
   "outputs": [
    {
     "data": {
      "text/html": [
       "<div>\n",
       "<style scoped>\n",
       "    .dataframe tbody tr th:only-of-type {\n",
       "        vertical-align: middle;\n",
       "    }\n",
       "\n",
       "    .dataframe tbody tr th {\n",
       "        vertical-align: top;\n",
       "    }\n",
       "\n",
       "    .dataframe thead th {\n",
       "        text-align: right;\n",
       "    }\n",
       "</style>\n",
       "<table border=\"1\" class=\"dataframe\">\n",
       "  <thead>\n",
       "    <tr style=\"text-align: right;\">\n",
       "      <th></th>\n",
       "      <th>ID_x</th>\n",
       "      <th>Wavelengths within Range</th>\n",
       "      <th>Fluxes within Range</th>\n",
       "      <th>Mean Wavelengths</th>\n",
       "      <th>Sum Fluxes</th>\n",
       "      <th>ID_y</th>\n",
       "      <th>FileID</th>\n",
       "      <th>Flux_slit</th>\n",
       "    </tr>\n",
       "  </thead>\n",
       "  <tbody>\n",
       "    <tr>\n",
       "      <th>0</th>\n",
       "      <td>SMC-SMP-1</td>\n",
       "      <td>(6553.0637408641605, 6567.821537038354, 6583.1...</td>\n",
       "      <td>(1.2022578610051685e-14, 5.494703046298636e-13...</td>\n",
       "      <td>6573.119863</td>\n",
       "      <td>6.004163e-13</td>\n",
       "      <td>iDR4_3_MC0113_0054489</td>\n",
       "      <td>SMC-SMP-1</td>\n",
       "      <td>5.720376e-13</td>\n",
       "    </tr>\n",
       "    <tr>\n",
       "      <th>1</th>\n",
       "      <td>SMC-SMP-2</td>\n",
       "      <td>(6553.51000174078, 6565.416766635332, 6568.098...</td>\n",
       "      <td>(5.462622213390637e-15, -4.161905026811382e-10...</td>\n",
       "      <td>6568.973895</td>\n",
       "      <td>-4.156493e-10</td>\n",
       "      <td>iDR4_3_MC0093_0237121</td>\n",
       "      <td>SMC-SMP-2</td>\n",
       "      <td>5.614099e-13</td>\n",
       "    </tr>\n",
       "    <tr>\n",
       "      <th>2</th>\n",
       "      <td>SMC-SMP-13</td>\n",
       "      <td>(6553.400605080448, 6568.11135794641, 6583.508...</td>\n",
       "      <td>(7.68697740521025e-15, 8.259523934973338e-13, ...</td>\n",
       "      <td>6573.444339</td>\n",
       "      <td>8.589688e-13</td>\n",
       "      <td>iDR4_3_MC0115_1053289</td>\n",
       "      <td>SMC-SMP-13</td>\n",
       "      <td>8.170498e-13</td>\n",
       "    </tr>\n",
       "    <tr>\n",
       "      <th>3</th>\n",
       "      <td>SMC-SMP-18</td>\n",
       "      <td>(6552.770059305075, 6567.507477808056, 6582.79...</td>\n",
       "      <td>(1.5436682368707992e-14, 7.252845636297283e-13...</td>\n",
       "      <td>6572.808842</td>\n",
       "      <td>7.908235e-13</td>\n",
       "      <td>iDR4_3_MC0115_0671498</td>\n",
       "      <td>SMC-SMP-18</td>\n",
       "      <td>7.686083e-13</td>\n",
       "    </tr>\n",
       "    <tr>\n",
       "      <th>4</th>\n",
       "      <td>SMC-SMP-20</td>\n",
       "      <td>(6552.103504840201, 6566.849310471623, 6582.10...</td>\n",
       "      <td>(3.756015626893724e-15, 1.1170046716796211e-12...</td>\n",
       "      <td>6572.122006</td>\n",
       "      <td>1.134213e-12</td>\n",
       "      <td>iDR4_3_MC0048_0001615</td>\n",
       "      <td>SMC-SMP-20</td>\n",
       "      <td>1.061360e-12</td>\n",
       "    </tr>\n",
       "    <tr>\n",
       "      <th>5</th>\n",
       "      <td>SMC-SMP-24</td>\n",
       "      <td>(6552.888838775578, 6567.652267536342, 6588.28...</td>\n",
       "      <td>(1.2841874899416144e-14, 6.396599150665972e-13...</td>\n",
       "      <td>6569.609442</td>\n",
       "      <td>6.920642e-13</td>\n",
       "      <td>iDR4_3_MC0094_0183910</td>\n",
       "      <td>SMC-SMP-24</td>\n",
       "      <td>7.005829e-13</td>\n",
       "    </tr>\n",
       "    <tr>\n",
       "      <th>6</th>\n",
       "      <td>SMC-SMP-25</td>\n",
       "      <td>(6552.980160567651, 6565.102701166069, 6567.85...</td>\n",
       "      <td>(8.506910043029823e-15, -6.46469115250165e-11,...</td>\n",
       "      <td>6568.585490</td>\n",
       "      <td>-6.443660e-11</td>\n",
       "      <td>iDR4_3_MC0094_0213041</td>\n",
       "      <td>SMC-SMP-25</td>\n",
       "      <td>2.038957e-13</td>\n",
       "    </tr>\n",
       "  </tbody>\n",
       "</table>\n",
       "</div>"
      ],
      "text/plain": [
       "         ID_x                           Wavelengths within Range  \\\n",
       "0   SMC-SMP-1  (6553.0637408641605, 6567.821537038354, 6583.1...   \n",
       "1   SMC-SMP-2  (6553.51000174078, 6565.416766635332, 6568.098...   \n",
       "2  SMC-SMP-13  (6553.400605080448, 6568.11135794641, 6583.508...   \n",
       "3  SMC-SMP-18  (6552.770059305075, 6567.507477808056, 6582.79...   \n",
       "4  SMC-SMP-20  (6552.103504840201, 6566.849310471623, 6582.10...   \n",
       "5  SMC-SMP-24  (6552.888838775578, 6567.652267536342, 6588.28...   \n",
       "6  SMC-SMP-25  (6552.980160567651, 6565.102701166069, 6567.85...   \n",
       "\n",
       "                                 Fluxes within Range  Mean Wavelengths  \\\n",
       "0  (1.2022578610051685e-14, 5.494703046298636e-13...       6573.119863   \n",
       "1  (5.462622213390637e-15, -4.161905026811382e-10...       6568.973895   \n",
       "2  (7.68697740521025e-15, 8.259523934973338e-13, ...       6573.444339   \n",
       "3  (1.5436682368707992e-14, 7.252845636297283e-13...       6572.808842   \n",
       "4  (3.756015626893724e-15, 1.1170046716796211e-12...       6572.122006   \n",
       "5  (1.2841874899416144e-14, 6.396599150665972e-13...       6569.609442   \n",
       "6  (8.506910043029823e-15, -6.46469115250165e-11,...       6568.585490   \n",
       "\n",
       "     Sum Fluxes                   ID_y      FileID     Flux_slit  \n",
       "0  6.004163e-13  iDR4_3_MC0113_0054489   SMC-SMP-1  5.720376e-13  \n",
       "1 -4.156493e-10  iDR4_3_MC0093_0237121   SMC-SMP-2  5.614099e-13  \n",
       "2  8.589688e-13  iDR4_3_MC0115_1053289  SMC-SMP-13  8.170498e-13  \n",
       "3  7.908235e-13  iDR4_3_MC0115_0671498  SMC-SMP-18  7.686083e-13  \n",
       "4  1.134213e-12  iDR4_3_MC0048_0001615  SMC-SMP-20  1.061360e-12  \n",
       "5  6.920642e-13  iDR4_3_MC0094_0183910  SMC-SMP-24  7.005829e-13  \n",
       "6 -6.443660e-11  iDR4_3_MC0094_0213041  SMC-SMP-25  2.038957e-13  "
      ]
     },
     "execution_count": 10,
     "metadata": {},
     "output_type": "execute_result"
    }
   ],
   "source": [
    "merged_df"
   ]
  },
  {
   "cell_type": "code",
   "execution_count": 11,
   "id": "3a821889",
   "metadata": {},
   "outputs": [],
   "source": [
    "# Sample data\n",
    "x = np.linspace(0, 10, 100)  # Generate 100 points between 0 and 10\n",
    "y = x  # Identity line: y equals x"
   ]
  },
  {
   "cell_type": "code",
   "execution_count": 12,
   "id": "f49d5065",
   "metadata": {},
   "outputs": [
    {
     "data": {
      "text/plain": [
       "(5.5e-14, 1.4e-12)"
      ]
     },
     "execution_count": 12,
     "metadata": {},
     "output_type": "execute_result"
    },
    {
     "data": {
      "image/png": "[encoded data removed]",
      "text/plain": [
       "<Figure size 640x480 with 1 Axes>"
      ]
     },
     "metadata": {},
     "output_type": "display_data"
    }
   ],
   "source": [
    "plt.plot(merged_df[\"Sum Fluxes\"], merged_df[\"Flux_slit\"], \"o\")\n",
    "# Create a plot\n",
    "plt.plot(x, y, label='Identity Line', color='red')\n",
    "plt.xlim(0.55e-13, 14e-13)\n",
    "plt.ylim(0.55e-13, 14e-13)"
   ]
  },
  {
   "cell_type": "markdown",
   "id": "f2138f2f",
   "metadata": {},
   "source": [
    "# Only the Halpha and [N II] lines"
   ]
  },
  {
   "cell_type": "code",
   "execution_count": 13,
   "id": "7863b9e0",
   "metadata": {},
   "outputs": [],
   "source": [
    "# Spectra VLT\n",
    "table_spec = Table.read(\"../flux-halpha-Nii.ecsv\", format=\"ascii.ecsv\")"
   ]
  },
  {
   "cell_type": "code",
   "execution_count": 14,
   "id": "e2eb21d3",
   "metadata": {},
   "outputs": [
    {
     "data": {
      "text/html": [
       "<div><i>Table length=8</i>\n",
       "<table id=\"table140532499982368\" class=\"table-striped table-bordered table-condensed\">\n",
       "<thead><tr><th>Extension Name</th><th>Wl mean</th><th>Fluxes</th></tr></thead>\n",
       "<thead><tr><th>str10</th><th>float64</th><th>float64</th></tr></thead>\n",
       "<tr><td>SMC-SMP-1</td><td>6566.586666666667</td><td>5.984076963273202e-13</td></tr>\n",
       "<tr><td>SMC-SMP-2</td><td>6566.586666666667</td><td>5.411585907230613e-13</td></tr>\n",
       "<tr><td>SMC-SMP-8</td><td>6566.586666666667</td><td>4.852685943849795e-13</td></tr>\n",
       "<tr><td>SMC-SMP-13</td><td>6566.586666666667</td><td>8.578245477687001e-13</td></tr>\n",
       "<tr><td>SMC-SMP-18</td><td>6566.586666666667</td><td>7.894196143150355e-13</td></tr>\n",
       "<tr><td>SMC-SMP-20</td><td>6566.586666666667</td><td>1.1316977042869106e-12</td></tr>\n",
       "<tr><td>SMC-SMP-24</td><td>6566.586666666667</td><td>6.920642297568457e-13</td></tr>\n",
       "<tr><td>SMC-SMP-25</td><td>6566.586666666667</td><td>2.103127193781976e-13</td></tr>\n",
       "</table></div>"
      ],
      "text/plain": [
       "<Table length=8>\n",
       "Extension Name      Wl mean              Fluxes        \n",
       "    str10           float64             float64        \n",
       "-------------- ----------------- ----------------------\n",
       "     SMC-SMP-1 6566.586666666667  5.984076963273202e-13\n",
       "     SMC-SMP-2 6566.586666666667  5.411585907230613e-13\n",
       "     SMC-SMP-8 6566.586666666667  4.852685943849795e-13\n",
       "    SMC-SMP-13 6566.586666666667  8.578245477687001e-13\n",
       "    SMC-SMP-18 6566.586666666667  7.894196143150355e-13\n",
       "    SMC-SMP-20 6566.586666666667 1.1316977042869106e-12\n",
       "    SMC-SMP-24 6566.586666666667  6.920642297568457e-13\n",
       "    SMC-SMP-25 6566.586666666667  2.103127193781976e-13"
      ]
     },
     "execution_count": 14,
     "metadata": {},
     "output_type": "execute_result"
    }
   ],
   "source": [
    "table_spec"
   ]
  },
  {
   "cell_type": "code",
   "execution_count": 15,
   "id": "d7023fba",
   "metadata": {},
   "outputs": [],
   "source": [
    "df3 = table_spec.to_pandas()"
   ]
  },
  {
   "cell_type": "code",
   "execution_count": 16,
   "id": "c31a87fb",
   "metadata": {},
   "outputs": [],
   "source": [
    "# Merge DataFrames on common columns\n",
    "merged_df3 = pd.merge(df3, df2, left_on='Extension Name', right_on='FileID', how='inner')"
   ]
  },
  {
   "cell_type": "code",
   "execution_count": 17,
   "id": "13a006eb",
   "metadata": {},
   "outputs": [
    {
     "data": {
      "text/html": [
       "<div>\n",
       "<style scoped>\n",
       "    .dataframe tbody tr th:only-of-type {\n",
       "        vertical-align: middle;\n",
       "    }\n",
       "\n",
       "    .dataframe tbody tr th {\n",
       "        vertical-align: top;\n",
       "    }\n",
       "\n",
       "    .dataframe thead th {\n",
       "        text-align: right;\n",
       "    }\n",
       "</style>\n",
       "<table border=\"1\" class=\"dataframe\">\n",
       "  <thead>\n",
       "    <tr style=\"text-align: right;\">\n",
       "      <th></th>\n",
       "      <th>Extension Name</th>\n",
       "      <th>Wl mean</th>\n",
       "      <th>Fluxes</th>\n",
       "      <th>ID</th>\n",
       "      <th>FileID</th>\n",
       "      <th>Flux_slit</th>\n",
       "    </tr>\n",
       "  </thead>\n",
       "  <tbody>\n",
       "    <tr>\n",
       "      <th>0</th>\n",
       "      <td>SMC-SMP-1</td>\n",
       "      <td>6566.586667</td>\n",
       "      <td>5.984077e-13</td>\n",
       "      <td>iDR4_3_MC0113_0054489</td>\n",
       "      <td>SMC-SMP-1</td>\n",
       "      <td>5.720376e-13</td>\n",
       "    </tr>\n",
       "    <tr>\n",
       "      <th>1</th>\n",
       "      <td>SMC-SMP-2</td>\n",
       "      <td>6566.586667</td>\n",
       "      <td>5.411586e-13</td>\n",
       "      <td>iDR4_3_MC0093_0237121</td>\n",
       "      <td>SMC-SMP-2</td>\n",
       "      <td>5.614099e-13</td>\n",
       "    </tr>\n",
       "    <tr>\n",
       "      <th>2</th>\n",
       "      <td>SMC-SMP-13</td>\n",
       "      <td>6566.586667</td>\n",
       "      <td>8.578245e-13</td>\n",
       "      <td>iDR4_3_MC0115_1053289</td>\n",
       "      <td>SMC-SMP-13</td>\n",
       "      <td>8.170498e-13</td>\n",
       "    </tr>\n",
       "    <tr>\n",
       "      <th>3</th>\n",
       "      <td>SMC-SMP-18</td>\n",
       "      <td>6566.586667</td>\n",
       "      <td>7.894196e-13</td>\n",
       "      <td>iDR4_3_MC0115_0671498</td>\n",
       "      <td>SMC-SMP-18</td>\n",
       "      <td>7.686083e-13</td>\n",
       "    </tr>\n",
       "    <tr>\n",
       "      <th>4</th>\n",
       "      <td>SMC-SMP-20</td>\n",
       "      <td>6566.586667</td>\n",
       "      <td>1.131698e-12</td>\n",
       "      <td>iDR4_3_MC0048_0001615</td>\n",
       "      <td>SMC-SMP-20</td>\n",
       "      <td>1.061360e-12</td>\n",
       "    </tr>\n",
       "    <tr>\n",
       "      <th>5</th>\n",
       "      <td>SMC-SMP-24</td>\n",
       "      <td>6566.586667</td>\n",
       "      <td>6.920642e-13</td>\n",
       "      <td>iDR4_3_MC0094_0183910</td>\n",
       "      <td>SMC-SMP-24</td>\n",
       "      <td>7.005829e-13</td>\n",
       "    </tr>\n",
       "    <tr>\n",
       "      <th>6</th>\n",
       "      <td>SMC-SMP-25</td>\n",
       "      <td>6566.586667</td>\n",
       "      <td>2.103127e-13</td>\n",
       "      <td>iDR4_3_MC0094_0213041</td>\n",
       "      <td>SMC-SMP-25</td>\n",
       "      <td>2.038957e-13</td>\n",
       "    </tr>\n",
       "  </tbody>\n",
       "</table>\n",
       "</div>"
      ],
      "text/plain": [
       "  Extension Name      Wl mean        Fluxes                     ID  \\\n",
       "0      SMC-SMP-1  6566.586667  5.984077e-13  iDR4_3_MC0113_0054489   \n",
       "1      SMC-SMP-2  6566.586667  5.411586e-13  iDR4_3_MC0093_0237121   \n",
       "2     SMC-SMP-13  6566.586667  8.578245e-13  iDR4_3_MC0115_1053289   \n",
       "3     SMC-SMP-18  6566.586667  7.894196e-13  iDR4_3_MC0115_0671498   \n",
       "4     SMC-SMP-20  6566.586667  1.131698e-12  iDR4_3_MC0048_0001615   \n",
       "5     SMC-SMP-24  6566.586667  6.920642e-13  iDR4_3_MC0094_0183910   \n",
       "6     SMC-SMP-25  6566.586667  2.103127e-13  iDR4_3_MC0094_0213041   \n",
       "\n",
       "       FileID     Flux_slit  \n",
       "0   SMC-SMP-1  5.720376e-13  \n",
       "1   SMC-SMP-2  5.614099e-13  \n",
       "2  SMC-SMP-13  8.170498e-13  \n",
       "3  SMC-SMP-18  7.686083e-13  \n",
       "4  SMC-SMP-20  1.061360e-12  \n",
       "5  SMC-SMP-24  7.005829e-13  \n",
       "6  SMC-SMP-25  2.038957e-13  "
      ]
     },
     "execution_count": 17,
     "metadata": {},
     "output_type": "execute_result"
    }
   ],
   "source": [
    "merged_df3"
   ]
  },
  {
   "cell_type": "code",
   "execution_count": 18,
   "id": "17e53e4f",
   "metadata": {},
   "outputs": [
    {
     "data": {
      "text/plain": [
       "Text(0, 0.5, 'F_splus(H$\\\\alpha$ + [NII])')"
      ]
     },
     "execution_count": 18,
     "metadata": {},
     "output_type": "execute_result"
    },
    {
     "data": {
      "image/png": "[encoded data removed]",
      "text/plain": [
       "<Figure size 640x480 with 1 Axes>"
      ]
     },
     "metadata": {},
     "output_type": "display_data"
    }
   ],
   "source": [
    "plt.plot(merged_df3[\"Fluxes\"], merged_df3[\"Flux_slit\"], \"o\")\n",
    "# Create a plot\n",
    "plt.plot(x, y, label='Identity Line', color='red')\n",
    "plt.xlim(0.55e-13, 14e-13)\n",
    "plt.ylim(0.55e-13, 14e-13)\n",
    "plt.xlabel(r'F_spec(H$\\alpha$ + [NII])')\n",
    "plt.ylabel(r'F_splus(H$\\alpha$ + [NII])')"
   ]
  },
  {
   "cell_type": "code",
   "execution_count": 33,
   "id": "a460f28f",
   "metadata": {},
   "outputs": [
    {
     "data": {
      "image/png": "[encoded data removed]",
      "text/plain": [
       "<Figure size 800x600 with 1 Axes>"
      ]
     },
     "metadata": {},
     "output_type": "display_data"
    }
   ],
   "source": [
    "\n",
    "# Create a scatter plot\n",
    "plt.figure(figsize=(8, 6))\n",
    "plt.scatter(\n",
    "    merged_df3[\"Fluxes\"], merged_df3[\"Flux_slit\"],\n",
    "    color='skyblue',\n",
    "    edgecolors='darkblue',\n",
    "    alpha=0.7,  # Set transparency\n",
    "    s=100,  # Set marker size\n",
    "    label='PNe',\n",
    ")\n",
    "\n",
    "\n",
    "# Add the identity line (y = x)\n",
    "plt.plot([-3, 3], [-3, 3], color='red', linestyle='--', label='Identity Line')\n",
    "\n",
    "# Set labels and title\n",
    "plt.xlabel(r'F(H$\\alpha$ + [NII]), Spec (VLT)',  fontsize=15)\n",
    "plt.ylabel(r'F (H$\\alpha$ + [NII]), SPLUS',  fontsize=15)\n",
    "plt.xlim(0.55e-13, 14e-13)\n",
    "plt.ylim(0.55e-13, 14e-13)\n",
    "#plt.title('Comparison of Two Measurements')\n",
    "plt.tick_params(axis='x', labelsize=15) \n",
    "plt.tick_params(axis='y', labelsize=15)\n",
    "\n",
    "# Add legend\n",
    "plt.legend(fontsize=\"x-large\")\n",
    "\n",
    "# Show plot\n",
    "plt.grid(True)\n",
    "plt.show()"
   ]
  },
  {
   "cell_type": "code",
   "execution_count": null,
   "id": "65af0bd3",
   "metadata": {},
   "outputs": [],
   "source": []
  }
 ],
 "metadata": {
  "kernelspec": {
   "display_name": "Python 3 (ipykernel)",
   "language": "python",
   "name": "python3"
  },
  "language_info": {
   "codemirror_mode": {
    "name": "ipython",
    "version": 3
   },
   "file_extension": ".py",
   "mimetype": "text/x-python",
   "name": "python",
   "nbconvert_exporter": "python",
   "pygments_lexer": "ipython3",
   "version": "3.8.5"
  }
 },
 "nbformat": 4,
 "nbformat_minor": 5
}

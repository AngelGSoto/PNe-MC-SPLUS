{
 "cells": [
  {
   "cell_type": "code",
   "execution_count": 1,
   "id": "6f4c7c90",
   "metadata": {},
   "outputs": [
    {
     "ename": "ImportError",
     "evalue": "cannot import name 'update_default_config' from 'astropy.config.configuration' (/home/luis/anaconda3/envs/my-env/lib/python3.9/site-packages/astropy/config/configuration.py)",
     "output_type": "error",
     "traceback": [
      "\u001b[0;31m---------------------------------------------------------------------------\u001b[0m",
      "\u001b[0;31mImportError\u001b[0m                               Traceback (most recent call last)",
      "Cell \u001b[0;32mIn[1], line 6\u001b[0m\n\u001b[1;32m      4\u001b[0m \u001b[38;5;28;01mimport\u001b[39;00m \u001b[38;5;21;01mmatplotlib\u001b[39;00m\u001b[38;5;21;01m.\u001b[39;00m\u001b[38;5;21;01mpyplot\u001b[39;00m \u001b[38;5;28;01mas\u001b[39;00m \u001b[38;5;21;01mplt\u001b[39;00m\n\u001b[1;32m      5\u001b[0m \u001b[38;5;28;01mfrom\u001b[39;00m \u001b[38;5;21;01mmatplotlib\u001b[39;00m\u001b[38;5;21;01m.\u001b[39;00m\u001b[38;5;21;01mtransforms\u001b[39;00m \u001b[38;5;28;01mimport\u001b[39;00m Affine2D\n\u001b[0;32m----> 6\u001b[0m \u001b[38;5;28;01mimport\u001b[39;00m \u001b[38;5;21;01maplpy\u001b[39;00m\n\u001b[1;32m      7\u001b[0m \u001b[38;5;28;01mfrom\u001b[39;00m \u001b[38;5;21;01mmatplotlib\u001b[39;00m\u001b[38;5;21;01m.\u001b[39;00m\u001b[38;5;21;01mpatches\u001b[39;00m \u001b[38;5;28;01mimport\u001b[39;00m Rectangle\n\u001b[1;32m      8\u001b[0m \u001b[38;5;28;01mfrom\u001b[39;00m \u001b[38;5;21;01mastropy\u001b[39;00m\u001b[38;5;21;01m.\u001b[39;00m\u001b[38;5;21;01mvisualization\u001b[39;00m \u001b[38;5;28;01mimport\u001b[39;00m (MinMaxInterval, AsinhStretch)\n",
      "File \u001b[0;32m~/anaconda3/envs/my-env/lib/python3.9/site-packages/aplpy/__init__.py:9\u001b[0m\n\u001b[1;32m      2\u001b[0m \u001b[38;5;124;03m\"\"\"\u001b[39;00m\n\u001b[1;32m      3\u001b[0m \u001b[38;5;124;03mAPLpy : Astronomical Plotting Library in Python\u001b[39;00m\n\u001b[1;32m      4\u001b[0m \u001b[38;5;124;03m\"\"\"\u001b[39;00m\n\u001b[1;32m      6\u001b[0m \u001b[38;5;66;03m# Affiliated packages may add whatever they like to this file, but\u001b[39;00m\n\u001b[1;32m      7\u001b[0m \u001b[38;5;66;03m# should keep this content at the top.\u001b[39;00m\n\u001b[1;32m      8\u001b[0m \u001b[38;5;66;03m# ----------------------------------------------------------------------------\u001b[39;00m\n\u001b[0;32m----> 9\u001b[0m \u001b[38;5;28;01mfrom\u001b[39;00m \u001b[38;5;21;01m.\u001b[39;00m\u001b[38;5;21;01m_astropy_init\u001b[39;00m \u001b[38;5;28;01mimport\u001b[39;00m \u001b[38;5;241m*\u001b[39m  \u001b[38;5;66;03m# noqa\u001b[39;00m\n\u001b[1;32m     10\u001b[0m \u001b[38;5;66;03m# ----------------------------------------------------------------------------\u001b[39;00m\n\u001b[1;32m     12\u001b[0m \u001b[38;5;28;01mif\u001b[39;00m \u001b[38;5;129;01mnot\u001b[39;00m _ASTROPY_SETUP_:  \u001b[38;5;66;03m# noqa\u001b[39;00m\n",
      "File \u001b[0;32m~/anaconda3/envs/my-env/lib/python3.9/site-packages/aplpy/_astropy_init.py:21\u001b[0m\n\u001b[1;32m     19\u001b[0m \u001b[38;5;28;01mimport\u001b[39;00m \u001b[38;5;21;01mos\u001b[39;00m\n\u001b[1;32m     20\u001b[0m \u001b[38;5;28;01mfrom\u001b[39;00m \u001b[38;5;21;01mwarnings\u001b[39;00m \u001b[38;5;28;01mimport\u001b[39;00m warn\n\u001b[0;32m---> 21\u001b[0m \u001b[38;5;28;01mfrom\u001b[39;00m \u001b[38;5;21;01mastropy\u001b[39;00m\u001b[38;5;21;01m.\u001b[39;00m\u001b[38;5;21;01mconfig\u001b[39;00m\u001b[38;5;21;01m.\u001b[39;00m\u001b[38;5;21;01mconfiguration\u001b[39;00m \u001b[38;5;28;01mimport\u001b[39;00m (\n\u001b[1;32m     22\u001b[0m     update_default_config,\n\u001b[1;32m     23\u001b[0m     ConfigurationDefaultMissingError,\n\u001b[1;32m     24\u001b[0m     ConfigurationDefaultMissingWarning)\n\u001b[1;32m     26\u001b[0m \u001b[38;5;66;03m# Create the test function for self test\u001b[39;00m\n\u001b[1;32m     27\u001b[0m \u001b[38;5;28;01mfrom\u001b[39;00m \u001b[38;5;21;01mastropy\u001b[39;00m\u001b[38;5;21;01m.\u001b[39;00m\u001b[38;5;21;01mtests\u001b[39;00m\u001b[38;5;21;01m.\u001b[39;00m\u001b[38;5;21;01mrunner\u001b[39;00m \u001b[38;5;28;01mimport\u001b[39;00m TestRunner\n",
      "\u001b[0;31mImportError\u001b[0m: cannot import name 'update_default_config' from 'astropy.config.configuration' (/home/luis/anaconda3/envs/my-env/lib/python3.9/site-packages/astropy/config/configuration.py)"
     ]
    }
   ],
   "source": [
    "import numpy as np\n",
    "from astropy.io import fits\n",
    "from scipy.ndimage import rotate\n",
    "import matplotlib.pyplot as plt\n",
    "from matplotlib.transforms import Affine2D\n",
    "import aplpy\n",
    "from matplotlib.patches import Rectangle\n",
    "from astropy.visualization import (MinMaxInterval, AsinhStretch)\n",
    "from astropy.wcs import WCS\n",
    "from astropy.visualization import wcsaxes\n",
    "from astropy import units as u\n",
    "import pandas as pd\n",
    "from astropy.table import Table, hstack\n",
    "from astropy.table import join\n",
    "import os"
   ]
  },
  {
   "cell_type": "code",
   "execution_count": null,
   "id": "d0f935c9",
   "metadata": {},
   "outputs": [],
   "source": [
    "# Spectra VLT\n",
    "df_spec = pd.read_csv(\"../flux-around-halpha.csv\")"
   ]
  },
  {
   "cell_type": "code",
   "execution_count": null,
   "id": "e9e39049",
   "metadata": {},
   "outputs": [],
   "source": [
    "# Convert Pandas DataFrame 'df' to Astropy Table\n",
    "table_spc = Table.from_pandas(df_spec)\n",
    "table_spc"
   ]
  },
  {
   "cell_type": "code",
   "execution_count": null,
   "id": "71eea858",
   "metadata": {},
   "outputs": [],
   "source": [
    "# Spectra VLT\n",
    "table_img = Table.read(\"../flux-pseudoslit-halpha.ecsv\", format=\"ascii.ecsv\")"
   ]
  },
  {
   "cell_type": "code",
   "execution_count": null,
   "id": "48a7cac7",
   "metadata": {},
   "outputs": [],
   "source": [
    "table_img"
   ]
  },
  {
   "cell_type": "code",
   "execution_count": null,
   "id": "f8eb4628",
   "metadata": {},
   "outputs": [],
   "source": []
  },
  {
   "cell_type": "code",
   "execution_count": null,
   "id": "066d1168",
   "metadata": {},
   "outputs": [],
   "source": [
    "# Renaming the columns in table_spc to match table_img\n",
    "table_spc.rename_column('Extension Name', 'ID')\n",
    "table_img.rename_column('Name spec', 'FileID')\n",
    "table_img[\"FileID\"]"
   ]
  },
  {
   "cell_type": "code",
   "execution_count": null,
   "id": "ec2cbce2",
   "metadata": {},
   "outputs": [],
   "source": [
    "# Convert Astropy tables to Pandas DataFrames\n",
    "df1 = table_spc.to_pandas()\n",
    "df2 = table_img.to_pandas()"
   ]
  },
  {
   "cell_type": "code",
   "execution_count": null,
   "id": "1584bab7",
   "metadata": {},
   "outputs": [],
   "source": [
    "df1"
   ]
  },
  {
   "cell_type": "code",
   "execution_count": null,
   "id": "c051187a",
   "metadata": {},
   "outputs": [],
   "source": [
    "#Assuming merged_df3 is your DataFrame\n",
    "constant_error = 0.2 * df2[\"Flux_slit\"]  # 20% of Flux_slit\n",
    "df2[\"Constant_Err\"] = constant_error  # Assign the calculated error to a new column"
   ]
  },
  {
   "cell_type": "code",
   "execution_count": null,
   "id": "881aa80b",
   "metadata": {},
   "outputs": [],
   "source": [
    "df2"
   ]
  },
  {
   "cell_type": "code",
   "execution_count": null,
   "id": "e963e1cc",
   "metadata": {},
   "outputs": [],
   "source": [
    "# Merge DataFrames on common columns\n",
    "merged_df = pd.merge(df1, df2, left_on='ID', right_on='FileID', how='inner')"
   ]
  },
  {
   "cell_type": "code",
   "execution_count": null,
   "id": "ba9caad4",
   "metadata": {},
   "outputs": [],
   "source": [
    "merged_df"
   ]
  },
  {
   "cell_type": "code",
   "execution_count": null,
   "id": "3a821889",
   "metadata": {},
   "outputs": [],
   "source": [
    "# Sample data\n",
    "x = np.linspace(0, 10, 100)  # Generate 100 points between 0 and 10\n",
    "y = x  # Identity line: y equals x"
   ]
  },
  {
   "cell_type": "code",
   "execution_count": null,
   "id": "f49d5065",
   "metadata": {},
   "outputs": [],
   "source": [
    "plt.plot(merged_df[\"Sum Fluxes\"], merged_df[\"Flux_slit\"], \"o\")\n",
    "# Create a plot\n",
    "plt.plot(x, y, label='Identity Line', color='red')\n",
    "plt.xlim(0.55e-13, 14e-13)\n",
    "plt.ylim(0.55e-13, 14e-13)"
   ]
  },
  {
   "cell_type": "markdown",
   "id": "f2138f2f",
   "metadata": {},
   "source": [
    "# Only the Halpha and [N II] lines"
   ]
  },
  {
   "cell_type": "code",
   "execution_count": null,
   "id": "7863b9e0",
   "metadata": {},
   "outputs": [],
   "source": [
    "# Spectra VLT\n",
    "table_spec = Table.read(\"../flux-halpha-Nii.ecsv\", format=\"ascii.ecsv\")"
   ]
  },
  {
   "cell_type": "code",
   "execution_count": null,
   "id": "04bb0103",
   "metadata": {},
   "outputs": [],
   "source": []
  },
  {
   "cell_type": "code",
   "execution_count": null,
   "id": "e2eb21d3",
   "metadata": {},
   "outputs": [],
   "source": [
    "table_spec"
   ]
  },
  {
   "cell_type": "code",
   "execution_count": null,
   "id": "d7023fba",
   "metadata": {},
   "outputs": [],
   "source": [
    "df3 = table_spec.to_pandas()"
   ]
  },
  {
   "cell_type": "code",
   "execution_count": null,
   "id": "c31a87fb",
   "metadata": {},
   "outputs": [],
   "source": [
    "# Merge DataFrames on common columns\n",
    "merged_df3 = pd.merge(df3, df2, left_on='Extension Name', right_on='FileID', how='inner')"
   ]
  },
  {
   "cell_type": "code",
   "execution_count": null,
   "id": "13a006eb",
   "metadata": {},
   "outputs": [],
   "source": [
    "merged_df3"
   ]
  },
  {
   "cell_type": "code",
   "execution_count": null,
   "id": "17e53e4f",
   "metadata": {},
   "outputs": [],
   "source": [
    "plt.plot(merged_df3[\"Fluxes\"], merged_df3[\"Flux_slit\"], \"o\")\n",
    "# Create a plot\n",
    "plt.plot(x, y, label='Identity Line', color='red')\n",
    "plt.xlim(0.55e-13, 14e-13)\n",
    "plt.ylim(0.55e-13, 14e-13)\n",
    "plt.xlabel(r'F_spec(H$\\alpha$ + [NII])')\n",
    "plt.ylabel(r'F_splus(H$\\alpha$ + [NII])')"
   ]
  },
  {
   "cell_type": "code",
   "execution_count": null,
   "id": "a460f28f",
   "metadata": {},
   "outputs": [],
   "source": [
    "# Assuming merged_df3[\"Fluxes\"] and merged_df3[\"Flux_slit\"] are your measurements\n",
    "differences = merged_df3[\"Flux_slit\"] - merged_df3[\"Fluxes\"]\n",
    "means = (merged_df3[\"Flux_slit\"] + merged_df3[\"Fluxes\"]) / 2\n",
    "\n",
    "# Create a figure with three subplots: scatter plot, Bland-Altman plot, and histogram\n",
    "fig, (ax1, ax2, ax3) = plt.subplots(1, 3, figsize=(18, 6))\n",
    "\n",
    "# Scatter plot with error bars\n",
    "ax1.scatter(\n",
    "    merged_df3[\"Fluxes\"], merged_df3[\"Flux_slit\"],\n",
    "    color='skyblue',\n",
    "    edgecolors='darkblue',\n",
    "    alpha=0.7,  # Set transparency\n",
    "    s=150,  # Set marker size\n",
    "    label='PNe',\n",
    ")\n",
    "ax1.errorbar(\n",
    "    merged_df3[\"Fluxes\"], merged_df3[\"Flux_slit\"],\n",
    "    xerr=merged_df3[\"Err Fluxes\"],\n",
    "    fmt='none',  # No markers for error bars\n",
    "    ecolor='gray',  # Error bar color\n",
    "    capsize=5,  # Size of error bar caps\n",
    ")\n",
    "ax1.plot([-3, 3], [-3, 3], color='red', linestyle='--', label='Identity Line')\n",
    "ax1.set_xlabel(r'F(H$\\alpha$ + [NII]), Spec (VLT)', fontsize=15)\n",
    "ax1.set_ylabel(r'F (H$\\alpha$ + [NII]), SPLUS', fontsize=15)\n",
    "ax1.set_xlim(0.55e-13, 14e-13)\n",
    "ax1.set_ylim(0.55e-13, 14e-13)\n",
    "ax1.tick_params(axis='x', labelsize=15) \n",
    "ax1.tick_params(axis='y', labelsize=15)\n",
    "ax1.legend(fontsize=\"x-large\")\n",
    "ax1.grid(True)\n",
    "\n",
    "# Bland-Altman plot\n",
    "ax2.scatter(\n",
    "    merged_df3[\"Fluxes\"], differences,\n",
    "    color='skyblue',\n",
    "    edgecolors='darkblue',\n",
    "    alpha=0.7,  # Set transparency\n",
    "    s=150,  # Set marker size\n",
    "    label='Differences'\n",
    ")\n",
    "ax2.axhline(0, color='red', linestyle='--', label='Zero Difference')\n",
    "ax2.set_xlabel('Mean of Measurements')\n",
    "ax2.set_ylabel('Difference (Flux_slit - Fluxes)')\n",
    "ax2.set_title('Bland-Altman Plot')\n",
    "ax2.set_ylim(-1e-12, 1e-12)\n",
    "ax2.legend()\n",
    "ax2.grid(True)\n",
    "\n",
    "# Histogram\n",
    "ax3.hist(differences, color='skyblue', bins=20, alpha=0.7)\n",
    "ax3.set_xlabel('Difference (Flux_slit - Fluxes)')\n",
    "ax3.set_ylabel('Frequency')\n",
    "ax3.set_title('Difference Distribution')\n",
    "ax3.grid(True)\n",
    "\n",
    "plt.tight_layout()\n",
    "plt.show()\n"
   ]
  },
  {
   "cell_type": "code",
   "execution_count": null,
   "id": "65af0bd3",
   "metadata": {},
   "outputs": [],
   "source": [
    "# Create a scatter plot\n",
    "plt.figure(figsize=(8, 8))\n",
    "plt.scatter(\n",
    "    merged_df3[\"Fluxes\"]/1e-12, merged_df3[\"Flux_slit\"]/1e-12,\n",
    "    color='skyblue',\n",
    "    edgecolors='darkblue',\n",
    "    alpha=0.7,  # Set transparency\n",
    "    s=350,  # Set marker size\n",
    "    label='PNe',\n",
    ")\n",
    "\n",
    "# Add error bars to the scatter plot\n",
    "plt.errorbar(\n",
    "    merged_df3[\"Fluxes\"]/1e-12, merged_df3[\"Flux_slit\"]/1e-12,\n",
    "    xerr= merged_df3[\"Err Fluxes\"]/1e-12, yerr=merged_df3[\"Constant_Err\"]/1e-12,\n",
    "    fmt='none',  # No markers for error bars\n",
    "    ecolor='gray',  # Error bar color\n",
    "    capsize=5,  # Size of error bar caps\n",
    ")\n",
    "\n",
    "\n",
    "# Add the identity line (y = x)\n",
    "plt.plot([-3, 3], [-3, 3], color='red', linestyle='--', label='Identity Line')\n",
    "\n",
    "# Set labels and title\n",
    "plt.xlabel(r'F(H$\\alpha$ + [NII]), Spec (VLT)',  fontsize=18)\n",
    "plt.ylabel(r'F(H$\\alpha$ + [NII]), SPLUS',  fontsize=18)\n",
    "#plt.xlim(0.55e-13, 14e-13)\n",
    "#plt.ylim(0.55e-13, 14e-13)\n",
    "plt.xlim(0, 1.4)\n",
    "plt.ylim(0, 1.4)\n",
    "#plt.title('Comparison of Two Measurements')\n",
    "plt.tick_params(axis='x', labelsize=18) \n",
    "plt.tick_params(axis='y', labelsize=18)\n",
    "\n",
    "# Add legend\n",
    "plt.legend(fontsize=\"x-large\")\n",
    "\n",
    "# Show plot\n",
    "plt.grid(True)\n",
    "plt.savefig(\"../compare-splus-spec.pdf\")\n",
    "plt.show()\n"
   ]
  },
  {
   "cell_type": "code",
   "execution_count": null,
   "id": "5983397a",
   "metadata": {},
   "outputs": [],
   "source": [
    "# Create a scatter plot\n",
    "plt.figure(figsize=(12, 3))\n",
    "# Bland-Altman plot\n",
    "plt.scatter(\n",
    "    merged_df3[\"Fluxes\"], differences,\n",
    "    color='skyblue',\n",
    "    edgecolors='darkblue',\n",
    "    alpha=0.7,  # Set transparency\n",
    "    s=150,  # Set marker size\n",
    "    label='Differences'\n",
    ")\n",
    "plt.axhline(0, color='red', linestyle='--', label='Zero Difference')\n",
    "plt.ylim(-1e-12, 1e-12)\n",
    "\n",
    "\n",
    "# Set labels and title\n",
    "plt.xlabel(r'F(H$\\alpha$ + [NII]), Spec (VLT)',  fontsize=18)\n",
    "plt.ylabel(r'$\\Delta$F(H$\\alpha$ + [NII])',  fontsize=18)\n",
    "plt.xlim(0.55e-13, 14e-13)\n",
    "\n",
    "#plt.title('Comparison of Two Measurements')\n",
    "plt.tick_params(axis='x', labelsize=18) \n",
    "plt.tick_params(axis='y', labelsize=18)\n",
    "\n",
    "# Add legend\n",
    "plt.legend(fontsize=\"x-large\")\n",
    "\n",
    "# Show plot\n",
    "plt.grid(True)\n",
    "plt.savefig(\"../compare-splus-spec-diference.pdf\")\n",
    "plt.show()"
   ]
  },
  {
   "cell_type": "code",
   "execution_count": null,
   "id": "9a485960",
   "metadata": {},
   "outputs": [],
   "source": []
  },
  {
   "cell_type": "code",
   "execution_count": null,
   "id": "1a3dbb95",
   "metadata": {},
   "outputs": [],
   "source": []
  },
  {
   "cell_type": "code",
   "execution_count": null,
   "id": "8e750f94",
   "metadata": {},
   "outputs": [],
   "source": []
  },
  {
   "cell_type": "code",
   "execution_count": null,
   "id": "e5790ac0",
   "metadata": {},
   "outputs": [],
   "source": []
  }
 ],
 "metadata": {
  "kernelspec": {
   "display_name": "Python 3 (ipykernel)",
   "language": "python",
   "name": "python3"
  },
  "language_info": {
   "codemirror_mode": {
    "name": "ipython",
    "version": 3
   },
   "file_extension": ".py",
   "mimetype": "text/x-python",
   "name": "python",
   "nbconvert_exporter": "python",
   "pygments_lexer": "ipython3",
   "version": "3.9.19"
  }
 },
 "nbformat": 4,
 "nbformat_minor": 5
}
